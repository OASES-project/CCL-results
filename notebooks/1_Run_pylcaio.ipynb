{
 "cells": [
  {
   "cell_type": "code",
   "execution_count": 5,
   "id": "7b161a84-86fb-4b53-9dd1-b2efae0e4c00",
   "metadata": {},
   "outputs": [],
   "source": [
    "import pandas as pd\n",
    "import numpy as np\n",
    "\n",
    "import sys\n",
    "sys.path.append('/Users/ajakobs/Documents/python_packages/ecospold2matrix/')\n",
    "sys.path.append('/Users/ajakobs/Documents/python_packages/pylcaio/src/')\n",
    "import ecospold2matrix as e2m\n",
    "import pymrio\n",
    "import pylcaio\n",
    "\n",
    "import os\n",
    "import gzip\n",
    "import pickle\n",
    "import pandas as pd\n",
    "import itertools\n",
    "\n",
    "# from importlib import reload\n",
    "# import pdb\n",
    "import scipy.sparse"
   ]
  },
  {
   "cell_type": "code",
   "execution_count": 6,
   "id": "7b67b44a-e087-4971-9d81-3493d2346730",
   "metadata": {},
   "outputs": [
    {
     "name": "stderr",
     "output_type": "stream",
     "text": [
      "2023-02-27 22:17:58,467 - ecoinvent_39 - INFO - Ecospold2Matrix Processing\n",
      "fatal: not a git repository (or any of the parent directories): .git\n",
      "2023-02-27 22:17:58,527 - ecoinvent_39 - INFO - Project name: ecoinvent_39\n",
      "2023-02-27 22:17:58,529 - ecoinvent_39 - INFO - Unit process and Master data directory: /Users/ajakobs/Documents/data/ecoinvent/ecoinvent 3.9_cutoff_ecoSpold02/\n",
      "2023-02-27 22:17:58,530 - ecoinvent_39 - INFO - Data saved in: /Users/ajakobs/Documents/data/ecospold2matrix_matrices\n",
      "2023-02-27 22:17:58,532 - ecoinvent_39 - INFO - Sign conventions changed to make waste flows positive\n",
      "2023-02-27 22:17:58,534 - ecoinvent_39 - INFO - Replace Not-a-Number instances with 0.0 in all matrices\n",
      "2023-02-27 22:17:58,535 - ecoinvent_39 - INFO - Pickle intermediate results to files\n",
      "2023-02-27 22:17:58,537 - ecoinvent_39 - INFO - Order processes based on: ISIC, activityName\n",
      "2023-02-27 22:17:58,538 - ecoinvent_39 - INFO - Order elementary exchanges based on: comp, name, subcomp\n",
      "rm: ecoinvent_39_characterisation.db: No such file or directory\n",
      "2023-02-27 22:17:58,596 - ecoinvent_39 - WARNING - obs2char_subcomps constraints temporarily relaxed because not full recipe parsed\n",
      "2023-02-27 22:17:58,947 - ecoinvent_39 - INFO - Products extracted from IntermediateExchanges.xml with SHA-1 of 8b853170e1a5d123e1ab04a027d418e0291fe866\n",
      "2023-02-27 22:18:11,809 - ecoinvent_39 - INFO - Activities extracted from ActivityIndex.xml with SHA-1 of 9d47dac80519767a5c348f936a056376dcfdf006\n",
      "2023-02-27 22:18:12,075 - ecoinvent_39 - INFO - Processing 21255 files in /Users/ajakobs/Documents/data/ecoinvent/ecoinvent 3.9_cutoff_ecoSpold02/datasets\n",
      "2023-02-27 22:23:21,251 - ecoinvent_39 - INFO - Flows saved in /Users/ajakobs/Documents/data/ecoinvent/ecoinvent 3.9_cutoff_ecoSpold02/flows.pickle with SHA-1 of 19691a2e391f5f10ab476f4d7a10aec7c455ec35\n",
      "2023-02-27 22:23:21,568 - ecoinvent_39 - INFO - Processing 21255 files - this may take a while ...\n",
      "2023-02-27 22:27:05,177 - ecoinvent_39 - INFO - Elementary flows extracted from ElementaryExchanges.xml with SHA-1 of 27c0e0b63c47b26a4959143b0643aec37bb741a0\n",
      "2023-02-27 22:27:05,291 - ecoinvent_39 - INFO - Labels saved in /Users/ajakobs/Documents/data/ecoinvent/ecoinvent 3.9_cutoff_ecoSpold02/rawlabels.pickle with SHA-1 of 36d1f0050e456b191e7fac72805551168822a5e8\n",
      "2023-02-27 22:27:05,309 - ecoinvent_39 - INFO - OK.   No untraceable flows.\n",
      "2023-02-27 22:27:05,868 - ecoinvent_39 - INFO - OK. Source activities seem in order. Each product traceable to an activity that actually does produce or distribute this product.\n",
      "2023-02-27 22:27:06,609 - ecoinvent_39 - INFO - Starting to assemble the matrices\n",
      "2023-02-27 22:27:19,521 - ecoinvent_39 - INFO - fillna\n",
      "2023-02-27 22:27:42,349 - ecoinvent_39 - INFO - Starting normalizing matrices\n",
      "2023-02-27 22:30:07,254 - ecoinvent_39 - INFO - Characterisation file seems to be ecoinvent LCIA implementation. Will apply simple name matching\n",
      "2023-02-27 22:30:45,347 - ecoinvent_39 - INFO - Starting characterisation matching\n",
      "2023-02-27 22:30:49,495 - ecoinvent_39 - INFO - Characterisation matching done. C matrix created\n",
      "2023-02-27 22:30:49,517 - ecoinvent_39 - INFO - Starting to export to file\n",
      "2023-02-27 22:30:49,518 - ecoinvent_39 - INFO - about to write to file\n",
      "2023-02-28 07:02:13,897 - ecoinvent_39 - INFO - Final, symmetric, normalized matrices saved in /Users/ajakobs/Documents/data/ecospold2matrix_matrices/ecoinvent_39Pandas_symmNorm.gz.pickle with SHA-1 of 24aa722a099b7f9998e490eefad0b87383e54a72\n",
      "2023-02-28 07:02:13,915 - ecoinvent_39 - INFO - Done running ecospold2matrix.ecospold_to_Leontief\n"
     ]
    },
    {
     "name": "stdout",
     "output_type": "stream",
     "text": [
      "CPU times: user 10min 11s, sys: 47.2 s, total: 10min 58s\n",
      "Wall time: 8h 44min 15s\n"
     ]
    }
   ],
   "source": [
    "%%time\n",
    "\n",
    "#run ecospold2matrix\n",
    "ecospold_dir = '/Users/ajakobs/Documents/data/ecoinvent/ecoinvent 3.9_cutoff_ecoSpold02/'\n",
    "project_name = 'ecoinvent_39'\n",
    "out_dir = '/Users/ajakobs/Documents/data/ecospold2matrix_matrices/'\n",
    "\n",
    "parser = e2m.Ecospold2Matrix(ecospold_dir, project_name, out_dir, positive_waste=True, nan2null=True,\n",
    "                            characterisation_file=\n",
    "        '/Users/ajakobs/Documents/data/ecoinvent/ecoinvent 3.9_LCIA_implementation/LCIA Implementation 3.9.xlsx', )\n",
    "parser.ecospold_to_Leontief(fileformats='Pandas',with_absolute_flows=False)"
   ]
  },
  {
   "cell_type": "code",
   "execution_count": 7,
   "id": "26eff871-d61d-495b-8ed4-7c47ccf71b23",
   "metadata": {},
   "outputs": [
    {
     "name": "stdout",
     "output_type": "stream",
     "text": [
      "CPU times: user 6.64 s, sys: 1.52 s, total: 8.16 s\n",
      "Wall time: 8.67 s\n"
     ]
    }
   ],
   "source": [
    "%%time\n",
    "path_ecoinvent = '/Users/ajakobs/Documents/data/ecospold2matrix_matrices/ecoinvent_39Pandas_symmNorm.gz.pickle'\n",
    "with gzip.open(path_ecoinvent,'rb') as f:\n",
    "    ecoinvent = pd.read_pickle(f)\n"
   ]
  },
  {
   "cell_type": "code",
   "execution_count": 8,
   "id": "141db8fb-5b9f-4e51-b3ea-8bbb2816aaab",
   "metadata": {},
   "outputs": [
    {
     "name": "stdout",
     "output_type": "stream",
     "text": [
      "CPU times: user 1min 6s, sys: 6.76 s, total: 1min 12s\n",
      "Wall time: 1min 13s\n"
     ]
    }
   ],
   "source": [
    "%%time\n",
    "EXIOBASE_path = '/Users/ajakobs/Documents/data/EXIOBASE/EX_3_8_1/IOT_2015_pxp/'\n",
    "io = pymrio.parse_exiobase3(EXIOBASE_path)"
   ]
  },
  {
   "cell_type": "code",
   "execution_count": 10,
   "id": "a93af36e-d861-4823-9a91-69d7c2f91836",
   "metadata": {},
   "outputs": [
    {
     "name": "stdout",
     "output_type": "stream",
     "text": [
      "CPU times: user 9.08 s, sys: 1.38 s, total: 10.5 s\n",
      "Wall time: 10.9 s\n"
     ]
    }
   ],
   "source": [
    "%%time\n",
    "database_loader = pylcaio.DatabaseLoader(lca_database_processed=ecoinvent,\n",
    "                                         io_database_processed=io, \n",
    "                                         lca_database_name_and_version='ecoinvent3.9',\n",
    "                                         io_database_name_and_version='exiobase3')\n"
   ]
  },
  {
   "cell_type": "code",
   "execution_count": 11,
   "id": "87934973-3131-41f7-a6cc-2d9a203cc1f0",
   "metadata": {},
   "outputs": [
    {
     "name": "stdout",
     "output_type": "stream",
     "text": [
      "No path for the capital folder was provided. Capitals will not be endogenized\n",
      "CPU times: user 11min 39s, sys: 21.1 s, total: 12min\n",
      "Wall time: 1min 52s\n"
     ]
    }
   ],
   "source": [
    "%%time\n",
    "lcaio_object = database_loader.combine_ecoinvent_exiobase(complete_extensions=False, \n",
    "                                        impact_world=False, regionalized=False)"
   ]
  },
  {
   "cell_type": "code",
   "execution_count": 13,
   "id": "c9cb2589-5e04-4279-aace-cef7862cc4d6",
   "metadata": {},
   "outputs": [
    {
     "name": "stdout",
     "output_type": "stream",
     "text": [
      "Empty!\n"
     ]
    },
    {
     "name": "stderr",
     "output_type": "stream",
     "text": [
      "/Users/ajakobs/Documents/python_packages/pylcaio/src/pylcaio.py:766: FutureWarning: The frame.append method is deprecated and will be removed from pandas in a future version. Use pandas.concat instead.\n",
      "  self.H = self.H.append([self.H] * (self.number_of_countries_IO + self.number_of_RoW_IO - 1))\n",
      "/Users/ajakobs/Documents/python_packages/pylcaio/src/pylcaio.py:932: FutureWarning: The frame.append method is deprecated and will be removed from pandas in a future version. Use pandas.concat instead.\n",
      "  self.G = self.G.append([self.G] * (self.number_of_countries_IO + self.number_of_RoW_IO - 1))\n"
     ]
    },
    {
     "name": "stdout",
     "output_type": "stream",
     "text": [
      "CPU times: user 1h 59min 43s, sys: 5min 55s, total: 2h 5min 38s\n",
      "Wall time: 21min 24s\n"
     ]
    }
   ],
   "source": [
    "%%time\n",
    "lcaio_object.hybridize('STAM', capitals=False)"
   ]
  },
  {
   "cell_type": "code",
   "execution_count": 14,
   "id": "c552203b-0fe6-492b-9e94-5f0a2e24232f",
   "metadata": {},
   "outputs": [
    {
     "name": "stdout",
     "output_type": "stream",
     "text": [
      "CPU times: user 16.1 s, sys: 1.03 s, total: 17.2 s\n",
      "Wall time: 17.9 s\n"
     ]
    }
   ],
   "source": [
    "%%time\n",
    "lcaio_object.save_system('pickle')"
   ]
  },
  {
   "cell_type": "code",
   "execution_count": 18,
   "id": "1eda31d3-0414-4c41-ab1c-6a08ad37c66f",
   "metadata": {},
   "outputs": [
    {
     "data": {
      "text/plain": [
       "<9800x21255 sparse matrix of type '<class 'numpy.float64'>'\n",
       "\twith 596408 stored elements in Compressed Sparse Row format>"
      ]
     },
     "execution_count": 18,
     "metadata": {},
     "output_type": "execute_result"
    }
   ],
   "source": [
    "lcaio_object.A_io_f"
   ]
  },
  {
   "cell_type": "code",
   "execution_count": 19,
   "id": "8d9cf5dd-92b9-4151-a24d-ef3a4db55801",
   "metadata": {},
   "outputs": [
    {
     "name": "stdout",
     "output_type": "stream",
     "text": [
      "CPU times: user 2min 45s, sys: 11.1 s, total: 2min 56s\n",
      "Wall time: 3min 3s\n"
     ]
    }
   ],
   "source": [
    "%%time\n",
    "with gzip.open('/Users/ajakobs/Documents/python_packages/pylcaio/src/Databases/ecoinvent3.9_exiobase3/lcaio_object.pickle.zip', 'wb') as fh:\n",
    "    pickle.dump(lcaio_object, fh)"
   ]
  },
  {
   "cell_type": "code",
   "execution_count": null,
   "id": "3d282770-560d-40de-8674-7a576f3378a1",
   "metadata": {},
   "outputs": [],
   "source": [
    "del lcaio_object"
   ]
  }
 ],
 "metadata": {
  "kernelspec": {
   "display_name": "Python [conda env:pylcaio_bw2_ei39]",
   "language": "python",
   "name": "conda-env-pylcaio_bw2_ei39-py"
  },
  "language_info": {
   "codemirror_mode": {
    "name": "ipython",
    "version": 3
   },
   "file_extension": ".py",
   "mimetype": "text/x-python",
   "name": "python",
   "nbconvert_exporter": "python",
   "pygments_lexer": "ipython3",
   "version": "3.11.0"
  }
 },
 "nbformat": 4,
 "nbformat_minor": 5
}
