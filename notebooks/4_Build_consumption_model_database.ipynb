{
 "cells": [
  {
   "cell_type": "code",
   "execution_count": 1,
   "metadata": {},
   "outputs": [],
   "source": [
    "#     bw-migrations             0.1                      pypi_0    pypi\n",
    "#     bw2analyzer               0.10                     pypi_0    pypi\n",
    "#     bw2calc                   1.8.0                    pypi_0    pypi\n",
    "#     bw2data                   3.6.2                    pypi_0    pypi\n",
    "#     bw2io                     0.8.3.1                  pypi_0    pypi\n",
    "#     bw2parameters             0.6.6                    pypi_0    pypi\n",
    "\n",
    "import bw2data as bd\n",
    "import bw2calc as bc\n",
    "import bw2io as bi\n",
    "import bw2analyzer as ba\n",
    "\n",
    "import numpy as np\n",
    "import json, os\n",
    "from pathlib import Path\n",
    "import sys\n",
    "\n",
    "\n",
    "\n",
    "from importlib import reload\n",
    "\n",
    "#Local files\n",
    "from consumption_model_ch.import_databases import *\n",
    "\n",
    "from consumption_model_ch.consumption_fus import (add_consumption_activities,\n",
    "                                                  add_consumption_hh,\n",
    "                                                  # add_consumption_average_hh,\n",
    "                                                  add_household_cluster_consumption,\n",
    "                                                  add_consumption_sectors,\n",
    "                                                  add_consumption_categories\n",
    "                                                 )\n"
   ]
  },
  {
   "cell_type": "code",
   "execution_count": 2,
   "metadata": {},
   "outputs": [
    {
     "data": {
      "text/plain": [
       "Brightway2 projects manager with 8 objects:\n",
       "\tAB_test_exploring_EI39\n",
       "\tCCL dev\n",
       "\tdefault\n",
       "\teco-ex\n",
       "\teco-ex-March-2023\n",
       "\tecoinvent 3.3 cutoff\n",
       "\tvalidation\n",
       "\tvalidation_ei39\n",
       "Use `projects.report()` to get a report on all projects."
      ]
     },
     "execution_count": 2,
     "metadata": {},
     "output_type": "execute_result"
    }
   ],
   "source": [
    "bd.projects\n"
   ]
  },
  {
   "cell_type": "code",
   "execution_count": 3,
   "metadata": {},
   "outputs": [],
   "source": [
    "# Some settings\n",
    "delete_consumption_db = True  #  set True to rebuild the  consumption database\n",
    "add_functional_units = True\n",
    "habe_year = '151617'\n",
    "\n",
    "# Define paths to databases\n",
    "path_base = Path('/Users/ajakobs/Documents/data/')\n",
    "directory_habe = path_base / 'HABE/131_EBM 2015-2017/HABE151617_191111UOe/'\n",
    "fp_ecoinvent_38 = path_base / 'ecoinvent/ecoinvent 3.8_cutoff_ecoSpold02/datasets/'\n",
    "fp_ecoinvent_33 = path_base / 'ecoinvent/ecoinvent 3.3_cutoff_ecoSpold02/datasets/'\n",
    "fp_exiobase = path_base / 'EXIOBASE/EX_3_8_1/IOT_2015_pxp/'\n"
   ]
  },
  {
   "cell_type": "code",
   "execution_count": null,
   "metadata": {},
   "outputs": [],
   "source": []
  },
  {
   "cell_type": "code",
   "execution_count": 4,
   "metadata": {},
   "outputs": [
    {
     "name": "stdout",
     "output_type": "stream",
     "text": [
      "Biosphere database already present!!! No setup is needed\n",
      "ecoinvent 3.8 database already present!!! No import is needed\n"
     ]
    }
   ],
   "source": [
    "project = \"CCL dev\"\n",
    "bd.projects.set_current(project)\n",
    "\n",
    "co_name = \"swiss consumption 1.0\"  # CONSUMPTION_DB_NAME\n",
    "\n",
    "\n",
    "# Import all ecoinvent\n",
    "bi.bw2setup()\n",
    "ei38_name = \"ecoinvent 3.8\"\n",
    "import_ecoinvent(fp_ecoinvent_38, ei38_name)\n",
    "# Import Exiobase\n",
    "ex38_name = \"exiobase 3.8.1 monetary\"\n",
    "import_exiobase_3(fp_exiobase, ex38_name)\n"
   ]
  },
  {
   "cell_type": "code",
   "execution_count": 5,
   "metadata": {
    "tags": []
   },
   "outputs": [
    {
     "name": "stdout",
     "output_type": "stream",
     "text": [
      "Biosphere database already present!!! No setup is needed\n",
      "ecoinvent 3.3 cutoff database already present!!! No import is needed\n",
      "--> Consumption_db.xlsx already exists, reading it\n",
      "Created consumption_db.xlsx file in BW format in 1.13 seconds\n",
      "Extracted 1 worksheets in 0.83 seconds\n",
      "Applying strategy: migrate_datasets\n",
      "Applying strategy: migrate_exchanges\n",
      "Applying strategy: migrate_datasets\n",
      "Applying strategy: migrate_exchanges\n",
      "Applying strategy: migrate_datasets\n",
      "Applying strategy: migrate_exchanges\n",
      "Applying strategy: migrate_datasets\n",
      "Applying strategy: migrate_exchanges\n",
      "Applying strategy: migrate_datasets\n",
      "Applying strategy: migrate_exchanges\n",
      "Applying strategy: link_iterable_by_fields\n",
      "Applying strategy: link_iterable_by_fields\n",
      "Applying strategy: link_iterable_by_fields\n",
      "Applying strategy: link_iterable_by_fields\n",
      "Applied 0 strategies in 0.00 seconds\n",
      "207 datasets\n",
      "6676 exchanges\n",
      "0 unlinked exchanges\n",
      "  \n"
     ]
    },
    {
     "name": "stderr",
     "output_type": "stream",
     "text": [
      "Writing activities to SQLite3 database:\n",
      "0% [##############################] 100% | ETA: 00:00:00\n",
      "Total time elapsed: 00:00:00\n"
     ]
    },
    {
     "name": "stdout",
     "output_type": "stream",
     "text": [
      "Title: Writing activities to SQLite3 database:\n",
      "  Started: 03/28/2023 20:55:26\n",
      "  Finished: 03/28/2023 20:55:27\n",
      "  Total time elapsed: 00:00:00\n",
      "  CPU %: 97.20\n",
      "  Memory %: 2.56\n",
      "Created database: swiss consumption 1.0\n",
      "CPU times: user 40.6 s, sys: 7.39 s, total: 47.9 s\n",
      "Wall time: 51.1 s\n"
     ]
    }
   ],
   "source": [
    "%%time\n",
    "# Import consumptionn db\n",
    "exclude_databases = [\n",
    "        'heia',\n",
    "        'Agribalyse 1.2',\n",
    "        'Agribalyse 1.3 - {}'.format(ei38_name),\n",
    "        # 'exiobase 3.8.1 monetary',\n",
    "    ]\n",
    "if delete_consumption_db and co_name in bd.databases:\n",
    "    del bd.databases[co_name]\n",
    "import_consumption_db(directory_habe, habe_year, co_name, fp_ecoinvent_33, exclude_databases, fp_exiobase)\n",
    "co = bd.Database(co_name)\n",
    "\n"
   ]
  },
  {
   "cell_type": "code",
   "execution_count": 6,
   "metadata": {},
   "outputs": [
    {
     "data": {
      "text/plain": [
       "Databases dictionary with 5 object(s):\n",
       "\tbiosphere3\n",
       "\tecoinvent 3.8\n",
       "\texiobase 3.8.1 monetary\n",
       "\texiobase 3.8.1 monetary biosphere\n",
       "\tswiss consumption 1.0"
      ]
     },
     "execution_count": 6,
     "metadata": {},
     "output_type": "execute_result"
    }
   ],
   "source": [
    "bd.databases"
   ]
  },
  {
   "cell_type": "code",
   "execution_count": null,
   "metadata": {},
   "outputs": [],
   "source": []
  },
  {
   "cell_type": "markdown",
   "metadata": {},
   "source": [
    "## Add functional units\n",
    "- Total and average household consumption\n",
    "- Add different household cluster\n",
    "- add different sectors?"
   ]
  },
  {
   "cell_type": "markdown",
   "metadata": {},
   "source": [
    "### Total and average household demand"
   ]
  },
  {
   "cell_type": "code",
   "execution_count": 7,
   "metadata": {},
   "outputs": [],
   "source": [
    "# Set option disaggregated to use the preprocessed data! Only option needed for now. \n",
    "# Perhaps change this later in the code as I think it is confusing and does not really make sense atm. \n",
    "option = 'disaggregated'\n",
    "file_path = '/Users/ajakobs/Documents/CCL/habe_data_prepared/habe20152017_hh_prepared_imputed.csv' "
   ]
  },
  {
   "cell_type": "code",
   "execution_count": 8,
   "metadata": {},
   "outputs": [
    {
     "name": "stdout",
     "output_type": "stream",
     "text": [
      "CPU times: user 2.68 s, sys: 916 ms, total: 3.59 s\n",
      "Wall time: 3.95 s\n"
     ]
    }
   ],
   "source": [
    "%%time\n",
    "# First add consumption demand processes for all households\n",
    "add_consumption_hh(co_name, habe_year, directory_habe,  file_path_prepared_habe_data=file_path, option=option)"
   ]
  },
  {
   "cell_type": "code",
   "execution_count": 9,
   "metadata": {},
   "outputs": [
    {
     "data": {
      "text/plain": [
       "'ch hh average consumption disaggregated, years 151617' (1 month of consumption, CH, None)"
      ]
     },
     "execution_count": 9,
     "metadata": {},
     "output_type": "execute_result"
    }
   ],
   "source": [
    "demand = [act for act in co if f'consumption {option}' in act['name']]\n",
    "assert len(demand)==1\n",
    "demand = demand[0]\n",
    "demand"
   ]
  },
  {
   "cell_type": "code",
   "execution_count": 10,
   "metadata": {},
   "outputs": [
    {
     "data": {
      "text/plain": [
       "{'database': 'swiss consumption 1.0',\n",
       " 'code': 'ch hh average consumption disaggregated, years 151617',\n",
       " 'location': 'CH',\n",
       " 'name': 'ch hh average consumption disaggregated, years 151617',\n",
       " 'unit': '1 month of consumption',\n",
       " 'agg_option': 'disaggregated',\n",
       " 'n_households': 9955,\n",
       " 'year_habe': '151617',\n",
       " 'id': 35113}"
      ]
     },
     "execution_count": 10,
     "metadata": {},
     "output_type": "execute_result"
    }
   ],
   "source": [
    "demand.as_dict()"
   ]
  },
  {
   "cell_type": "code",
   "execution_count": 11,
   "metadata": {},
   "outputs": [
    {
     "data": {
      "text/plain": [
       "208"
      ]
     },
     "execution_count": 11,
     "metadata": {},
     "output_type": "execute_result"
    }
   ],
   "source": [
    "len([act for act in co])"
   ]
  },
  {
   "cell_type": "markdown",
   "metadata": {},
   "source": [
    "### Different household clusters"
   ]
  },
  {
   "cell_type": "code",
   "execution_count": 12,
   "metadata": {},
   "outputs": [
    {
     "name": "stdout",
     "output_type": "stream",
     "text": [
      "Creating household cluster functional units\n",
      "CPU times: user 54.4 s, sys: 26 s, total: 1min 20s\n",
      "Wall time: 1min 32s\n"
     ]
    }
   ],
   "source": [
    "%%time\n",
    "# Add different household clusters based on two demographics\n",
    "fp_clustering = '/Users/ajakobs/Documents/CCL/scripts/notebooks/write_files/ccl_dev/households_clustering.csv'\n",
    "add_household_cluster_consumption(co_name, habe_year, fp_habe_clustering=fp_clustering)\n",
    "\n"
   ]
  },
  {
   "cell_type": "code",
   "execution_count": 13,
   "metadata": {},
   "outputs": [
    {
     "name": "stdout",
     "output_type": "stream",
     "text": [
      "Creating household cluster functional units\n",
      "CPU times: user 14.4 s, sys: 6.18 s, total: 20.5 s\n",
      "Wall time: 23.4 s\n"
     ]
    }
   ],
   "source": [
    "%%time\n",
    "# Add clusters based on only 1 demographi at a time (income, hh type, or region)\n",
    "fp_clustering_simple = '/Users/ajakobs/Documents/CCL/scripts/notebooks/write_files/ccl_dev/households_clustering_simple.csv'\n",
    "add_household_cluster_consumption(co_name, habe_year, fp_habe_clustering=fp_clustering_simple)\n"
   ]
  },
  {
   "cell_type": "code",
   "execution_count": 14,
   "metadata": {},
   "outputs": [],
   "source": [
    "# and reset min max values for all other exchanges, apparently some cause trouble, fixed by Chris with this code:\n",
    "for ds in bd.Database(\"swiss consumption 1.0\"):\n",
    "    for exc in ds.technosphere():\n",
    "        if exc.get('uncertainty type') == 0 or exc.get('uncertainty_type') == 0:\n",
    "            print(exc.get('name'), exc['minimum'], exc['maximum'])\n",
    "            # exc['minimum'] = exc['maximum'] = np.NaN\n",
    "            # exc.save()"
   ]
  },
  {
   "cell_type": "code",
   "execution_count": 15,
   "metadata": {},
   "outputs": [
    {
     "data": {
      "text/plain": [
       "314"
      ]
     },
     "execution_count": 15,
     "metadata": {},
     "output_type": "execute_result"
    }
   ],
   "source": [
    "len([act for act in co])"
   ]
  },
  {
   "cell_type": "markdown",
   "metadata": {},
   "source": [
    "## backup project"
   ]
  },
  {
   "cell_type": "code",
   "execution_count": 18,
   "metadata": {},
   "outputs": [
    {
     "name": "stdout",
     "output_type": "stream",
     "text": [
      "Creating project backup archive - this could take a few minutes...\n",
      "CPU times: user 1min, sys: 1.97 s, total: 1min 2s\n",
      "Wall time: 1min 5s\n"
     ]
    }
   ],
   "source": [
    "%%time\n",
    "# back  up\n",
    "bi.backup_project_directory(project=project)"
   ]
  },
  {
   "cell_type": "code",
   "execution_count": 19,
   "metadata": {},
   "outputs": [],
   "source": [
    "# stored here: \"/Users/ajakobs/brightway2-project-CCL dev-backup.10-March-2023-05-27PM.tar.gz\""
   ]
  },
  {
   "cell_type": "code",
   "execution_count": 20,
   "metadata": {},
   "outputs": [
    {
     "name": "stdout",
     "output_type": "stream",
     "text": [
      "CPU times: user 38.2 s, sys: 650 ms, total: 38.8 s\n",
      "Wall time: 39 s\n"
     ]
    },
    {
     "data": {
      "text/plain": [
       "'/Users/ajakobs/Library/Application Support/Brightway3/CCL-dev.f4b5e8d8/output/lci-swiss-consumption-10.csv'"
      ]
     },
     "execution_count": 20,
     "metadata": {},
     "output_type": "execute_result"
    }
   ],
   "source": [
    "%%time\n",
    "bi.export.write_lci_csv(co_name)"
   ]
  },
  {
   "cell_type": "code",
   "execution_count": null,
   "metadata": {},
   "outputs": [],
   "source": []
  }
 ],
 "metadata": {
  "kernelspec": {
   "display_name": "Python [conda env:bw25_chmodel]",
   "language": "python",
   "name": "conda-env-bw25_chmodel-py"
  },
  "language_info": {
   "codemirror_mode": {
    "name": "ipython",
    "version": 3
   },
   "file_extension": ".py",
   "mimetype": "text/x-python",
   "name": "python",
   "nbconvert_exporter": "python",
   "pygments_lexer": "ipython3",
   "version": "3.11.0"
  },
  "varInspector": {
   "cols": {
    "lenName": 16,
    "lenType": 16,
    "lenVar": 40
   },
   "kernels_config": {
    "python": {
     "delete_cmd_postfix": "",
     "delete_cmd_prefix": "del ",
     "library": "var_list.py",
     "varRefreshCmd": "print(var_dic_list())"
    },
    "r": {
     "delete_cmd_postfix": ") ",
     "delete_cmd_prefix": "rm(",
     "library": "var_list.r",
     "varRefreshCmd": "cat(var_dic_list()) "
    }
   },
   "types_to_exclude": [
    "module",
    "function",
    "builtin_function_or_method",
    "instance",
    "_Feature"
   ],
   "window_display": false
  }
 },
 "nbformat": 4,
 "nbformat_minor": 4
}
