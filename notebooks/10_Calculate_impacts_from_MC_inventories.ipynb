{
 "cells": [
  {
   "cell_type": "code",
   "execution_count": 1,
   "id": "cd484a49-6807-4384-9c22-efa9142c9c82",
   "metadata": {},
   "outputs": [],
   "source": [
    "import bw2data as bd\n",
    "import bw2calc as bc\n",
    "import bw2analyzer as ba\n",
    "import bw2io as bi\n",
    "from tqdm import tqdm\n",
    "\n",
    "import numpy as np\n",
    "import os\n",
    "import sys\n",
    "import time\n",
    "\n",
    "import pickle\n",
    "\n",
    "import plotly.figure_factory as ff\n",
    "import plotly.graph_objects as go\n",
    "import matplotlib.pyplot as plt\n",
    "import seaborn as sns\n",
    "\n",
    "plt.rcParams.update({\n",
    "    \"text.usetex\": True,\n",
    "    \"font.family\": \"DejaVu Sans\",\n",
    "    \"font.size\": 14\n",
    "})\n",
    "import ast\n",
    "\n",
    "\n",
    "\n",
    "from pathlib import Path\n",
    "from typing import Union, Optional\n",
    "import datetime\n",
    "import hashlib\n",
    "import json\n",
    "import pandas as pd\n",
    "import re\n",
    "import unicodedata\n",
    "import uuid"
   ]
  },
  {
   "cell_type": "code",
   "execution_count": 2,
   "id": "0dd3c5b1-2056-41f9-9ba0-952b24bd783e",
   "metadata": {},
   "outputs": [
    {
     "name": "stdout",
     "output_type": "stream",
     "text": [
      "Restoring project backup archive - this could take a few minutes...\n",
      "CPU times: user 12.2 s, sys: 3.06 s, total: 15.3 s\n",
      "Wall time: 16.2 s\n"
     ]
    },
    {
     "data": {
      "text/plain": [
       "'eco-ex-March-2023'"
      ]
     },
     "execution_count": 2,
     "metadata": {},
     "output_type": "execute_result"
    }
   ],
   "source": [
    "%%time\n",
    "bi.restore_project_directory(\"/Users/ajakobs/Documents/data/hybrid-eco-exio/CH_household_hybrid_project_eco391_ex381_march_28.tar.gz\")\n"
   ]
  },
  {
   "cell_type": "code",
   "execution_count": 3,
   "id": "9bf290b8-63e2-4627-b5f3-649fbca24b1a",
   "metadata": {},
   "outputs": [],
   "source": [
    "bd.projects.set_current(\"eco-ex-March-2023\")"
   ]
  },
  {
   "cell_type": "code",
   "execution_count": 4,
   "id": "3b7cbacd-c5bf-4996-82dc-a59fba12f862",
   "metadata": {},
   "outputs": [
    {
     "data": {
      "text/plain": [
       "Databases dictionary with 5 object(s):\n",
       "\tbiosphere3\n",
       "\tecoinvent-3.9.1-cutoff\n",
       "\texiobase-3.8.1-monetary\n",
       "\texiobase-3.8.1-monetary biosphere\n",
       "\tswiss consumption 1.0"
      ]
     },
     "execution_count": 4,
     "metadata": {},
     "output_type": "execute_result"
    }
   ],
   "source": [
    "bd.databases"
   ]
  },
  {
   "cell_type": "code",
   "execution_count": 5,
   "id": "f0d36823-36f8-430c-a93f-cfd5a2577b24",
   "metadata": {},
   "outputs": [],
   "source": [
    "co = bd.Database(\"swiss consumption 1.0\")"
   ]
  },
  {
   "cell_type": "code",
   "execution_count": 6,
   "id": "15236544-908e-4592-b75e-21c099be029c",
   "metadata": {},
   "outputs": [
    {
     "data": {
      "text/plain": [
       "314"
      ]
     },
     "execution_count": 6,
     "metadata": {},
     "output_type": "execute_result"
    }
   ],
   "source": [
    "act_list = [act for act in sorted(co, key=lambda x: x['name'])]\n",
    "len(act_list)"
   ]
  },
  {
   "cell_type": "code",
   "execution_count": 7,
   "id": "a6aad340-1505-4624-a891-5c3ae48c5170",
   "metadata": {},
   "outputs": [],
   "source": [
    "act_dict = {act['name']:i for i,act in enumerate(act_list)}"
   ]
  },
  {
   "cell_type": "code",
   "execution_count": 8,
   "id": "38295c7f-f6fc-4460-82a8-c1cb480fa03e",
   "metadata": {},
   "outputs": [
    {
     "data": {
      "text/plain": [
       "207"
      ]
     },
     "execution_count": 8,
     "metadata": {},
     "output_type": "execute_result"
    }
   ],
   "source": [
    "act_dict['ch hh average consumption disaggregated, years 151617']"
   ]
  },
  {
   "cell_type": "code",
   "execution_count": 9,
   "id": "a5540fef-7d6d-4458-af82-d9011219335c",
   "metadata": {},
   "outputs": [],
   "source": [
    "def read_in_results_array(results_dir):\n",
    "    dirlist = os.listdir(results_dir)\n",
    "    act_names_file = [f for f in dirlist if not f.endswith('.npy')][0]\n",
    "    # remove act names file from dirlist\n",
    "    _ = dirlist.pop(dirlist.index(act_names_file))\n",
    "    with open(os.path.join(results_dir,act_names_file),'r') as fh:\n",
    "        activity_names = [l.rstrip() for l in fh]\n",
    "\n",
    "    for i,f in enumerate(dirlist):\n",
    "        if i==0:\n",
    "            a = np.load(os.path.join(results_dir,f), allow_pickle=True)\n",
    "            full_array = np.zeros((len(dirlist),*a.shape))\n",
    "            full_array[i,:,:]= a\n",
    "        else:\n",
    "            full_array[i,:,:]= np.load(os.path.join(results_dir,f), allow_pickle=True)\n",
    "    return full_array, activity_names\n"
   ]
  },
  {
   "cell_type": "code",
   "execution_count": 11,
   "id": "38a5b108-3d30-423e-a0dc-5530ec219936",
   "metadata": {},
   "outputs": [
    {
     "name": "stdout",
     "output_type": "stream",
     "text": [
      "CPU times: user 3.13 s, sys: 4.77 s, total: 7.9 s\n",
      "Wall time: 14.1 s\n"
     ]
    }
   ],
   "source": [
    "%%time\n",
    "# Read in inventory results\n",
    "results_dir = '/Users/ajakobs/Documents/CCL/results/MC_results_directly_sampled/'\n",
    "array_samples, activity_names = read_in_results_array(results_dir)"
   ]
  },
  {
   "cell_type": "code",
   "execution_count": 12,
   "id": "fd3aac4f-b16e-44f3-be94-b41a95858a32",
   "metadata": {},
   "outputs": [
    {
     "data": {
      "text/plain": [
       "(1000, 2423, 314)"
      ]
     },
     "execution_count": 12,
     "metadata": {},
     "output_type": "execute_result"
    }
   ],
   "source": [
    "array_samples.shape"
   ]
  },
  {
   "cell_type": "code",
   "execution_count": 13,
   "id": "fc517ec3-17dd-4a00-af87-82c435c29551",
   "metadata": {},
   "outputs": [
    {
     "data": {
      "text/plain": [
       "'ch hh average consumption disaggregated, years 151617' (1 month of consumption, CH, None)"
      ]
     },
     "execution_count": 13,
     "metadata": {},
     "output_type": "execute_result"
    }
   ],
   "source": [
    "# grab an activity and run an lcia to build the characterisation matrix\n",
    "act = [act for act in co if act['name']=='ch hh average consumption disaggregated, years 151617'][0]\n",
    "act"
   ]
  },
  {
   "cell_type": "code",
   "execution_count": 14,
   "id": "2a824daf-cb48-4e18-b95d-7cd7f0ccf115",
   "metadata": {},
   "outputs": [
    {
     "data": {
      "text/plain": [
       "('IPCC 2021', 'climate change', 'global warming potential (GWP100)')"
      ]
     },
     "execution_count": 14,
     "metadata": {},
     "output_type": "execute_result"
    }
   ],
   "source": [
    "ipcc_2021 = ('IPCC 2021', 'climate change', 'global warming potential (GWP100)')\n",
    "ipcc_2021"
   ]
  },
  {
   "cell_type": "code",
   "execution_count": 15,
   "id": "ae952950-0622-42c9-95e0-e9bdc0012d67",
   "metadata": {},
   "outputs": [
    {
     "data": {
      "text/plain": [
       "('Ecological Scarcity 2021', 'total', 'UBP')"
      ]
     },
     "execution_count": 15,
     "metadata": {},
     "output_type": "execute_result"
    }
   ],
   "source": [
    "eco_total = ('Ecological Scarcity 2021', 'total', 'UBP')\n",
    "eco_total"
   ]
  },
  {
   "cell_type": "code",
   "execution_count": 16,
   "id": "27a0b6b7-4697-4b8e-b829-4e83833785ca",
   "metadata": {},
   "outputs": [
    {
     "name": "stdout",
     "output_type": "stream",
     "text": [
      "CPU times: user 4.97 s, sys: 250 ms, total: 5.22 s\n",
      "Wall time: 1.81 s\n"
     ]
    },
    {
     "data": {
      "text/plain": [
       "1796.4146141617975"
      ]
     },
     "execution_count": 16,
     "metadata": {},
     "output_type": "execute_result"
    }
   ],
   "source": [
    "%%time\n",
    "# Do one lca calcuation to build the characterisation matrix\n",
    "lca = bc.LCA({act: 1}, method=ipcc_2021)\n",
    "lca.lci()\n",
    "lca.lcia()\n",
    "lca.score"
   ]
  },
  {
   "cell_type": "code",
   "execution_count": 17,
   "id": "be57dc4d-b111-4057-9466-6cde4332416b",
   "metadata": {},
   "outputs": [
    {
     "name": "stdout",
     "output_type": "stream",
     "text": [
      "CPU times: user 3.43 s, sys: 4.74 s, total: 8.17 s\n",
      "Wall time: 8.77 s\n"
     ]
    }
   ],
   "source": [
    "%%time\n",
    "# now calculate all the scores for ipcc 2021\n",
    "cc_impacts_samples = lca.characterization_matrix.sum(axis=0).A.dot(array_samples)"
   ]
  },
  {
   "cell_type": "code",
   "execution_count": 18,
   "id": "0cc105db-f082-4744-8bdb-c8a2e169a1ae",
   "metadata": {},
   "outputs": [
    {
     "name": "stdout",
     "output_type": "stream",
     "text": [
      "CPU times: user 10.6 ms, sys: 3.71 ms, total: 14.3 ms\n",
      "Wall time: 13.3 ms\n"
     ]
    },
    {
     "data": {
      "text/plain": [
       "7.1307714692810436"
      ]
     },
     "execution_count": 18,
     "metadata": {},
     "output_type": "execute_result"
    }
   ],
   "source": [
    "%%time\n",
    "# now switch method to create a new characterisation method\n",
    "lca.switch_method(eco_total)\n",
    "lca.lcia()\n",
    "lca.score/1e6"
   ]
  },
  {
   "cell_type": "code",
   "execution_count": 19,
   "id": "18ba8704-0559-4dfc-9fc3-cedfb22ece0c",
   "metadata": {},
   "outputs": [
    {
     "name": "stdout",
     "output_type": "stream",
     "text": [
      "CPU times: user 2.26 s, sys: 19 ms, total: 2.28 s\n",
      "Wall time: 2.29 s\n"
     ]
    }
   ],
   "source": [
    "%%time\n",
    "# now calculate all the scores for ecological scarcity total 2021\n",
    "es_total_impacts_samples = lca.characterization_matrix.sum(axis=0).A.dot(array_samples)"
   ]
  },
  {
   "cell_type": "code",
   "execution_count": null,
   "id": "875a38df-1ebb-4ddf-afaf-75d6425a5f97",
   "metadata": {},
   "outputs": [],
   "source": [
    "eco_landuse = ('Ecological Scarcity 2021', 'land use', 'land use')\n",
    "eco_landuse"
   ]
  },
  {
   "cell_type": "code",
   "execution_count": null,
   "id": "c6d38ce5-84f2-4386-8c79-c6d6c6cc3da1",
   "metadata": {},
   "outputs": [],
   "source": [
    "%%time\n",
    "# now switch method to create a new characterisation method\n",
    "lca.switch_method(eco_landuse)\n",
    "lca.lcia()\n",
    "lca.score/1e6"
   ]
  },
  {
   "cell_type": "code",
   "execution_count": null,
   "id": "3443796f-dc8e-430f-a968-2896513b3e2b",
   "metadata": {},
   "outputs": [],
   "source": [
    "%%time\n",
    "# now calculate all the scores for ecological scarcity land use 2021\n",
    "es_lu_impacts_samples = lca.characterization_matrix.sum(axis=0).A.dot(array_samples)"
   ]
  },
  {
   "cell_type": "markdown",
   "id": "d8d2e774-30fe-4483-a12e-032efc7c98b6",
   "metadata": {},
   "source": [
    "## now define functional units"
   ]
  },
  {
   "cell_type": "code",
   "execution_count": 20,
   "id": "61b62801-4c06-4b14-b9dd-b7b06881a131",
   "metadata": {},
   "outputs": [
    {
     "data": {
      "text/plain": [
       "['household cluster a consumption, years 151617' (1 month of consumption, CH, None),\n",
       " 'household cluster b consumption, years 151617' (1 month of consumption, CH, None),\n",
       " 'household cluster c consumption, years 151617' (1 month of consumption, CH, None),\n",
       " 'household cluster d consumption, years 151617' (1 month of consumption, CH, None),\n",
       " 'household cluster e consumption, years 151617' (1 month of consumption, CH, None),\n",
       " 'household cluster f consumption, years 151617' (1 month of consumption, CH, None),\n",
       " 'household cluster g consumption, years 151617' (1 month of consumption, CH, None)]"
      ]
     },
     "execution_count": 20,
     "metadata": {},
     "output_type": "execute_result"
    }
   ],
   "source": [
    "# load cluster activities\n",
    "# grep simple clusters\n",
    "clusters_simple = [act for act in co if \"household cluster\" in act['name'].lower() if len(act['name'])==45]\n",
    "clusters_simple.sort()\n",
    "income_groups = clusters_simple[:6]\n",
    "household_types = clusters_simple[-7:]\n",
    "household_types"
   ]
  },
  {
   "cell_type": "code",
   "execution_count": 21,
   "id": "e29486a8-99ae-43ba-89a5-8b72fba8c895",
   "metadata": {},
   "outputs": [
    {
     "data": {
      "text/plain": [
       "{'A': 'Genferseeregion',\n",
       " 'B': 'Espace Mittelland',\n",
       " 'C': 'Nordwestschweiz',\n",
       " 'D': 'Zürich',\n",
       " 'E': 'Ostschweiz',\n",
       " 'F': 'Zentralschweiz',\n",
       " 'G': 'Tessin',\n",
       " 'a': 'Einpersonenhaushalte unter 65',\n",
       " 'b': 'Einpersonenhaushalte ab 65',\n",
       " 'c': 'Paarhaushalte (beide unter 65) ohne weitere Haushaltsmitglieder',\n",
       " 'd': 'Paarhaushalte (mindestens eine Person ab 65) ohne weitere Haushaltsmitglieder',\n",
       " 'e': 'Einelternhaushalte mit Kindern (mindestens eines unter 25) ohne weitere Haushaltsmitglieder',\n",
       " 'f': 'Paarhaushalte mit Kindern (mindestens eines unter 25) ohne weitere Haushaltsmitglieder',\n",
       " 'g': 'Übrige Haushaltstypen',\n",
       " '1': '1. Fünftel (< 4 914)',\n",
       " '2': '2. Fünftel (4 914 – 7 264)',\n",
       " '3': '3. Fünftel (7 265 – 9 990)',\n",
       " '4': '4. Fünftel (9 991 – 13 621)',\n",
       " '5': '5. Fünftel (13 622 - 26 658)',\n",
       " '6': 'Top 2% (>= 26 658)'}"
      ]
     },
     "execution_count": 21,
     "metadata": {},
     "output_type": "execute_result"
    }
   ],
   "source": [
    "# load necessary dictionaries with cluster names\n",
    "with open('./write_files/households_categories_names_dict_extended.pickle', 'rb') as fh:\n",
    "    categories_names_dict = pickle.load(fh)\n",
    "with open('./write_files/households_categories_labels_dict_extended.pickle', 'rb') as fh:\n",
    "    category_labels_dict = pickle.load(fh)\n",
    "mapping_dict = {value:categories_names_dict[cat][key] for cat in category_labels_dict.keys() for (key,value) in category_labels_dict[cat].items()}\n",
    "mapping_dict"
   ]
  },
  {
   "cell_type": "code",
   "execution_count": 22,
   "id": "80dc5709-2408-4a31-acb8-68ce1a4fe8af",
   "metadata": {},
   "outputs": [
    {
     "data": {
      "text/plain": [
       "[289, 294, 297, 302, 307, 308, 313]"
      ]
     },
     "execution_count": 22,
     "metadata": {},
     "output_type": "execute_result"
    }
   ],
   "source": [
    "hh_type_indics = [act_dict[hh['name']] for hh in household_types]\n",
    "hh_type_indics"
   ]
  },
  {
   "cell_type": "code",
   "execution_count": 23,
   "id": "836dd4c2-1698-4a7b-ad48-7c09379dde4d",
   "metadata": {},
   "outputs": [
    {
     "data": {
      "text/plain": [
       "array([1.        , 1.        , 2.        , 2.        , 2.60135135,\n",
       "       3.86307692, 3.07344633])"
      ]
     },
     "execution_count": 23,
     "metadata": {},
     "output_type": "execute_result"
    }
   ],
   "source": [
    "hh_size = np.array([hh['ppl_per_household'] for hh in household_types])\n",
    "hh_size"
   ]
  },
  {
   "cell_type": "code",
   "execution_count": 24,
   "id": "6d96becd-edb5-433b-95a3-c120772f1e4a",
   "metadata": {},
   "outputs": [
    {
     "data": {
      "text/plain": [
       "['household cluster a consumption, years 151617' (1 month of consumption, CH, None),\n",
       " 'household cluster b consumption, years 151617' (1 month of consumption, CH, None),\n",
       " 'household cluster c consumption, years 151617' (1 month of consumption, CH, None),\n",
       " 'household cluster d consumption, years 151617' (1 month of consumption, CH, None),\n",
       " 'household cluster e consumption, years 151617' (1 month of consumption, CH, None),\n",
       " 'household cluster f consumption, years 151617' (1 month of consumption, CH, None),\n",
       " 'household cluster g consumption, years 151617' (1 month of consumption, CH, None)]"
      ]
     },
     "execution_count": 24,
     "metadata": {},
     "output_type": "execute_result"
    }
   ],
   "source": [
    "household_types"
   ]
  },
  {
   "cell_type": "code",
   "execution_count": 25,
   "id": "fe977b67-0e08-4d8f-8bc1-88a5b7c36065",
   "metadata": {},
   "outputs": [
    {
     "data": {
      "text/plain": [
       "['household cluster 1 consumption, years 151617' (1 month of consumption, CH, None),\n",
       " 'household cluster 2 consumption, years 151617' (1 month of consumption, CH, None),\n",
       " 'household cluster 3 consumption, years 151617' (1 month of consumption, CH, None),\n",
       " 'household cluster 4 consumption, years 151617' (1 month of consumption, CH, None),\n",
       " 'household cluster 5 consumption, years 151617' (1 month of consumption, CH, None),\n",
       " 'household cluster 6 consumption, years 151617' (1 month of consumption, CH, None)]"
      ]
     },
     "execution_count": 25,
     "metadata": {},
     "output_type": "execute_result"
    }
   ],
   "source": [
    "income_groups"
   ]
  },
  {
   "cell_type": "markdown",
   "id": "4be0af59-9269-43e2-b1e6-fb6a255c5f63",
   "metadata": {},
   "source": [
    "## now plot some results"
   ]
  },
  {
   "cell_type": "code",
   "execution_count": 26,
   "id": "905638c3-b91c-4524-af02-be8004537330",
   "metadata": {},
   "outputs": [],
   "source": [
    "def plot_hists(data, ave, method):\n",
    "    hists = []\n",
    "    bins=np.linspace(*np.percentile(data,q=[0.5,99.5]),30)\n",
    "    hists.append(plt.hist(ave,bins=bins,histtype='step', color='k', ls='-', density=True,alpha=1))\n",
    "    print(ave.mean(), np.median(ave), np.std(ave))\n",
    "    htype = ['stepfilled', 'step', 'stepfilled', 'step', 'stepfilled', 'step', 'stepfilled', 'step', 'stepfilled']\n",
    "    alpha = [0.5, 1, 0.5, 1, 0.5, 1, 0.5, 1, 0.5, 1, 0.5, 1, 0.5]\n",
    "    for i in range(data.shape[1]):\n",
    "        hists.append(plt.hist(data[:,i], bins=bins, histtype='stepfilled', ls='-', alpha=0.4, density=True))\n",
    "        # plt.hist(data[:,i], bins=bins, histtype='step', ls='-', alpha=0.4, density=True)\n",
    "        print(data[:,i].mean(), np.median(data[:,i]), np.std(data[:,i]))\n",
    "    plt.ylabel('Probability density')\n",
    "    plt.xlabel(f'{method[2]} [{bd.methods[method][\"unit\"]}]')\n",
    "    plt.show()\n",
    "    return hists"
   ]
  },
  {
   "cell_type": "code",
   "execution_count": 27,
   "id": "e308dadb-ac75-4dc3-8c2e-4c92a3815f60",
   "metadata": {},
   "outputs": [
    {
     "name": "stdout",
     "output_type": "stream",
     "text": [
      "1923.077575475649 1792.075475717199 589.0341104983393\n",
      "1142.325217860818 1071.4164648408932 307.4898775238121\n",
      "1495.2431968590333 1398.5372461556444 413.1374114785048\n",
      "1863.4853320437264 1743.9103193069384 560.2264272683241\n",
      "2193.4569262797863 2070.266258681777 577.2325418288132\n",
      "2670.023657739007 2554.531339343809 624.4327375543132\n",
      "3414.8651926500715 3263.58845685193 849.4818442532837\n"
     ]
    },
    {
     "data": {
      "image/png": "[encoded data removed]",
      "text/plain": [
       "<Figure size 640x480 with 1 Axes>"
      ]
     },
     "metadata": {},
     "output_type": "display_data"
    }
   ],
   "source": [
    "hists = plot_hists(cc_impacts_samples[0,:,208:214],cc_impacts_samples[0,:,207],ipcc_2021)"
   ]
  },
  {
   "cell_type": "markdown",
   "id": "7356c610-22bb-4500-86f6-2131319e6534",
   "metadata": {},
   "source": [
    "#### the above is not very informative so lets do this different"
   ]
  },
  {
   "cell_type": "code",
   "execution_count": null,
   "id": "c33ecd4a-0bdd-4733-a146-9c265195ea87",
   "metadata": {},
   "outputs": [],
   "source": []
  },
  {
   "cell_type": "code",
   "execution_count": 28,
   "id": "ee0fc338-a3ae-4d97-8308-32adb8fd2721",
   "metadata": {},
   "outputs": [
    {
     "name": "stdout",
     "output_type": "stream",
     "text": [
      "(1000, 7) (1000, 1)\n"
     ]
    },
    {
     "data": {
      "text/plain": [
       "['Average household',\n",
       " 'Einpersonenhaushalte unter 65',\n",
       " 'Einpersonenhaushalte ab 65',\n",
       " 'Paarhaushalte (beide unter 65) ohne weitere Haushaltsmitglieder',\n",
       " 'Paarhaushalte (mindestens eine Person ab 65) ohne weitere Haushaltsmitglieder',\n",
       " 'Einelternhaushalte mit Kindern (mindestens eines unter 25) ohne weitere Haushaltsmitglieder',\n",
       " 'Paarhaushalte mit Kindern (mindestens eines unter 25) ohne weitere Haushaltsmitglieder',\n",
       " 'Übrige Haushaltstypen']"
      ]
     },
     "execution_count": 28,
     "metadata": {},
     "output_type": "execute_result"
    }
   ],
   "source": [
    "# first calculate the per person cclimate impacts for the different household types incl average households\n",
    "cc_hh = np.divide(cc_impacts_samples[0,:,hh_type_indics].T,hh_size)*12\n",
    "cc_ave = cc_impacts_samples[0,:,207:208]/2.24*12\n",
    "print(cc_hh.shape, cc_ave.shape)\n",
    "cc_annual = np.concatenate((cc_ave, cc_hh), axis=1)\n",
    "group_labels = ['Average household'] + [mapping_dict[hh['name'].replace('household cluster ','')[0]] for hh in household_types]\n",
    "group_labels"
   ]
  },
  {
   "cell_type": "code",
   "execution_count": 29,
   "id": "904ae1d2-e9fc-4164-9562-5a1a01f0b8c0",
   "metadata": {},
   "outputs": [],
   "source": [
    "# define english labels\n",
    "household_labels = [\n",
    "    r'Average',\n",
    "    r'Single person $<$65y',\n",
    "    r'Single person $\\geq$65y',\n",
    "    r'Couple $<$65y',\n",
    "    r'Couple, min 1 person $\\geq$65y',\n",
    "    r'Single parents, min 1 child $<$25y',\n",
    "    r'Couple w. children, min 1 child $<$25y',\n",
    "    r'Other']"
   ]
  },
  {
   "cell_type": "code",
   "execution_count": null,
   "id": "f6edbbb6-08a7-4f11-ad91-ad668ce15a9f",
   "metadata": {},
   "outputs": [],
   "source": []
  },
  {
   "cell_type": "code",
   "execution_count": 30,
   "id": "c24624af-5770-499e-bd78-e5aafb870893",
   "metadata": {},
   "outputs": [],
   "source": [
    "# define color scheme\n",
    "# colors = ['#66c2a5','#fc8d62','#8da0cb']\n",
    "# below is the prism color scheme from plotly: plotly.colors.qualitative.Prism\n",
    "colors = ['rgb(95, 70, 144)',\n",
    " 'rgb(29, 105, 150)',\n",
    " 'rgb(56, 166, 165)',\n",
    " 'rgb(15, 133, 84)',\n",
    " 'rgb(115, 175, 72)',\n",
    " 'rgb(237, 173, 8)',\n",
    " 'rgb(225, 124, 5)',\n",
    " 'rgb(204, 80, 62)',\n",
    " 'rgb(148, 52, 110)',\n",
    " 'rgb(111, 64, 112)',\n",
    " 'rgb(102, 102, 102)']\n",
    "colors = [c.replace('rgb','') for c in colors]\n",
    "colors = [ast.literal_eval(color) for color in colors]\n",
    "colors = [tuple(np.array(color)/255) for color in colors]"
   ]
  },
  {
   "cell_type": "code",
   "execution_count": 31,
   "id": "eae98a4e-738b-4cc2-b0be-1c0257a8e59b",
   "metadata": {},
   "outputs": [
    {
     "data": {
      "text/plain": [
       "[(0.37254901960784315, 0.27450980392156865, 0.5647058823529412),\n",
       " (0.11372549019607843, 0.4117647058823529, 0.5882352941176471),\n",
       " (0.2196078431372549, 0.6509803921568628, 0.6470588235294118),\n",
       " (0.058823529411764705, 0.5215686274509804, 0.32941176470588235),\n",
       " (0.45098039215686275, 0.6862745098039216, 0.2823529411764706),\n",
       " (0.9294117647058824, 0.6784313725490196, 0.03137254901960784),\n",
       " (0.8823529411764706, 0.48627450980392156, 0.0196078431372549),\n",
       " (0.8, 0.3137254901960784, 0.24313725490196078),\n",
       " (0.5803921568627451, 0.20392156862745098, 0.43137254901960786),\n",
       " (0.43529411764705883, 0.25098039215686274, 0.4392156862745098),\n",
       " (0.4, 0.4, 0.4)]"
      ]
     },
     "execution_count": 31,
     "metadata": {},
     "output_type": "execute_result"
    }
   ],
   "source": [
    "colors"
   ]
  },
  {
   "cell_type": "code",
   "execution_count": 32,
   "id": "dd343ff3-af1b-41a2-a2af-71efad5e823e",
   "metadata": {},
   "outputs": [],
   "source": [
    "def plot_multi_hist(data, labels, method, unit, categories, colors, add_kde=False, save_dir=None, save=True, file_name=None):\n",
    "    sns.set_theme()\n",
    "    plt.rcParams.update({\n",
    "    \"text.usetex\": True,\n",
    "    \"font.family\": \"DejaVu Sans\",\n",
    "    \"font.size\": 14\n",
    "})\n",
    "    fig,axes = plt.subplots(data.shape[1],1)\n",
    "    supax = fig.add_subplot(111, frameon=False)\n",
    "    supax.set_xticklabels([]), supax.set_yticklabels([]), supax.set_xticks([]), supax.set_yticks([])\n",
    "\n",
    "    bins = bins=np.linspace(*np.percentile(data,q=[1,99]),50)\n",
    "    for i,ax in enumerate(axes[::-1]):\n",
    "        ax.hist(data[:,i], bins=bins, histtype='stepfilled', color=colors[0], alpha=1, density=True)\n",
    "        if add_kde:\n",
    "            sns.kdeplot(cc_annual[:,i], ax=ax, cut=0, alpha=1, c='k', ls='-')\n",
    "        ax.axvline(np.mean(data[:,i]), 0,1, c=colors[1], ls='-')\n",
    "        ax.axvline(np.median(data[:,i]), 0,1, c=colors[2], ls='--')\n",
    "        ax.set_yticklabels([])\n",
    "        ax.set_yticks([])\n",
    "        ax.set_xlim(0.8*bins[0],bins[-1]+(1-0.8)*bins[0])\n",
    "        # set secondary y labels\n",
    "        twax = ax.twinx()\n",
    "        twax.set_yticks([0.5], [labels[i]])\n",
    "        twax.tick_params(axis='y', which='both', length=0)\n",
    "        twax.grid(visible=False, axis='y')\n",
    "\n",
    "        if not i==0:\n",
    "            ax.set_xticklabels([])\n",
    "        if i==0:\n",
    "            ax.set_xlabel(f'{method} [{unit}]')\n",
    "    supax.set_ylabel('Probability density')      \n",
    "    fig.subplots_adjust(wspace=0, hspace=0)\n",
    "    if save:\n",
    "        if save_dir is None:\n",
    "            save_dir = '/Users/ajakobs/Documents/CCL/results/figures/'\n",
    "        if file_name is None:\n",
    "            if categories is not None:\n",
    "                file_name = f'{method}_distributions_{categories}.pdf'\n",
    "        if file_name is not None:\n",
    "            fig_path = os.path.join(save_dir, file_name)\n",
    "            fig.savefig(fig_path, bbox_inches = \"tight\")\n",
    "        else:\n",
    "            print('To save please provide file_name or categories')\n",
    "    plt.show()\n",
    "    sns.reset_defaults()\n",
    "    plt.rcParams.update({\n",
    "        \"text.usetex\": True,\n",
    "        \"font.family\": \"DejaVu Sans\",\n",
    "        \"font.size\": 14\n",
    "    })"
   ]
  },
  {
   "cell_type": "code",
   "execution_count": 33,
   "id": "2cd010d4-72ac-4503-b846-8ff2a256bcf4",
   "metadata": {},
   "outputs": [
    {
     "data": {
      "image/png": "[encoded data removed]",
      "text/plain": [
       "<Figure size 640x480 with 17 Axes>"
      ]
     },
     "metadata": {},
     "output_type": "display_data"
    }
   ],
   "source": [
    "plot_multi_hist(cc_annual/1e3, household_labels, method='Global warming potential', unit='tCO$_2$-eq', categories='householdTypes',\n",
    "                colors=[colors[1], colors[5], colors[6]], add_kde=False, save=False, file_name='gwp100_distributions_householdtypes.pdf')"
   ]
  },
  {
   "cell_type": "code",
   "execution_count": 46,
   "id": "39cdbc1e-2213-45a2-b91d-3a9abc31b938",
   "metadata": {},
   "outputs": [
    {
     "name": "stdout",
     "output_type": "stream",
     "text": [
      "(1000, 7) (1000, 1)\n"
     ]
    }
   ],
   "source": [
    "# first calculate the per person cclimate impacts for the different household types incl average households\n",
    "es_hh = np.divide(es_total_impacts_samples[0,:,hh_type_indics].T,hh_size)*12\n",
    "es_ave = es_total_impacts_samples[0,:,207:208]/2.24*12\n",
    "print(es_hh.shape, es_ave.shape)\n",
    "es_annual = np.concatenate((es_ave, es_hh), axis=1)"
   ]
  },
  {
   "cell_type": "code",
   "execution_count": 47,
   "id": "8c69217f-7d06-45b6-99ec-a833fbcc890b",
   "metadata": {},
   "outputs": [
    {
     "data": {
      "image/png": "[encoded data removed]",
      "text/plain": [
       "<Figure size 640x480 with 17 Axes>"
      ]
     },
     "metadata": {},
     "output_type": "display_data"
    }
   ],
   "source": [
    "# plot ecological scacity total\n",
    "plot_multi_hist(es_annual/1e6, household_labels, method='Ecological scarcity (total)', unit='Mio UBP',\n",
    "                categories='householdTypes', colors=[colors[1], colors[5], colors[6]], add_kde=False, \n",
    "                save=False, file_name='ecoscarcity_distributions_householdtypes.pdf')"
   ]
  },
  {
   "cell_type": "code",
   "execution_count": 227,
   "id": "7cf6682f-f358-42e7-83c2-e542efedcccd",
   "metadata": {},
   "outputs": [
    {
     "name": "stdout",
     "output_type": "stream",
     "text": [
      "(1000, 7) (1000, 1)\n"
     ]
    }
   ],
   "source": [
    "# first calculate the per person cclimate impacts for the different household types incl average households\n",
    "es_lu_hh = np.divide(es_lu_impacts_samples[0,:,hh_type_indics].T,hh_size)*12\n",
    "es_lu_ave = es_lu_impacts_samples[0,:,207:208]/2.24*12\n",
    "print(es_lu_hh.shape, es_lu_ave.shape)\n",
    "es_lu_annual = np.concatenate((es_lu_ave, es_lu_hh), axis=1)"
   ]
  },
  {
   "cell_type": "code",
   "execution_count": 324,
   "id": "10aa0b05-f170-4faa-8cc7-ab10e4c1fce0",
   "metadata": {},
   "outputs": [
    {
     "data": {
      "image/png": "[encoded data removed]",
      "text/plain": [
       "<Figure size 640x480 with 17 Axes>"
      ]
     },
     "metadata": {},
     "output_type": "display_data"
    }
   ],
   "source": [
    "# plot ecological scacity total\n",
    "plot_multi_hist(es_lu_annual/1e6, household_labels, method='Ecological scarcity (land use)', unit='Mio UBP', categories='householdTypes', colors=[colors[1], colors[5], colors[6]], add_kde=False, file_name='ecoscarcity_landuse_distributions_householdtypes.pdf')"
   ]
  },
  {
   "cell_type": "code",
   "execution_count": null,
   "id": "de3e19a7-3cc9-4a8a-89f7-5edce169b744",
   "metadata": {},
   "outputs": [],
   "source": []
  },
  {
   "cell_type": "markdown",
   "id": "cf5ab735-af3f-4617-bb8f-42f0ed82ae11",
   "metadata": {},
   "source": [
    "## Write data packages for results"
   ]
  },
  {
   "cell_type": "code",
   "execution_count": 34,
   "id": "4f1e49e5-d0a2-40f5-800d-dbc4f38038ab",
   "metadata": {},
   "outputs": [],
   "source": [
    "#first create dictionary providing the activity name based on index\n",
    "rev_act_dict = {index:name for name, index in act_dict.items()}\n"
   ]
  },
  {
   "cell_type": "code",
   "execution_count": 50,
   "id": "b9b77d86-ad7a-4c39-9c3d-f326c30bcf64",
   "metadata": {},
   "outputs": [
    {
     "data": {
      "text/plain": [
       "'swiss consumption 1.0'"
      ]
     },
     "execution_count": 50,
     "metadata": {},
     "output_type": "execute_result"
    }
   ],
   "source": [
    "co.name"
   ]
  },
  {
   "cell_type": "code",
   "execution_count": null,
   "id": "6ce078bc-8fe4-40e8-ba7c-94c72d16090d",
   "metadata": {},
   "outputs": [],
   "source": [
    "# average nr of people per household and average monthly income per household\n",
    "n_people_ave = 2.24\n",
    "income_average = 9938"
   ]
  },
  {
   "cell_type": "code",
   "execution_count": 75,
   "id": "672f7f4f-6e5b-41b0-96e9-bb5e9ac4626b",
   "metadata": {},
   "outputs": [],
   "source": [
    "def make_dataframe(data, names_dict, impact_method, units):\n",
    "    # make sure that the data matches the dictionary length\n",
    "    assert data.shape[1] == len(names_dict)\n",
    "    for i in range(len(names_dict)):\n",
    "        raw_name = names_dict[i]\n",
    "        act = bd.get_node(name=raw_name, database=co.name)\n",
    "        product_unit = None\n",
    "        if raw_name.startswith(\"ch hh average consumption\"):\n",
    "            n_people = 2.24  # averag nr of people per household\n",
    "            income = 9938  # averag monthly gross income per household in CHF\n",
    "        elif raw_name.startswith(\"household cluster\"):\n",
    "            n_people = act['ppl_per_household']  # ave nr of people per household in cluster\n",
    "            income = act['income_per_household']  # ave monthly gross income per household in cluster in CHF\n",
    "        else:\n",
    "            product_unit = act['unit']  # for the individual products save the unit\n",
    "            n_people = np.NaN  # for the individual products this is not defined\n",
    "            income = np.NaN  # for the individual products this is not defined\n",
    "        if i == 0:\n",
    "            results = [{\n",
    "                \"name\":clean_name(names_dict[i]),\n",
    "                \"product_unit\": product_unit,\n",
    "                \"houshold_size\" : n_people,\n",
    "                \"gross_income\": income,\n",
    "                \"mean\": \"{:.4g}\".format(np.mean(data[:,i])),\n",
    "                \"median\": \"{:.4g}\".format(np.median(data[:,i])),\n",
    "                \"std\": \"{:.4g}\".format(np.std(data[:,i])),\n",
    "                \"method\": impact_method,\n",
    "                \"unit\": units\n",
    "            }]\n",
    "        else:\n",
    "            results.append({\n",
    "                \"name\":clean_name(names_dict[i]),\n",
    "                \"product_unit\": product_unit,\n",
    "                \"houshold_size\" : n_people,\n",
    "                \"gross_income\": income,\n",
    "                \"mean\": \"{:.4g}\".format(np.mean(data[:,i])),\n",
    "                \"median\": \"{:.4g}\".format(np.median(data[:,i])),\n",
    "                \"std\": \"{:.4g}\".format(np.std(data[:,i])),\n",
    "                \"method\": impact_method,\n",
    "                \"unit\": units\n",
    "            })\n",
    "    return pd.DataFrame(results)"
   ]
  },
  {
   "cell_type": "code",
   "execution_count": 36,
   "id": "0557fc47-3bdf-4ea0-92d5-7c4f263b1eb1",
   "metadata": {},
   "outputs": [],
   "source": [
    "def clean_name(string):\n",
    "    return string.replace(\", years 151617\", \"\")\\\n",
    "                 .replace(\"consumption\", \"\")\\\n",
    "                 .replace(\"disaggregated\", \"\").strip()"
   ]
  },
  {
   "cell_type": "code",
   "execution_count": 37,
   "id": "28d0ce19-53fb-480d-a9d4-b103a9d81666",
   "metadata": {},
   "outputs": [],
   "source": [
    "re_slugify = re.compile(r\"[^\\w\\s-]\", re.UNICODE)\n",
    "SUBSTITUTION_RE = re.compile(r\"[^\\w\\-\\.]\")\n",
    "MULTI_RE = re.compile(r\"_{2,}\")\n",
    "\n",
    "\n",
    "def clean_datapackage_name(name: str) -> str:\n",
    "    \"\"\"Clean string ``name`` of characters not allowed in data package names.\n",
    "    Replaces with underscores, and drops multiple underscores.\"\"\"\n",
    "    return re.sub(MULTI_RE, \"_\", re.sub(SUBSTITUTION_RE, \"_\", name).strip(\"_\")).strip()"
   ]
  },
  {
   "cell_type": "code",
   "execution_count": 38,
   "id": "ec15201b-2b6c-446e-a258-db5e97dee11b",
   "metadata": {},
   "outputs": [],
   "source": [
    "def safe_filename(\n",
    "    string: Union[str, bytes], add_hash: bool = True, full: bool = False\n",
    ") -> str:\n",
    "    \"\"\"Convert arbitrary strings to make them safe for filenames. Substitutes strange characters, and uses unicode normalization.\n",
    "    if `add_hash`, appends hash of `string` to avoid name collisions.\n",
    "    From http://stackoverflow.com/questions/295135/turn-a-string-into-a-valid-filename-in-python\"\"\"\n",
    "    safe = re.sub(\n",
    "        r\"[-\\s]+\",\n",
    "        \"-\",\n",
    "        str(re_slugify.sub(\"\", unicodedata.normalize(\"NFKD\", str(string))).strip()),\n",
    "    )\n",
    "    if add_hash:\n",
    "        if isinstance(string, str):\n",
    "            string = string.encode(\"utf8\")\n",
    "        if full:\n",
    "            safe += \".\" + hashlib.md5(string).hexdigest()\n",
    "        else:\n",
    "            safe += \".\" + hashlib.md5(string).hexdigest()[:8]\n",
    "    return safe"
   ]
  },
  {
   "cell_type": "code",
   "execution_count": 68,
   "id": "b467a65d-c6dd-417b-ab48-be7dc4d223a7",
   "metadata": {},
   "outputs": [],
   "source": [
    "def get_metadata_for_resource(filename):\n",
    "    return {\n",
    "        \"path\": f\"{filename}.csv\",\n",
    "        \"profile\": \"tabular-data-resource\",\n",
    "        \"mediatype\": \"text/csv\",\n",
    "        \"schema\": {\n",
    "            \"fields\": [\n",
    "                # Insert your own fields here; see https://dataprotocols.org/json-table-schema/#field-descriptors for spec\n",
    "                {'name': 'name', 'type': 'string'},\n",
    "                {'name': 'product_unit', 'type': 'string'},\n",
    "                {'name': 'household_size', 'type': 'number'},\n",
    "                {'name': 'gross_income', 'type': 'number'},\n",
    "                {'name': 'method', 'type': 'string'},\n",
    "                {'name': 'unit', 'type': 'string'},\n",
    "                {'name': 'mean', 'type': 'number'},\n",
    "                {'name': 'median', 'type': 'number'},\n",
    "                {'name': 'std', 'type': 'number'}\n",
    "            ],\n",
    "        },\n",
    "    }"
   ]
  },
  {
   "cell_type": "code",
   "execution_count": 40,
   "id": "bac2c344-c500-4d7e-8383-dd161f18776b",
   "metadata": {},
   "outputs": [],
   "source": [
    "LICENSE = {\n",
    "    \"name\": \"CC-BY-4.0\",\n",
    "    \"path\": \"https://creativecommons.org/licenses/by/4.0/legalcode\",\n",
    "    \"title\": \"Creative Commons Attribution 4.0 International\",\n",
    "}"
   ]
  },
  {
   "cell_type": "code",
   "execution_count": 84,
   "id": "49112cd7-09d4-415c-bf66-5ecb9c01e5e0",
   "metadata": {},
   "outputs": [],
   "source": [
    "def to_datapackage(\n",
    "    dirpath: Path,\n",
    "    resources: list,\n",
    "    resources_metadata: list,\n",
    "    name: str,\n",
    "    author: str,\n",
    "    description: str,\n",
    "    version: Optional[str] = None,\n",
    "    id_: Optional[str] = None,\n",
    "    licenses: Optional[list] = None,\n",
    "):\n",
    "    dirpath.mkdir(parents=True, exist_ok=True)\n",
    "\n",
    "    name = clean_datapackage_name(name)\n",
    "\n",
    "    metadata = {\n",
    "        \"profile\": \"tabular-data-package\",  # https://dataprotocols.org/tabular-data-package/\n",
    "        \"name\": name,\n",
    "        \"description\": description,\n",
    "        \"id\": id_ or uuid.uuid4().hex,\n",
    "        \"licenses\": licenses or [LICENSE],\n",
    "        \"resources\": resources_metadata,\n",
    "        \"created\": datetime.datetime.utcnow().isoformat(\"T\") + \"Z\",\n",
    "    }\n",
    "\n",
    "    json.dump(metadata, open(dirpath / f\"metadata_{name.replace('.csv','')}.json\", \"w\"), indent=2, ensure_ascii=False)\n",
    "    \n",
    "    for df, meta in zip(resources, resources_metadata):\n",
    "        df.to_csv(dirpath / meta['path'], index=False)"
   ]
  },
  {
   "cell_type": "markdown",
   "id": "a99b6783-e615-4730-a162-2733d22d1b61",
   "metadata": {},
   "source": [
    "## Save GWP100 results to datapackage"
   ]
  },
  {
   "cell_type": "code",
   "execution_count": 78,
   "id": "77b565f6-d37e-45c7-a73b-1072f983ba02",
   "metadata": {},
   "outputs": [
    {
     "name": "stdout",
     "output_type": "stream",
     "text": [
      "CPU times: user 255 ms, sys: 11.1 ms, total: 266 ms\n",
      "Wall time: 266 ms\n"
     ]
    }
   ],
   "source": [
    "%%time\n",
    "gwp_results_df = make_dataframe(cc_impacts_samples[0,:,:], rev_act_dict, impact_method='GWP100 IPCC 2021', units='kg CO2-eq')"
   ]
  },
  {
   "cell_type": "code",
   "execution_count": 79,
   "id": "2d27351c-02e2-433e-95e4-2d38b7a7efae",
   "metadata": {},
   "outputs": [
    {
     "data": {
      "text/html": [
       "<div>\n",
       "<style scoped>\n",
       "    .dataframe tbody tr th:only-of-type {\n",
       "        vertical-align: middle;\n",
       "    }\n",
       "\n",
       "    .dataframe tbody tr th {\n",
       "        vertical-align: top;\n",
       "    }\n",
       "\n",
       "    .dataframe thead th {\n",
       "        text-align: right;\n",
       "    }\n",
       "</style>\n",
       "<table border=\"1\" class=\"dataframe\">\n",
       "  <thead>\n",
       "    <tr style=\"text-align: right;\">\n",
       "      <th></th>\n",
       "      <th>name</th>\n",
       "      <th>product_unit</th>\n",
       "      <th>houshold_size</th>\n",
       "      <th>gross_income</th>\n",
       "      <th>mean</th>\n",
       "      <th>median</th>\n",
       "      <th>std</th>\n",
       "      <th>method</th>\n",
       "      <th>unit</th>\n",
       "    </tr>\n",
       "  </thead>\n",
       "  <tbody>\n",
       "    <tr>\n",
       "      <th>0</th>\n",
       "      <td>Accommodation services</td>\n",
       "      <td>CHF</td>\n",
       "      <td>NaN</td>\n",
       "      <td>NaN</td>\n",
       "      <td>0.174</td>\n",
       "      <td>0.174</td>\n",
       "      <td>5.551e-17</td>\n",
       "      <td>GWP100 IPCC 2021</td>\n",
       "      <td>kg CO2-eq</td>\n",
       "    </tr>\n",
       "    <tr>\n",
       "      <th>1</th>\n",
       "      <td>Air travels, tickets</td>\n",
       "      <td>CHF</td>\n",
       "      <td>NaN</td>\n",
       "      <td>NaN</td>\n",
       "      <td>0.971</td>\n",
       "      <td>0.971</td>\n",
       "      <td>3.331e-16</td>\n",
       "      <td>GWP100 IPCC 2021</td>\n",
       "      <td>kg CO2-eq</td>\n",
       "    </tr>\n",
       "    <tr>\n",
       "      <th>2</th>\n",
       "      <td>Alcoholic and non-alcoholic beer</td>\n",
       "      <td>litre</td>\n",
       "      <td>NaN</td>\n",
       "      <td>NaN</td>\n",
       "      <td>0.1026</td>\n",
       "      <td>0.1023</td>\n",
       "      <td>0.007802</td>\n",
       "      <td>GWP100 IPCC 2021</td>\n",
       "      <td>kg CO2-eq</td>\n",
       "    </tr>\n",
       "    <tr>\n",
       "      <th>3</th>\n",
       "      <td>Alcoholic and non-alcoholic liqueurs and lique...</td>\n",
       "      <td>litre</td>\n",
       "      <td>NaN</td>\n",
       "      <td>NaN</td>\n",
       "      <td>0.4941</td>\n",
       "      <td>0.4989</td>\n",
       "      <td>1.11</td>\n",
       "      <td>GWP100 IPCC 2021</td>\n",
       "      <td>kg CO2-eq</td>\n",
       "    </tr>\n",
       "    <tr>\n",
       "      <th>4</th>\n",
       "      <td>Apples</td>\n",
       "      <td>kilogram</td>\n",
       "      <td>NaN</td>\n",
       "      <td>NaN</td>\n",
       "      <td>0.3837</td>\n",
       "      <td>0.3793</td>\n",
       "      <td>0.3062</td>\n",
       "      <td>GWP100 IPCC 2021</td>\n",
       "      <td>kg CO2-eq</td>\n",
       "    </tr>\n",
       "    <tr>\n",
       "      <th>...</th>\n",
       "      <td>...</td>\n",
       "      <td>...</td>\n",
       "      <td>...</td>\n",
       "      <td>...</td>\n",
       "      <td>...</td>\n",
       "      <td>...</td>\n",
       "      <td>...</td>\n",
       "      <td>...</td>\n",
       "      <td>...</td>\n",
       "    </tr>\n",
       "    <tr>\n",
       "      <th>309</th>\n",
       "      <td>household cluster f2</td>\n",
       "      <td>None</td>\n",
       "      <td>3.781991</td>\n",
       "      <td>6380.456853</td>\n",
       "      <td>1737</td>\n",
       "      <td>1664</td>\n",
       "      <td>400.1</td>\n",
       "      <td>GWP100 IPCC 2021</td>\n",
       "      <td>kg CO2-eq</td>\n",
       "    </tr>\n",
       "    <tr>\n",
       "      <th>310</th>\n",
       "      <td>household cluster f3</td>\n",
       "      <td>None</td>\n",
       "      <td>3.830571</td>\n",
       "      <td>8688.641724</td>\n",
       "      <td>2072</td>\n",
       "      <td>1986</td>\n",
       "      <td>474.1</td>\n",
       "      <td>GWP100 IPCC 2021</td>\n",
       "      <td>kg CO2-eq</td>\n",
       "    </tr>\n",
       "    <tr>\n",
       "      <th>311</th>\n",
       "      <td>household cluster f4</td>\n",
       "      <td>None</td>\n",
       "      <td>3.858182</td>\n",
       "      <td>11698.914336</td>\n",
       "      <td>2373</td>\n",
       "      <td>2277</td>\n",
       "      <td>535.8</td>\n",
       "      <td>GWP100 IPCC 2021</td>\n",
       "      <td>kg CO2-eq</td>\n",
       "    </tr>\n",
       "    <tr>\n",
       "      <th>312</th>\n",
       "      <td>household cluster f5</td>\n",
       "      <td>None</td>\n",
       "      <td>3.908530</td>\n",
       "      <td>19629.199431</td>\n",
       "      <td>3021</td>\n",
       "      <td>2909</td>\n",
       "      <td>666.4</td>\n",
       "      <td>GWP100 IPCC 2021</td>\n",
       "      <td>kg CO2-eq</td>\n",
       "    </tr>\n",
       "    <tr>\n",
       "      <th>313</th>\n",
       "      <td>household cluster g</td>\n",
       "      <td>None</td>\n",
       "      <td>3.073446</td>\n",
       "      <td>12561.323618</td>\n",
       "      <td>2091</td>\n",
       "      <td>1952</td>\n",
       "      <td>597.5</td>\n",
       "      <td>GWP100 IPCC 2021</td>\n",
       "      <td>kg CO2-eq</td>\n",
       "    </tr>\n",
       "  </tbody>\n",
       "</table>\n",
       "<p>314 rows × 9 columns</p>\n",
       "</div>"
      ],
      "text/plain": [
       "                                                  name product_unit  \\\n",
       "0                               Accommodation services          CHF   \n",
       "1                                 Air travels, tickets          CHF   \n",
       "2                     Alcoholic and non-alcoholic beer        litre   \n",
       "3    Alcoholic and non-alcoholic liqueurs and lique...        litre   \n",
       "4                                               Apples     kilogram   \n",
       "..                                                 ...          ...   \n",
       "309                               household cluster f2         None   \n",
       "310                               household cluster f3         None   \n",
       "311                               household cluster f4         None   \n",
       "312                               household cluster f5         None   \n",
       "313                                household cluster g         None   \n",
       "\n",
       "     houshold_size  gross_income    mean  median        std            method  \\\n",
       "0              NaN           NaN   0.174   0.174  5.551e-17  GWP100 IPCC 2021   \n",
       "1              NaN           NaN   0.971   0.971  3.331e-16  GWP100 IPCC 2021   \n",
       "2              NaN           NaN  0.1026  0.1023   0.007802  GWP100 IPCC 2021   \n",
       "3              NaN           NaN  0.4941  0.4989       1.11  GWP100 IPCC 2021   \n",
       "4              NaN           NaN  0.3837  0.3793     0.3062  GWP100 IPCC 2021   \n",
       "..             ...           ...     ...     ...        ...               ...   \n",
       "309       3.781991   6380.456853    1737    1664      400.1  GWP100 IPCC 2021   \n",
       "310       3.830571   8688.641724    2072    1986      474.1  GWP100 IPCC 2021   \n",
       "311       3.858182  11698.914336    2373    2277      535.8  GWP100 IPCC 2021   \n",
       "312       3.908530  19629.199431    3021    2909      666.4  GWP100 IPCC 2021   \n",
       "313       3.073446  12561.323618    2091    1952      597.5  GWP100 IPCC 2021   \n",
       "\n",
       "          unit  \n",
       "0    kg CO2-eq  \n",
       "1    kg CO2-eq  \n",
       "2    kg CO2-eq  \n",
       "3    kg CO2-eq  \n",
       "4    kg CO2-eq  \n",
       "..         ...  \n",
       "309  kg CO2-eq  \n",
       "310  kg CO2-eq  \n",
       "311  kg CO2-eq  \n",
       "312  kg CO2-eq  \n",
       "313  kg CO2-eq  \n",
       "\n",
       "[314 rows x 9 columns]"
      ]
     },
     "execution_count": 79,
     "metadata": {},
     "output_type": "execute_result"
    }
   ],
   "source": [
    "gwp_results_df"
   ]
  },
  {
   "cell_type": "code",
   "execution_count": 85,
   "id": "a77792d7-5c87-442b-b86b-4fbcbedd6d3c",
   "metadata": {},
   "outputs": [
    {
     "name": "stdout",
     "output_type": "stream",
     "text": [
      "CPU times: user 4.11 ms, sys: 2.49 ms, total: 6.6 ms\n",
      "Wall time: 5.43 ms\n"
     ]
    }
   ],
   "source": [
    "%%time\n",
    "description='IPCC 2021 GWP100 results for NFP 73 CCL Data Transparency for Sustainbility project.\\\n",
    "             GWP100 impacts for all product categories from the household expenditure survey, followed by the monthly gwp100 impact\\\n",
    "             for the average household as well as various household clusters. Both impacts and gross income are monthly per household values.'\n",
    "to_datapackage(\n",
    "    Path('/Users/ajakobs/Documents/CCL/results/datapackages/'),\n",
    "    [gwp_results_df], \n",
    "    [{'path': 'nfp73-ccl-preliminary-results-ipcc-gwp-april-2023.csv'}],\n",
    "    name='nfp73-ccl-ipcc-2021-gwp100-results',\n",
    "    author='PSI',\n",
    "    description=description,\n",
    "    version=\"1.0\",\n",
    ")"
   ]
  },
  {
   "cell_type": "markdown",
   "id": "25cf98ac-a586-414c-bfcb-22d3cd101523",
   "metadata": {},
   "source": [
    "## Save Ecological Scarcity results to datapackage"
   ]
  },
  {
   "cell_type": "code",
   "execution_count": 81,
   "id": "17f98672-78dd-4199-8e53-2e17947dd970",
   "metadata": {},
   "outputs": [
    {
     "name": "stdout",
     "output_type": "stream",
     "text": [
      "CPU times: user 258 ms, sys: 10.6 ms, total: 268 ms\n",
      "Wall time: 267 ms\n"
     ]
    }
   ],
   "source": [
    "%%time\n",
    "# Now the same for ecological scarcity\n",
    "es_results_df = make_dataframe(es_total_impacts_samples[0,:,:], rev_act_dict, impact_method='Ecological Scarcity total 2021', units='UBP')\n"
   ]
  },
  {
   "cell_type": "code",
   "execution_count": 82,
   "id": "70132595-3909-40a1-b92b-7640c8980f1a",
   "metadata": {},
   "outputs": [
    {
     "data": {
      "text/html": [
       "<div>\n",
       "<style scoped>\n",
       "    .dataframe tbody tr th:only-of-type {\n",
       "        vertical-align: middle;\n",
       "    }\n",
       "\n",
       "    .dataframe tbody tr th {\n",
       "        vertical-align: top;\n",
       "    }\n",
       "\n",
       "    .dataframe thead th {\n",
       "        text-align: right;\n",
       "    }\n",
       "</style>\n",
       "<table border=\"1\" class=\"dataframe\">\n",
       "  <thead>\n",
       "    <tr style=\"text-align: right;\">\n",
       "      <th></th>\n",
       "      <th>name</th>\n",
       "      <th>product_unit</th>\n",
       "      <th>houshold_size</th>\n",
       "      <th>gross_income</th>\n",
       "      <th>mean</th>\n",
       "      <th>median</th>\n",
       "      <th>std</th>\n",
       "      <th>method</th>\n",
       "      <th>unit</th>\n",
       "    </tr>\n",
       "  </thead>\n",
       "  <tbody>\n",
       "    <tr>\n",
       "      <th>0</th>\n",
       "      <td>Accommodation services</td>\n",
       "      <td>CHF</td>\n",
       "      <td>NaN</td>\n",
       "      <td>NaN</td>\n",
       "      <td>1072</td>\n",
       "      <td>1072</td>\n",
       "      <td>0</td>\n",
       "      <td>Ecological Scarcity total 2021</td>\n",
       "      <td>UBP</td>\n",
       "    </tr>\n",
       "    <tr>\n",
       "      <th>1</th>\n",
       "      <td>Air travels, tickets</td>\n",
       "      <td>CHF</td>\n",
       "      <td>NaN</td>\n",
       "      <td>NaN</td>\n",
       "      <td>1783</td>\n",
       "      <td>1783</td>\n",
       "      <td>6.821e-13</td>\n",
       "      <td>Ecological Scarcity total 2021</td>\n",
       "      <td>UBP</td>\n",
       "    </tr>\n",
       "    <tr>\n",
       "      <th>2</th>\n",
       "      <td>Alcoholic and non-alcoholic beer</td>\n",
       "      <td>litre</td>\n",
       "      <td>NaN</td>\n",
       "      <td>NaN</td>\n",
       "      <td>958.5</td>\n",
       "      <td>958.5</td>\n",
       "      <td>513.1</td>\n",
       "      <td>Ecological Scarcity total 2021</td>\n",
       "      <td>UBP</td>\n",
       "    </tr>\n",
       "    <tr>\n",
       "      <th>3</th>\n",
       "      <td>Alcoholic and non-alcoholic liqueurs and lique...</td>\n",
       "      <td>litre</td>\n",
       "      <td>NaN</td>\n",
       "      <td>NaN</td>\n",
       "      <td>2148</td>\n",
       "      <td>2524</td>\n",
       "      <td>8753</td>\n",
       "      <td>Ecological Scarcity total 2021</td>\n",
       "      <td>UBP</td>\n",
       "    </tr>\n",
       "    <tr>\n",
       "      <th>4</th>\n",
       "      <td>Apples</td>\n",
       "      <td>kilogram</td>\n",
       "      <td>NaN</td>\n",
       "      <td>NaN</td>\n",
       "      <td>5886</td>\n",
       "      <td>5926</td>\n",
       "      <td>3792</td>\n",
       "      <td>Ecological Scarcity total 2021</td>\n",
       "      <td>UBP</td>\n",
       "    </tr>\n",
       "    <tr>\n",
       "      <th>...</th>\n",
       "      <td>...</td>\n",
       "      <td>...</td>\n",
       "      <td>...</td>\n",
       "      <td>...</td>\n",
       "      <td>...</td>\n",
       "      <td>...</td>\n",
       "      <td>...</td>\n",
       "      <td>...</td>\n",
       "      <td>...</td>\n",
       "    </tr>\n",
       "    <tr>\n",
       "      <th>309</th>\n",
       "      <td>household cluster f2</td>\n",
       "      <td>None</td>\n",
       "      <td>3.781991</td>\n",
       "      <td>6380.456853</td>\n",
       "      <td>8.692e+05</td>\n",
       "      <td>1.135e+06</td>\n",
       "      <td>1.639e+08</td>\n",
       "      <td>Ecological Scarcity total 2021</td>\n",
       "      <td>UBP</td>\n",
       "    </tr>\n",
       "    <tr>\n",
       "      <th>310</th>\n",
       "      <td>household cluster f3</td>\n",
       "      <td>None</td>\n",
       "      <td>3.830571</td>\n",
       "      <td>8688.641724</td>\n",
       "      <td>8.972e+05</td>\n",
       "      <td>2.664e+06</td>\n",
       "      <td>2.005e+08</td>\n",
       "      <td>Ecological Scarcity total 2021</td>\n",
       "      <td>UBP</td>\n",
       "    </tr>\n",
       "    <tr>\n",
       "      <th>311</th>\n",
       "      <td>household cluster f4</td>\n",
       "      <td>None</td>\n",
       "      <td>3.858182</td>\n",
       "      <td>11698.914336</td>\n",
       "      <td>1.758e+06</td>\n",
       "      <td>2.1e+06</td>\n",
       "      <td>1.944e+08</td>\n",
       "      <td>Ecological Scarcity total 2021</td>\n",
       "      <td>UBP</td>\n",
       "    </tr>\n",
       "    <tr>\n",
       "      <th>312</th>\n",
       "      <td>household cluster f5</td>\n",
       "      <td>None</td>\n",
       "      <td>3.908530</td>\n",
       "      <td>19629.199431</td>\n",
       "      <td>5.921e+06</td>\n",
       "      <td>3.651e+06</td>\n",
       "      <td>2.051e+08</td>\n",
       "      <td>Ecological Scarcity total 2021</td>\n",
       "      <td>UBP</td>\n",
       "    </tr>\n",
       "    <tr>\n",
       "      <th>313</th>\n",
       "      <td>household cluster g</td>\n",
       "      <td>None</td>\n",
       "      <td>3.073446</td>\n",
       "      <td>12561.323618</td>\n",
       "      <td>6.066e+06</td>\n",
       "      <td>6.312e+05</td>\n",
       "      <td>1.739e+08</td>\n",
       "      <td>Ecological Scarcity total 2021</td>\n",
       "      <td>UBP</td>\n",
       "    </tr>\n",
       "  </tbody>\n",
       "</table>\n",
       "<p>314 rows × 9 columns</p>\n",
       "</div>"
      ],
      "text/plain": [
       "                                                  name product_unit  \\\n",
       "0                               Accommodation services          CHF   \n",
       "1                                 Air travels, tickets          CHF   \n",
       "2                     Alcoholic and non-alcoholic beer        litre   \n",
       "3    Alcoholic and non-alcoholic liqueurs and lique...        litre   \n",
       "4                                               Apples     kilogram   \n",
       "..                                                 ...          ...   \n",
       "309                               household cluster f2         None   \n",
       "310                               household cluster f3         None   \n",
       "311                               household cluster f4         None   \n",
       "312                               household cluster f5         None   \n",
       "313                                household cluster g         None   \n",
       "\n",
       "     houshold_size  gross_income       mean     median        std  \\\n",
       "0              NaN           NaN       1072       1072          0   \n",
       "1              NaN           NaN       1783       1783  6.821e-13   \n",
       "2              NaN           NaN      958.5      958.5      513.1   \n",
       "3              NaN           NaN       2148       2524       8753   \n",
       "4              NaN           NaN       5886       5926       3792   \n",
       "..             ...           ...        ...        ...        ...   \n",
       "309       3.781991   6380.456853  8.692e+05  1.135e+06  1.639e+08   \n",
       "310       3.830571   8688.641724  8.972e+05  2.664e+06  2.005e+08   \n",
       "311       3.858182  11698.914336  1.758e+06    2.1e+06  1.944e+08   \n",
       "312       3.908530  19629.199431  5.921e+06  3.651e+06  2.051e+08   \n",
       "313       3.073446  12561.323618  6.066e+06  6.312e+05  1.739e+08   \n",
       "\n",
       "                             method unit  \n",
       "0    Ecological Scarcity total 2021  UBP  \n",
       "1    Ecological Scarcity total 2021  UBP  \n",
       "2    Ecological Scarcity total 2021  UBP  \n",
       "3    Ecological Scarcity total 2021  UBP  \n",
       "4    Ecological Scarcity total 2021  UBP  \n",
       "..                              ...  ...  \n",
       "309  Ecological Scarcity total 2021  UBP  \n",
       "310  Ecological Scarcity total 2021  UBP  \n",
       "311  Ecological Scarcity total 2021  UBP  \n",
       "312  Ecological Scarcity total 2021  UBP  \n",
       "313  Ecological Scarcity total 2021  UBP  \n",
       "\n",
       "[314 rows x 9 columns]"
      ]
     },
     "execution_count": 82,
     "metadata": {},
     "output_type": "execute_result"
    }
   ],
   "source": [
    "es_results_df"
   ]
  },
  {
   "cell_type": "code",
   "execution_count": 86,
   "id": "9b08962e-cd3c-4997-acdc-9594a562b8cb",
   "metadata": {},
   "outputs": [
    {
     "name": "stdout",
     "output_type": "stream",
     "text": [
      "CPU times: user 4.47 ms, sys: 2.79 ms, total: 7.26 ms\n",
      "Wall time: 5.58 ms\n"
     ]
    }
   ],
   "source": [
    "%%time\n",
    "description='Ecological Scarcity total 2021 results for NFP 73 CCL Data Transparency for Sustainbility project.\\\n",
    "             Ecological Scarcity impacts for all product categories from the household expenditure survey, followed by the monthly Ecological Scarcity\\\n",
    "             impact for the average household as well as various household clusters. Both impacts and gross income are monthly per household values.'\n",
    "to_datapackage(\n",
    "    Path('/Users/ajakobs/Documents/CCL/results/datapackages/'),\n",
    "    [es_results_df], \n",
    "    [{'path': 'nfp73-ccl-preliminary-results-ecological-scarcity-2021-april-2023.csv'}],\n",
    "    name='nfp73-ccl-ecological-scarcity-2021-results',\n",
    "    author='PSI',\n",
    "    description=description,\n",
    "    version=\"1.0\",\n",
    ")"
   ]
  },
  {
   "cell_type": "markdown",
   "id": "5b07ae0d-7e77-4461-be12-5570a0b2629a",
   "metadata": {},
   "source": [
    "# Write cluster mapping dict to json file"
   ]
  },
  {
   "cell_type": "code",
   "execution_count": 87,
   "id": "aba69e1f-ed74-446e-b92b-8d658a56f2df",
   "metadata": {},
   "outputs": [],
   "source": [
    "with open('/Users/ajakobs/Documents/CCL/results/datapackages/household-cluster-label-mapping.json', 'w',encoding=\"utf-8\") as file:\n",
    "    json.dump(mapping_dict, file)"
   ]
  },
  {
   "cell_type": "code",
   "execution_count": null,
   "id": "69f97b84-844f-4780-b827-865509fe334a",
   "metadata": {},
   "outputs": [],
   "source": []
  }
 ],
 "metadata": {
  "kernelspec": {
   "display_name": "Python 3 (ipykernel)",
   "language": "python",
   "name": "python3"
  },
  "language_info": {
   "codemirror_mode": {
    "name": "ipython",
    "version": 3
   },
   "file_extension": ".py",
   "mimetype": "text/x-python",
   "name": "python",
   "nbconvert_exporter": "python",
   "pygments_lexer": "ipython3",
   "version": "3.10.6"
  }
 },
 "nbformat": 4,
 "nbformat_minor": 5
}
