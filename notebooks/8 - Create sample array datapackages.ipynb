{
 "cells": [
  {
   "cell_type": "code",
   "execution_count": 16,
   "id": "d1ccdda9-c61e-421e-942e-1881930b28ee",
   "metadata": {},
   "outputs": [],
   "source": [
    "import bw_processing as bwp\n",
    "import bw2data as bd\n",
    "import bw2io as bi\n",
    "import numpy as np\n",
    "import pandas as pd\n",
    "import csv\n",
    "from fs.zipfs import ZipFS\n",
    "from collections import defaultdict\n",
    "import uuid"
   ]
  },
  {
   "cell_type": "code",
   "execution_count": 2,
   "id": "133e4b4c-f789-4a67-a7ef-af0ddeecaea8",
   "metadata": {},
   "outputs": [
    {
     "name": "stdout",
     "output_type": "stream",
     "text": [
      "Restoring project backup archive - this could take a few minutes...\n"
     ]
    },
    {
     "data": {
      "text/plain": [
       "'eco-ex-March-2023'"
      ]
     },
     "execution_count": 2,
     "metadata": {},
     "output_type": "execute_result"
    }
   ],
   "source": [
    "bi.restore_project_directory(\"/Users/ajakobs/Documents/data/hybrid-eco-exio/CH_household_hybrid_project_eco391_ex381_march_28.tar.gz\")"
   ]
  },
  {
   "cell_type": "code",
   "execution_count": 3,
   "id": "3776beb0-90c8-4735-ae26-fcbb366296d7",
   "metadata": {},
   "outputs": [],
   "source": [
    "bd.projects.set_current('eco-ex-March-2023')"
   ]
  },
  {
   "cell_type": "code",
   "execution_count": 4,
   "id": "2dc922e2-af0c-4955-bf47-7c82482fd2eb",
   "metadata": {},
   "outputs": [],
   "source": [
    "fu_file = '/Users/ajakobs/Documents/CCL/consumption_model_ch/consumption_model_ch/data/functional_units/habe20152017_hh_prepared_imputed.csv'"
   ]
  },
  {
   "cell_type": "code",
   "execution_count": 5,
   "id": "f429da3e-ccb1-4bb6-9697-eb2906e2daca",
   "metadata": {},
   "outputs": [],
   "source": [
    "arr = np.genfromtxt(fu_file, delimiter=',')[1:, 1:]"
   ]
  },
  {
   "cell_type": "markdown",
   "id": "b46ef4f7-20f4-4d8d-b18e-9d35c0af8b83",
   "metadata": {},
   "source": [
    "`columns` are the string labels for the different consumption items.\n",
    "\n",
    "`rows` are the individual household string IDs."
   ]
  },
  {
   "cell_type": "code",
   "execution_count": 6,
   "id": "6c18fce7-5d3e-4eee-a465-db8a0560745a",
   "metadata": {},
   "outputs": [],
   "source": [
    "columns = next(csv.reader(open(fu_file)))[1:]\n",
    "rows = [row[0] for row in csv.reader(open(fu_file))][1:]"
   ]
  },
  {
   "cell_type": "markdown",
   "id": "8450bd6a-20fc-46b9-82ff-0725326f4a0c",
   "metadata": {},
   "source": [
    "Map lower-case cluster codes to a list of string household IDs"
   ]
  },
  {
   "cell_type": "code",
   "execution_count": 7,
   "id": "50398b87-7eda-4c81-9fac-a9f6ac826e83",
   "metadata": {},
   "outputs": [],
   "source": [
    "df = pd.read_csv('/Users/ajakobs/Documents/CCL/scripts/notebooks/write_files/ccl_dev/households_clustering_total.csv')\n",
    "cluster_mapping = defaultdict(list)\n",
    "for code, household in zip(df['cluster_code'], df['HaushaltID']):\n",
    "    cluster_mapping[code].append(str(household))"
   ]
  },
  {
   "cell_type": "code",
   "execution_count": 8,
   "id": "a7e3f881-b9ec-499a-863b-c24a2e83e163",
   "metadata": {},
   "outputs": [],
   "source": [
    "consump = bd.Database('swiss consumption 1.0')\n",
    "code_mapping = {x['code']: x.id for x in consump}"
   ]
  },
  {
   "cell_type": "code",
   "execution_count": 9,
   "id": "bbff840a-766d-49f1-aefe-72e0856a4938",
   "metadata": {},
   "outputs": [
    {
     "data": {
      "text/plain": [
       "107"
      ]
     },
     "execution_count": 9,
     "metadata": {},
     "output_type": "execute_result"
    }
   ],
   "source": [
    "fu_list = sorted([\n",
    "    act['name'] for act in consump \n",
    "    if act['name'].startswith('ch hh average') or act['name'].startswith('household cluster')\n",
    "])\n",
    "len(fu_list)"
   ]
  },
  {
   "cell_type": "code",
   "execution_count": 10,
   "id": "6c700267-16b6-4b30-b240-bed7284b9733",
   "metadata": {},
   "outputs": [],
   "source": [
    "def clean_name(string):\n",
    "    return string.replace(\"household cluster \", \"\").replace(\", years 151617\", \"\")\\\n",
    "                 .replace(\"consumption\", \"\")\\\n",
    "                 .replace(\"disaggregated\", \"\").strip()"
   ]
  },
  {
   "cell_type": "code",
   "execution_count": 23,
   "id": "bf8c1a5f-9c20-4276-80b2-4048f3e6f167",
   "metadata": {},
   "outputs": [],
   "source": [
    "def create_samples_datapackage(func_unit_names, filename, data_arr, database_name='swiss consumption 1.0'):\n",
    "    dp = bwp.create_datapackage(\n",
    "        fs=ZipFS(filename, write=True),\n",
    "        name=\"Array datapackage for Swiss household consumption\",\n",
    "        sum_intra_duplicates=True,\n",
    "        sum_inter_duplicates=False,\n",
    "    )\n",
    "\n",
    "    # Iterate over activity names from the database\n",
    "    for func_unit_name in func_unit_names:\n",
    "        arr = data_arr.copy()\n",
    "        node = bd.get_node(database=database_name, name=func_unit_name)\n",
    "    \n",
    "        if not func_unit_name.startswith('ch hh average consumption'):\n",
    "            cluster_code = func_unit_name.replace(\"household cluster\", \"\").replace(\"consumption, years 151617\", \"\").strip()\n",
    "            row_mask = np.array([elem in cluster_mapping[cluster_code] for elem in rows])\n",
    "            arr = arr[row_mask, :]\n",
    "            print(func_unit_name, row_mask.shape, row_mask.sum())\n",
    "                \n",
    "        col_mask = np.array([col_label in code_mapping for col_label in columns])\n",
    "        arr = arr[:, col_mask]\n",
    "\n",
    "        # Make sure there aren't any other exchanges which we don't have in our sampled data\n",
    "        for exc in node.technosphere():\n",
    "            assert exc.input['code'] in columns\n",
    "\n",
    "        indices = np.array(\n",
    "            [\n",
    "                (code_mapping[col_label], node.id) \n",
    "                for col_label in columns if col_label in code_mapping\n",
    "            ], dtype=bwp.INDICES_DTYPE\n",
    "        )\n",
    "\n",
    "        dp.add_persistent_array(\n",
    "            matrix=\"technosphere_matrix\",\n",
    "            indices_array=indices,\n",
    "            name=\"Array for {}\".format(clean_name(func_unit_name)+str(uuid.uuid4())),\n",
    "            # Transpose as inputs are rows and samples are columns\n",
    "            data_array=arr.T,\n",
    "            # All inputs; need to have signs flipped in technosphere matrix\n",
    "            flip_array=np.array([True] * len(indices))\n",
    "        )\n",
    "\n",
    "    dp.finalize_serialization()"
   ]
  },
  {
   "cell_type": "code",
   "execution_count": 24,
   "id": "445b64bb-45b5-4962-8037-bd678cb23ca9",
   "metadata": {},
   "outputs": [
    {
     "name": "stdout",
     "output_type": "stream",
     "text": [
      "household cluster 1 consumption, years 151617 (9955,) 1861\n",
      "household cluster 2 consumption, years 151617 (9955,) 2017\n",
      "household cluster 3 consumption, years 151617 (9955,) 2057\n",
      "household cluster 4 consumption, years 151617 (9955,) 2049\n",
      "household cluster 5 consumption, years 151617 (9955,) 1771\n",
      "household cluster 6 consumption, years 151617 (9955,) 200\n",
      "household cluster A consumption, years 151617 (9955,) 1592\n",
      "household cluster A1 consumption, years 151617 (9955,) 309\n",
      "household cluster A2 consumption, years 151617 (9955,) 293\n",
      "household cluster A3 consumption, years 151617 (9955,) 316\n",
      "household cluster A4 consumption, years 151617 (9955,) 311\n",
      "household cluster A5 consumption, years 151617 (9955,) 363\n",
      "household cluster Aa consumption, years 151617 (9955,) 336\n",
      "household cluster Ab consumption, years 151617 (9955,) 163\n",
      "household cluster Ac consumption, years 151617 (9955,) 264\n",
      "household cluster Ad consumption, years 151617 (9955,) 223\n",
      "household cluster Af consumption, years 151617 (9955,) 426\n",
      "household cluster B consumption, years 151617 (9955,) 2146\n",
      "household cluster B1 consumption, years 151617 (9955,) 398\n",
      "household cluster B2 consumption, years 151617 (9955,) 455\n",
      "household cluster B3 consumption, years 151617 (9955,) 477\n",
      "household cluster B4 consumption, years 151617 (9955,) 463\n",
      "household cluster B5 consumption, years 151617 (9955,) 353\n",
      "household cluster Ba consumption, years 151617 (9955,) 450\n",
      "household cluster Bb consumption, years 151617 (9955,) 212\n",
      "household cluster Bc consumption, years 151617 (9955,) 415\n",
      "household cluster Bd consumption, years 151617 (9955,) 364\n",
      "household cluster Bf consumption, years 151617 (9955,) 555\n",
      "household cluster C consumption, years 151617 (9955,) 1153\n",
      "household cluster C1 consumption, years 151617 (9955,) 191\n",
      "household cluster C2 consumption, years 151617 (9955,) 237\n",
      "household cluster C3 consumption, years 151617 (9955,) 231\n",
      "household cluster C4 consumption, years 151617 (9955,) 251\n",
      "household cluster C5 consumption, years 151617 (9955,) 243\n",
      "household cluster Ca consumption, years 151617 (9955,) 254\n",
      "household cluster Cc consumption, years 151617 (9955,) 244\n",
      "household cluster Cd consumption, years 151617 (9955,) 212\n",
      "household cluster Cf consumption, years 151617 (9955,) 252\n",
      "household cluster D consumption, years 151617 (9955,) 1689\n",
      "household cluster D1 consumption, years 151617 (9955,) 252\n",
      "household cluster D2 consumption, years 151617 (9955,) 316\n",
      "household cluster D3 consumption, years 151617 (9955,) 330\n",
      "household cluster D4 consumption, years 151617 (9955,) 363\n",
      "household cluster D5 consumption, years 151617 (9955,) 428\n",
      "household cluster Da consumption, years 151617 (9955,) 383\n",
      "household cluster Db consumption, years 151617 (9955,) 184\n",
      "household cluster Dc consumption, years 151617 (9955,) 341\n",
      "household cluster Dd consumption, years 151617 (9955,) 248\n",
      "household cluster Df consumption, years 151617 (9955,) 415\n",
      "household cluster E consumption, years 151617 (9955,) 1263\n",
      "household cluster E1 consumption, years 151617 (9955,) 243\n",
      "household cluster E2 consumption, years 151617 (9955,) 252\n",
      "household cluster E3 consumption, years 151617 (9955,) 275\n",
      "household cluster E4 consumption, years 151617 (9955,) 269\n",
      "household cluster E5 consumption, years 151617 (9955,) 224\n",
      "household cluster Ea consumption, years 151617 (9955,) 240\n",
      "household cluster Ec consumption, years 151617 (9955,) 271\n",
      "household cluster Ed consumption, years 151617 (9955,) 191\n",
      "household cluster Ef consumption, years 151617 (9955,) 344\n",
      "household cluster F consumption, years 151617 (9955,) 1031\n",
      "household cluster F1 consumption, years 151617 (9955,) 186\n",
      "household cluster F2 consumption, years 151617 (9955,) 204\n",
      "household cluster F3 consumption, years 151617 (9955,) 204\n",
      "household cluster F4 consumption, years 151617 (9955,) 216\n",
      "household cluster F5 consumption, years 151617 (9955,) 221\n",
      "household cluster Fa consumption, years 151617 (9955,) 190\n",
      "household cluster Fc consumption, years 151617 (9955,) 200\n",
      "household cluster Fd consumption, years 151617 (9955,) 156\n",
      "household cluster Ff consumption, years 151617 (9955,) 307\n",
      "household cluster G consumption, years 151617 (9955,) 1081\n",
      "household cluster G1 consumption, years 151617 (9955,) 282\n",
      "household cluster G2 consumption, years 151617 (9955,) 260\n",
      "household cluster G3 consumption, years 151617 (9955,) 224\n",
      "household cluster G4 consumption, years 151617 (9955,) 176\n",
      "household cluster Ga consumption, years 151617 (9955,) 205\n",
      "household cluster Gc consumption, years 151617 (9955,) 171\n",
      "household cluster Gd consumption, years 151617 (9955,) 171\n",
      "household cluster Gf consumption, years 151617 (9955,) 301\n",
      "household cluster Gro_Ein_rest consumption, years 151617 (9955,) 139\n",
      "household cluster Gro_Hau_rest consumption, years 151617 (9955,) 1267\n",
      "household cluster Hau_Ein_rest consumption, years 151617 (9955,) 1257\n",
      "household cluster a consumption, years 151617 (9955,) 2058\n",
      "household cluster a1 consumption, years 151617 (9955,) 606\n",
      "household cluster a2 consumption, years 151617 (9955,) 689\n",
      "household cluster a3 consumption, years 151617 (9955,) 473\n",
      "household cluster a4 consumption, years 151617 (9955,) 204\n",
      "household cluster b consumption, years 151617 (9955,) 1028\n",
      "household cluster b1 consumption, years 151617 (9955,) 680\n",
      "household cluster b2 consumption, years 151617 (9955,) 246\n",
      "household cluster c consumption, years 151617 (9955,) 1906\n",
      "household cluster c2 consumption, years 151617 (9955,) 187\n",
      "household cluster c3 consumption, years 151617 (9955,) 390\n",
      "household cluster c4 consumption, years 151617 (9955,) 599\n",
      "household cluster c5 consumption, years 151617 (9955,) 635\n",
      "household cluster d consumption, years 151617 (9955,) 1565\n",
      "household cluster d1 consumption, years 151617 (9955,) 314\n",
      "household cluster d2 consumption, years 151617 (9955,) 501\n",
      "household cluster d3 consumption, years 151617 (9955,) 413\n",
      "household cluster d4 consumption, years 151617 (9955,) 209\n",
      "household cluster e consumption, years 151617 (9955,) 444\n",
      "household cluster f consumption, years 151617 (9955,) 2600\n",
      "household cluster f2 consumption, years 151617 (9955,) 211\n",
      "household cluster f3 consumption, years 151617 (9955,) 543\n",
      "household cluster f4 consumption, years 151617 (9955,) 825\n",
      "household cluster f5 consumption, years 151617 (9955,) 973\n",
      "household cluster g consumption, years 151617 (9955,) 354\n"
     ]
    }
   ],
   "source": [
    "create_samples_datapackage(\n",
    "    fu_list,\n",
    "    '..//write_files/ccl_dev/household_archetypes.zip',\n",
    "    arr\n",
    ")"
   ]
  },
  {
   "cell_type": "code",
   "execution_count": null,
   "id": "ea1d83b9-b764-4a19-8852-9503c8a165f6",
   "metadata": {},
   "outputs": [],
   "source": []
  }
 ],
 "metadata": {
  "kernelspec": {
   "display_name": "Python 3 (ipykernel)",
   "language": "python",
   "name": "python3"
  },
  "language_info": {
   "codemirror_mode": {
    "name": "ipython",
    "version": 3
   },
   "file_extension": ".py",
   "mimetype": "text/x-python",
   "name": "python",
   "nbconvert_exporter": "python",
   "pygments_lexer": "ipython3",
   "version": "3.10.6"
  }
 },
 "nbformat": 4,
 "nbformat_minor": 5
}
