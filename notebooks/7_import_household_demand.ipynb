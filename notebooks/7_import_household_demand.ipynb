{
 "cells": [
  {
   "cell_type": "code",
   "execution_count": 1,
   "id": "54bf87ed-8930-4dcb-982b-15cb8b6bd296",
   "metadata": {},
   "outputs": [],
   "source": [
    "import bw2data as bd\n",
    "import bw2calc as bc\n",
    "import bw2analyzer as ba\n",
    "import bw2io as bi\n",
    "from tqdm import tqdm"
   ]
  },
  {
   "cell_type": "code",
   "execution_count": 2,
   "id": "f8fa0b61-76bd-4210-9249-a0a26eaa6f47",
   "metadata": {},
   "outputs": [
    {
     "data": {
      "text/plain": [
       "((4, 0, 'DEV18'), (2, 0, 'DEV12'), (0, 11, 4), (0, 9, 'DEV14'))"
      ]
     },
     "execution_count": 2,
     "metadata": {},
     "output_type": "execute_result"
    }
   ],
   "source": [
    "bd.__version__, bc.__version__, ba.__version__, bi.__version__"
   ]
  },
  {
   "cell_type": "code",
   "execution_count": 3,
   "id": "6259325f-203b-4505-aabe-86a088883345",
   "metadata": {},
   "outputs": [
    {
     "name": "stdout",
     "output_type": "stream",
     "text": [
      "Restoring project backup archive - this could take a few minutes...\n"
     ]
    },
    {
     "data": {
      "text/plain": [
       "'eco-ex-March-2023'"
      ]
     },
     "execution_count": 3,
     "metadata": {},
     "output_type": "execute_result"
    }
   ],
   "source": [
    "bi.restore_project_directory(\"/Users/ajakobs/Documents/data/hybrid-eco-exio/eco-ex-March-2023-aggregated.tar.gz\")"
   ]
  },
  {
   "cell_type": "code",
   "execution_count": 4,
   "id": "1cf6555e-b883-4d6f-9053-c3c29b2174da",
   "metadata": {},
   "outputs": [],
   "source": [
    "bd.projects.set_current(\"eco-ex-March-2023\")"
   ]
  },
  {
   "cell_type": "code",
   "execution_count": 5,
   "id": "866ff246-f85a-4ec6-8f4a-a5e050777609",
   "metadata": {},
   "outputs": [
    {
     "data": {
      "text/plain": [
       "Databases dictionary with 5 object(s):\n",
       "\tbiosphere3\n",
       "\tecoinvent-3.9.1-cutoff\n",
       "\texiobase-3.8.1-monetary\n",
       "\texiobase-3.8.1-monetary biosphere\n",
       "\tswiss consumption 1.0"
      ]
     },
     "execution_count": 5,
     "metadata": {},
     "output_type": "execute_result"
    }
   ],
   "source": [
    "bd.databases"
   ]
  },
  {
   "cell_type": "code",
   "execution_count": 6,
   "id": "2a2ca902-8ab1-4c3c-b052-3bc80ca77adf",
   "metadata": {},
   "outputs": [],
   "source": [
    "del bd.databases['swiss consumption 1.0']"
   ]
  },
  {
   "cell_type": "code",
   "execution_count": 7,
   "id": "fd9163f1-4996-4804-998a-b8aa5a479132",
   "metadata": {},
   "outputs": [
    {
     "name": "stdout",
     "output_type": "stream",
     "text": [
      "biosphere3 []\n",
      "ecoinvent-3.9.1-cutoff ['biosphere3', 'exiobase-3.8.1-monetary']\n",
      "exiobase-3.8.1-monetary biosphere []\n",
      "exiobase-3.8.1-monetary ['biosphere3']\n"
     ]
    }
   ],
   "source": [
    "for db in bd.databases:\n",
    "    print(db, bd.databases[db]['depends'])"
   ]
  },
  {
   "cell_type": "code",
   "execution_count": 8,
   "id": "c983be67-ee14-49ad-a95c-4c142f593b19",
   "metadata": {},
   "outputs": [
    {
     "name": "stdout",
     "output_type": "stream",
     "text": [
      "Extracted 1 worksheets in 0.12 seconds\n"
     ]
    }
   ],
   "source": [
    "imp = bi.CSVImporter('/Users/ajakobs/Library/Application Support/Brightway3/CCL-dev.f4b5e8d8/output/lci-swiss-consumption-10.csv')"
   ]
  },
  {
   "cell_type": "code",
   "execution_count": 9,
   "id": "42c1d1bb-f514-49ef-bf47-ba66cfe86032",
   "metadata": {},
   "outputs": [],
   "source": [
    "def fix_wastewater(data):\n",
    "    OLD = {\n",
    "        'treatment of wastewater, average, capacity 1.1E10l/year',\n",
    "        'treatment of wastewater, average, capacity 1.6E8l/year',\n",
    "        'treatment of wastewater, average, capacity 1E9l/year',\n",
    "        'treatment of wastewater, average, capacity 4.7E10l/year',\n",
    "        'treatment of wastewater, average, capacity 5E9l/year',\n",
    "    }\n",
    "    NEW = 'treatment of wastewater, average, wastewater treatment'\n",
    "    \n",
    "    for ds in data:\n",
    "        for exc in ds['exchanges']:\n",
    "            if exc['name'] in OLD:\n",
    "                exc['name'] = NEW\n",
    "    return data"
   ]
  },
  {
   "cell_type": "code",
   "execution_count": 10,
   "id": "7ca6b47c-d747-4879-930b-bbb398f95db5",
   "metadata": {},
   "outputs": [],
   "source": [
    "imp.strategies.append(fix_wastewater)"
   ]
  },
  {
   "cell_type": "code",
   "execution_count": 11,
   "id": "792c0994-8398-45ea-be93-a070bb920568",
   "metadata": {},
   "outputs": [
    {
     "name": "stdout",
     "output_type": "stream",
     "text": [
      "Applying strategy: csv_restore_tuples\n",
      "Applying strategy: csv_restore_booleans\n",
      "Applying strategy: csv_numerize\n",
      "Applying strategy: csv_drop_unknown\n",
      "Applying strategy: csv_add_missing_exchanges_section\n",
      "Applying strategy: normalize_units\n",
      "Applying strategy: normalize_biosphere_categories\n",
      "Applying strategy: normalize_biosphere_names\n",
      "Applying strategy: strip_biosphere_exc_locations\n",
      "Applying strategy: set_code_by_activity_hash\n",
      "Applying strategy: link_iterable_by_fields\n",
      "Applying strategy: assign_only_product_as_production\n",
      "Applying strategy: link_technosphere_by_activity_hash\n",
      "Applying strategy: drop_falsey_uncertainty_fields_but_keep_zeros\n",
      "Applying strategy: convert_uncertainty_types_to_integers\n",
      "Applying strategy: convert_activity_parameters_to_list\n",
      "Applying strategy: fix_wastewater\n",
      "Applied 17 strategies in 18.73 seconds\n",
      "Applying strategy: link_iterable_by_fields\n",
      "Applying strategy: link_iterable_by_fields\n",
      "Applying strategy: link_iterable_by_fields\n",
      "Applying strategy: link_iterable_by_fields\n",
      "314 datasets\n",
      "28223 exchanges\n",
      "0 unlinked exchanges\n",
      "  \n",
      "CPU times: user 1min 7s, sys: 7.41 s, total: 1min 14s\n",
      "Wall time: 1min 39s\n"
     ]
    },
    {
     "data": {
      "text/plain": [
       "(314, 28223, 0)"
      ]
     },
     "execution_count": 11,
     "metadata": {},
     "output_type": "execute_result"
    }
   ],
   "source": [
    "%%time\n",
    "imp.apply_strategies()\n",
    "imp.match_database(fields=['name', 'location'])\n",
    "imp.match_database('ecoinvent-3.9.1-cutoff')\n",
    "imp.match_database('ecoinvent-3.9.1-cutoff', fields=['name', 'unit', 'location'])\n",
    "imp.match_database('exiobase-3.8.1-monetary', fields=['name', 'location'])\n",
    "imp.statistics()"
   ]
  },
  {
   "cell_type": "code",
   "execution_count": 12,
   "id": "85ced82f-febd-4594-9bd0-e89494ec776b",
   "metadata": {},
   "outputs": [
    {
     "name": "stderr",
     "output_type": "stream",
     "text": [
      "Writing activities to SQLite3 database:\n",
      "0% [##############################] 100% | ETA: 00:00:00\n",
      "Total time elapsed: 00:00:02\n"
     ]
    },
    {
     "name": "stdout",
     "output_type": "stream",
     "text": [
      "Title: Writing activities to SQLite3 database:\n",
      "  Started: 03/28/2023 21:05:08\n",
      "  Finished: 03/28/2023 21:05:10\n",
      "  Total time elapsed: 00:00:02\n",
      "  CPU %: 95.30\n",
      "  Memory %: 2.75\n",
      "Created database: swiss consumption 1.0\n"
     ]
    }
   ],
   "source": [
    "imp.write_database()"
   ]
  },
  {
   "cell_type": "code",
   "execution_count": 13,
   "id": "4651295d-3601-4a2d-9b07-a92c7ad9ad59",
   "metadata": {},
   "outputs": [
    {
     "data": {
      "text/plain": [
       "Databases dictionary with 5 object(s):\n",
       "\tbiosphere3\n",
       "\tecoinvent-3.9.1-cutoff\n",
       "\texiobase-3.8.1-monetary\n",
       "\texiobase-3.8.1-monetary biosphere\n",
       "\tswiss consumption 1.0"
      ]
     },
     "execution_count": 13,
     "metadata": {},
     "output_type": "execute_result"
    }
   ],
   "source": [
    "bd.databases"
   ]
  },
  {
   "cell_type": "markdown",
   "id": "7fbf2a87-a18c-4388-8b31-9227383bd93b",
   "metadata": {},
   "source": [
    "## back up for further use"
   ]
  },
  {
   "cell_type": "code",
   "execution_count": 14,
   "id": "658332bb-2f67-41bc-9688-7ae3dc2ff791",
   "metadata": {},
   "outputs": [
    {
     "name": "stdout",
     "output_type": "stream",
     "text": [
      "Creating project backup archive - this could take a few minutes...\n"
     ]
    }
   ],
   "source": [
    "bi.backup_project_directory(project=\"eco-ex-March-2023\")\n"
   ]
  },
  {
   "cell_type": "code",
   "execution_count": 15,
   "id": "a0d34248-6434-41f6-b791-1fe075feedca",
   "metadata": {},
   "outputs": [],
   "source": [
    "# saved here: \"/Users/ajakobs/brightway2-project-eco-ex-March-2023-backup.28-March-2023-09-05PM.tar.gz"
   ]
  },
  {
   "cell_type": "code",
   "execution_count": null,
   "id": "f1ac91c0-d222-42f5-90aa-8efb536db6eb",
   "metadata": {},
   "outputs": [],
   "source": []
  },
  {
   "cell_type": "code",
   "execution_count": null,
   "id": "42cf6eed-2bd0-4717-a748-29604d6e3d93",
   "metadata": {},
   "outputs": [],
   "source": []
  }
 ],
 "metadata": {
  "kernelspec": {
   "display_name": "Python [conda env:bw25]",
   "language": "python",
   "name": "conda-env-bw25-py"
  },
  "language_info": {
   "codemirror_mode": {
    "name": "ipython",
    "version": 3
   },
   "file_extension": ".py",
   "mimetype": "text/x-python",
   "name": "python",
   "nbconvert_exporter": "python",
   "pygments_lexer": "ipython3",
   "version": "3.11.0"
  }
 },
 "nbformat": 4,
 "nbformat_minor": 5
}
