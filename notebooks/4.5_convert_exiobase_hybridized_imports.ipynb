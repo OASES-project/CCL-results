{
 "cells": [
  {
   "cell_type": "code",
   "execution_count": 1,
   "id": "54bf87ed-8930-4dcb-982b-15cb8b6bd296",
   "metadata": {},
   "outputs": [],
   "source": [
    "import bw2data as bd\n",
    "import bw2calc as bc\n",
    "import bw2analyzer as ba\n",
    "import bw2io as bi\n",
    "from tqdm import tqdm"
   ]
  },
  {
   "cell_type": "code",
   "execution_count": 2,
   "id": "f8fa0b61-76bd-4210-9249-a0a26eaa6f47",
   "metadata": {},
   "outputs": [
    {
     "data": {
      "text/plain": [
       "((4, 0, 'DEV18'), (2, 0, 'DEV12'), (0, 11, 4), (0, 9, 'DEV9'))"
      ]
     },
     "execution_count": 2,
     "metadata": {},
     "output_type": "execute_result"
    }
   ],
   "source": [
    "bd.__version__, bc.__version__, ba.__version__, bi.__version__"
   ]
  },
  {
   "cell_type": "code",
   "execution_count": 3,
   "id": "37471892-68ff-42da-8df2-8fc19738d31c",
   "metadata": {},
   "outputs": [],
   "source": [
    "bd.projects.set_current(\"eco-ex\")"
   ]
  },
  {
   "cell_type": "code",
   "execution_count": 4,
   "id": "fa35bd5b-e974-4ac6-9e0a-9304df997456",
   "metadata": {},
   "outputs": [
    {
     "data": {
      "text/plain": [
       "Databases dictionary with 4 object(s):\n",
       "\tbiosphere3\n",
       "\tecoinvent-3.8-cutoff\n",
       "\texiobase-3.8.1-monetary\n",
       "\texiobase-3.8.1-monetary biosphere"
      ]
     },
     "execution_count": 4,
     "metadata": {},
     "output_type": "execute_result"
    }
   ],
   "source": [
    "bd.databases"
   ]
  },
  {
   "cell_type": "code",
   "execution_count": 6,
   "id": "a61f6073-6b0f-4fba-9671-b43876f2e541",
   "metadata": {},
   "outputs": [
    {
     "name": "stderr",
     "output_type": "stream",
     "text": [
      "100%|██████████| 19565/19565 [24:39<00:00, 13.22it/s] \n"
     ]
    }
   ],
   "source": [
    "for act in tqdm(bd.Database(\"ecoinvent-3.8-cutoff\")):\n",
    "    for exc in act.technosphere():\n",
    "        if exc.get('rescaled'):\n",
    "            continue\n",
    "        elif exc.input['database'] == 'exiobase-3.8.1-monetary':\n",
    "            exc['amount'] = exc['amount'] / 1e6\n",
    "            exc['rescaled'] = True\n",
    "            exc.save()"
   ]
  },
  {
   "cell_type": "code",
   "execution_count": 7,
   "id": "4c489028-fe28-45dd-b631-b566e27199a2",
   "metadata": {},
   "outputs": [],
   "source": [
    "bd.Database(\"ecoinvent-3.8-cutoff\").process()"
   ]
  },
  {
   "cell_type": "markdown",
   "id": "07c43487-5568-42ae-a9d9-3d14b5719b27",
   "metadata": {},
   "source": [
    "Test to make sure we get hybridization included in our results:"
   ]
  },
  {
   "cell_type": "code",
   "execution_count": 8,
   "id": "b102435a-e28e-42ea-9727-815b6db8573e",
   "metadata": {
    "tags": []
   },
   "outputs": [],
   "source": [
    "ipcc = ('IPCC 2013', 'climate change', 'GWP 100a')"
   ]
  },
  {
   "cell_type": "code",
   "execution_count": 9,
   "id": "5ddffaaa-569d-4024-97d2-123a2d4cccc4",
   "metadata": {},
   "outputs": [],
   "source": [
    "elec = bd.get_activity(\n",
    "    name='market group for electricity, low voltage',\n",
    "    unit='kilowatt hour',\n",
    "    location='US',\n",
    "    database=\"ecoinvent-3.8-cutoff\"\n",
    ")"
   ]
  },
  {
   "cell_type": "code",
   "execution_count": 10,
   "id": "59ff5279-c87d-4cec-9d52-73158526d7b5",
   "metadata": {},
   "outputs": [],
   "source": [
    "lca = bc.LCA({elec: 1}, ipcc)\n",
    "lca.lci()\n",
    "lca.lcia()"
   ]
  },
  {
   "cell_type": "code",
   "execution_count": 11,
   "id": "855d48ed-4d12-446e-80f5-4af3db161d20",
   "metadata": {},
   "outputs": [
    {
     "data": {
      "text/plain": [
       "0.5132577575434085"
      ]
     },
     "execution_count": 11,
     "metadata": {},
     "output_type": "execute_result"
    }
   ],
   "source": [
    "lca.score"
   ]
  },
  {
   "cell_type": "code",
   "execution_count": 12,
   "id": "f6e5cb46-c209-4b34-8e32-abf09dda5452",
   "metadata": {},
   "outputs": [],
   "source": [
    "ca = ba.ContributionAnalysis()"
   ]
  },
  {
   "cell_type": "code",
   "execution_count": 13,
   "id": "f9301cad-c8bc-4ecd-a0c3-3a33b82a4f9c",
   "metadata": {},
   "outputs": [
    {
     "data": {
      "text/plain": [
       "[(0.06150752808337321,\n",
       "  0.05768271575216754,\n",
       "  'electricity production, hard coal' (kilowatt hour, US-RFC, None)),\n",
       " (0.060475898943734785,\n",
       "  0.05366734989829976,\n",
       "  'electricity production, hard coal' (kilowatt hour, US-SERC, None)),\n",
       " (0.0469929335612983,\n",
       "  0.12446697728995236,\n",
       "  'electricity production, natural gas, combined cycle power plant' (kilowatt hour, US-SERC, None)),\n",
       " (0.03208818683514746,\n",
       "  0.026534124209094238,\n",
       "  'electricity production, lignite' (kilowatt hour, US-MRO, None)),\n",
       " (0.027595092896085405,\n",
       "  0.022176951553432578,\n",
       "  'electricity production, lignite' (kilowatt hour, US-SERC, None)),\n",
       " (0.026368011368282703,\n",
       "  0.022076589773994407,\n",
       "  'electricity production, lignite' (kilowatt hour, US-WECC, None)),\n",
       " (0.023556029894962405,\n",
       "  0.01972226124418963,\n",
       "  'electricity production, lignite' (kilowatt hour, US-TRE, None)),\n",
       " (0.021918519805914614,\n",
       "  0.06190924369444999,\n",
       "  'electricity production, natural gas, combined cycle power plant' (kilowatt hour, US-RFC, None)),\n",
       " (0.016724556547294607,\n",
       "  0.052916781847353364,\n",
       "  'natural gas production' (cubic meter, US, None)),\n",
       " (0.014405722753804964,\n",
       "  0.0421796651600182,\n",
       "  'electricity production, natural gas, combined cycle power plant' (kilowatt hour, US-WECC, None))]"
      ]
     },
     "execution_count": 13,
     "metadata": {},
     "output_type": "execute_result"
    }
   ],
   "source": [
    "ca.annotated_top_processes(lca)[:10]"
   ]
  },
  {
   "cell_type": "code",
   "execution_count": 41,
   "id": "12a2b4ff-0e30-4c0c-96f3-bf074ca1b849",
   "metadata": {},
   "outputs": [
    {
     "name": "stdout",
     "output_type": "stream",
     "text": [
      "Creating project backup archive - this could take a few minutes...\n"
     ]
    }
   ],
   "source": [
    "bi.backup_project_directory(\"eco-ex\")"
   ]
  }
 ],
 "metadata": {
  "kernelspec": {
   "display_name": "Python [conda env:bw25]",
   "language": "python",
   "name": "conda-env-bw25-py"
  },
  "language_info": {
   "codemirror_mode": {
    "name": "ipython",
    "version": 3
   },
   "file_extension": ".py",
   "mimetype": "text/x-python",
   "name": "python",
   "nbconvert_exporter": "python",
   "pygments_lexer": "ipython3",
   "version": "3.10.9"
  }
 },
 "nbformat": 4,
 "nbformat_minor": 5
}
