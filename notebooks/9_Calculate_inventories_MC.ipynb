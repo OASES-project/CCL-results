{
 "cells": [
  {
   "cell_type": "code",
   "execution_count": 1,
   "id": "dceb99c8-0ad6-459b-b34a-c0ab2599d508",
   "metadata": {},
   "outputs": [],
   "source": [
    "import bw2data as bd\n",
    "import bw2calc as bc\n",
    "import bw2analyzer as ba\n",
    "import bw2io as bi\n",
    "import bw_processing as bwp\n",
    "from fs.zipfs import ZipFS\n",
    "\n",
    "from tqdm import tqdm\n",
    "\n",
    "import numpy as np\n",
    "import os\n",
    "import sys\n",
    "import time"
   ]
  },
  {
   "cell_type": "code",
   "execution_count": 2,
   "id": "3e11e1fd-5abc-49c8-ba09-3d4528a6e712",
   "metadata": {},
   "outputs": [
    {
     "name": "stdout",
     "output_type": "stream",
     "text": [
      "Restoring project backup archive - this could take a few minutes...\n",
      "CPU times: user 8.15 s, sys: 2.21 s, total: 10.4 s\n",
      "Wall time: 11 s\n"
     ]
    },
    {
     "data": {
      "text/plain": [
       "'eco-ex-March-2023'"
      ]
     },
     "execution_count": 2,
     "metadata": {},
     "output_type": "execute_result"
    }
   ],
   "source": [
    "%%time\n",
    "bi.restore_project_directory(\"/Users/ajakobs/Documents/data/hybrid-eco-exio/CH_household_hybrid_project_eco391_ex381_march_28.tar.gz\")\n"
   ]
  },
  {
   "cell_type": "code",
   "execution_count": 3,
   "id": "a3730a4c-f93d-4df8-99d7-9874628dda4d",
   "metadata": {},
   "outputs": [
    {
     "data": {
      "text/plain": [
       "Brightway2 projects manager with 8 objects:\n",
       "\tAB_test_exploring_EI39\n",
       "\tCCL dev\n",
       "\tdefault\n",
       "\teco-ex\n",
       "\teco-ex-March-2023\n",
       "\tecoinvent 3.3 cutoff\n",
       "\tvalidation\n",
       "\tvalidation_ei39\n",
       "Use `projects.report()` to get a report on all projects."
      ]
     },
     "execution_count": 3,
     "metadata": {},
     "output_type": "execute_result"
    }
   ],
   "source": [
    "bd.projects"
   ]
  },
  {
   "cell_type": "code",
   "execution_count": 4,
   "id": "f1476c54-0d8d-4014-91b0-4e52bdc026f7",
   "metadata": {},
   "outputs": [],
   "source": [
    "bd.projects.set_current(\"eco-ex-March-2023\")"
   ]
  },
  {
   "cell_type": "code",
   "execution_count": 5,
   "id": "e9e636cf-5516-49bc-bf2b-6265c5fabed5",
   "metadata": {},
   "outputs": [
    {
     "data": {
      "text/plain": [
       "Databases dictionary with 5 object(s):\n",
       "\tbiosphere3\n",
       "\tecoinvent-3.9.1-cutoff\n",
       "\texiobase-3.8.1-monetary\n",
       "\texiobase-3.8.1-monetary biosphere\n",
       "\tswiss consumption 1.0"
      ]
     },
     "execution_count": 5,
     "metadata": {},
     "output_type": "execute_result"
    }
   ],
   "source": [
    "bd.databases"
   ]
  },
  {
   "cell_type": "code",
   "execution_count": 6,
   "id": "ab0de6f5-6164-44e3-9670-8a2e7e1a5978",
   "metadata": {},
   "outputs": [],
   "source": [
    "co = bd.Database(\"swiss consumption 1.0\")"
   ]
  },
  {
   "cell_type": "code",
   "execution_count": 7,
   "id": "310f9738-33d4-4b5c-8b5b-4c5409712e42",
   "metadata": {},
   "outputs": [],
   "source": [
    "def calculate_iterations_tofile(acts, tot_len, data_objs, method, save_dir, use_samples=True, iterations=25, uncertain_contributions=False, bar=True):\n",
    "    \"\"\"calculates inventories for all activities for a given number of iterations and saves the\n",
    "    inventories as an array with size (n_biosphereflows, n_activites) as npy files in the specified dir\n",
    "    If uncertain_contributions==True, it will calculate the input (product categories) contributions for the last activity\n",
    "    in the activity list 'acts' if this is ch hh average consumption disaggregated, years 151617, and otherwise raise an \n",
    "    assertion error.\n",
    "    impacts for each run\"\"\"\n",
    "    lca = bc.LCA({acts[0]: 1}, method=method, use_distributions=True, use_arrays=use_samples)\n",
    "    lca.lci()\n",
    "    lca.lcia()\n",
    "    \n",
    "    #make results array\n",
    "    results_array = np.zeros((lca.inventory.shape[0],tot_len))\n",
    "    results_array[:,0] = lca.inventory.sum(axis=1).A[:,0]\n",
    "    \n",
    "    for i,act in enumerate(acts[1:]):\n",
    "        lca.lcia({act.id: 1})\n",
    "        results_array[:,i+1] = lca.inventory.sum(axis=1).A[:,0]\n",
    "    if uncertain_contributions:\n",
    "        assert act['name'] == 'ch hh average consumption disaggregated, years 151617'\n",
    "        column = lca.dicts.activity[act.id]\n",
    "        for k,exc in enumerate(sorted(act.technosphere(), key=lambda x: x['name'])):\n",
    "            amount = -lca.technosphere_matrix[lca.dicts.activity[exc.input.id],column]\n",
    "            lca.lcia({exc.input.id: amount})\n",
    "            results_array[:,len(acts)+k] = lca.inventory.sum(axis=1).A[:,0]\n",
    "    np.save(os.path.join(save_dir,f'hh_consumption_inventory_{0}.npy'), results_array)\n",
    "    print('saved to',os.path.join(save_dir,f'hh_consumption_inventory_{0}.npy'))\n",
    "    \n",
    "    if bar:\n",
    "        for i in tqdm(range(iterations - 1)):\n",
    "            next(lca)\n",
    "            for j,act in enumerate(acts):\n",
    "                lca.lcia({act.id: 1})\n",
    "                results_array[:,j] = lca.inventory.sum(axis=1).A[:,0]\n",
    "            if uncertain_contributions:\n",
    "                assert act['name'] == 'ch hh average consumption disaggregated, years 151617'\n",
    "                column = lca.dicts.activity[act.id]\n",
    "                for k,exc in enumerate(sorted(act.technosphere(), key=lambda x: x['name'])):\n",
    "                    amount = -lca.technosphere_matrix[lca.dicts.activity[exc.input.id],column]\n",
    "                    lca.lcia({exc.input.id: amount})\n",
    "                    results_array[:,j+k+1] = lca.inventory.sum(axis=1).A[:,0]\n",
    "            np.save(os.path.join(save_dir,f'hh_consumption_inventory_{i+1}.npy'),results_array)\n",
    "    else:\n",
    "        for i in range(iterations - 1):\n",
    "            next(lca)\n",
    "            for j,act in enumerate(acts):\n",
    "                lca.lcia({act.id: 1})\n",
    "                results_array[:,j] = lca.inventory.sum(axis=1).A[:,0]\n",
    "            if uncertain_contributions:\n",
    "                assert act['name'] == 'ch hh average consumption disaggregated, years 151617'\n",
    "                column = lca.dicts.activity[act.id]\n",
    "                for k,exc in enumerate(sorted(act.technosphere(), key=lambda x: x['name'])):\n",
    "                    amount = -lca.technosphere_matrix[lca.dicts.activity[exc.input.id],column]\n",
    "                    lca.lcia({exc.input.id: amount})\n",
    "                    results_array[:,j+k+1] = lca.inventory.sum(axis=1).A[:,0]\n",
    "            np.save(os.path.join(save_dir,f'hh_consumption_inventory_{i+1}.npy'),results_array)\n",
    "    return lca"
   ]
  },
  {
   "cell_type": "markdown",
   "id": "52dc213c-68d6-45ca-89ec-b2d13c0d17d7",
   "metadata": {},
   "source": [
    "## define act list"
   ]
  },
  {
   "cell_type": "code",
   "execution_count": 8,
   "id": "1ebf233b-5b04-4ac7-98a1-8acd251bc2be",
   "metadata": {},
   "outputs": [
    {
     "data": {
      "text/plain": [
       "('IPCC 2021', 'climate change', 'global warming potential (GWP100)')"
      ]
     },
     "execution_count": 8,
     "metadata": {},
     "output_type": "execute_result"
    }
   ],
   "source": [
    "ipcc = ('IPCC 2021', 'climate change', 'global warming potential (GWP100)')\n",
    "ipcc"
   ]
  },
  {
   "cell_type": "code",
   "execution_count": 9,
   "id": "79933a92-ec73-4d6a-86bb-96d0da77c60a",
   "metadata": {},
   "outputs": [
    {
     "data": {
      "text/plain": [
       "314"
      ]
     },
     "execution_count": 9,
     "metadata": {},
     "output_type": "execute_result"
    }
   ],
   "source": [
    "# redo all to test results\n",
    "fu_list = [act for act in sorted(co, key=lambda x: x['name'])]\n",
    "len(fu_list)"
   ]
  },
  {
   "cell_type": "code",
   "execution_count": 10,
   "id": "1ab029f8-cc70-48e3-8419-746ecedea8ab",
   "metadata": {},
   "outputs": [],
   "source": [
    "# prepare datapackages\n",
    "func_unit, data_objs, _ = bd.prepare_lca_inputs(demand={fu_list[0]: 1}, method=ipcc)\n",
    "# now add the datapackage cpntaining the household cluster samples\n",
    "data_objs.append(bwp.load_datapackage(ZipFS(\"./write_files/ccl_dev/household_archetypes.zip\")))"
   ]
  },
  {
   "cell_type": "code",
   "execution_count": 11,
   "id": "e1b50457-513e-473c-a2cc-9bf11b96a732",
   "metadata": {},
   "outputs": [
    {
     "name": "stdout",
     "output_type": "stream",
     "text": [
      "saved to /Users/ajakobs/Documents/CCL/results/MC_results_directly_sampled/hh_consumption_inventory_0.npy\n"
     ]
    },
    {
     "name": "stderr",
     "output_type": "stream",
     "text": [
      "100%|███████████████████████████████████████████████████████████████████████████████████████████████████████████████████████████████████████████████████████████████| 999/999 [1:37:49<00:00,  5.88s/it]"
     ]
    },
    {
     "name": "stdout",
     "output_type": "stream",
     "text": [
      "CPU times: user 9h 3min 33s, sys: 17min 28s, total: 9h 21min 1s\n",
      "Wall time: 1h 37min 56s\n"
     ]
    },
    {
     "name": "stderr",
     "output_type": "stream",
     "text": [
      "\n"
     ]
    }
   ],
   "source": [
    "%%time\n",
    "# calculate mc runs using direct sampling from datapackage\n",
    "n_iterations = 1000\n",
    "total_len = len(fu_list)\n",
    "lca = calculate_iterations_tofile(fu_list, tot_len=total_len, data_objs=data_objs, method=ipcc,\n",
    "                                  save_dir='/Users/ajakobs/Documents/CCL/results/MC_results_directly_sampled/',\n",
    "                                  use_samples=True, iterations=n_iterations, uncertain_contributions=False, bar=True)\n"
   ]
  },
  {
   "cell_type": "code",
   "execution_count": 12,
   "id": "e448c7f9-6ded-48d0-b4f9-d03c93ebdcb1",
   "metadata": {},
   "outputs": [],
   "source": [
    "# write order of activities to file\n",
    "fu_list_names = [act['name'] for act in fu_list]\n",
    "with open('/Users/ajakobs/Documents/CCL/results/MC_results_directly_sampled/activity_names.txt','w') as fh:\n",
    "    fh.write('\\n'.join(fu_list_names))"
   ]
  },
  {
   "cell_type": "code",
   "execution_count": 19,
   "id": "1ebf1d19-0755-4801-b9ee-914102e478a9",
   "metadata": {},
   "outputs": [
    {
     "name": "stdout",
     "output_type": "stream",
     "text": [
      "saved to /Users/ajakobs/Documents/CCL/results/MC_results/hh_consumption_inventory_0.npy\n"
     ]
    },
    {
     "name": "stderr",
     "output_type": "stream",
     "text": [
      "100%|███████████████████████████████████████████████████████████████████████████████████| 999/999 [1:32:10<00:00,  5.54s/it]"
     ]
    },
    {
     "name": "stdout",
     "output_type": "stream",
     "text": [
      "CPU times: user 8h 37min 31s, sys: 15min 26s, total: 8h 52min 57s\n",
      "Wall time: 1h 32min 18s\n"
     ]
    },
    {
     "name": "stderr",
     "output_type": "stream",
     "text": [
      "\n"
     ]
    }
   ],
   "source": [
    "%%time\n",
    "n_iterations = 1000\n",
    "total_len = len(fu_list)\n",
    "lca = calculate_iterations_tofile(fu_list, tot_len=total_len, data_objs=data_objs, method=ipcc,\n",
    "                                  save_dir='/Users/ajakobs/Documents/CCL/results/MC_results/',\n",
    "                                  use_samples=False, iterations=n_iterations, uncertain_contributions=False, bar=True)\n"
   ]
  },
  {
   "cell_type": "code",
   "execution_count": 21,
   "id": "dd272912-969f-4423-8c0f-ff38c39894b7",
   "metadata": {},
   "outputs": [],
   "source": [
    "# write order of activities to file\n",
    "fu_list_names = [act['name'] for act in fu_list]\n",
    "with open('/Users/ajakobs/Documents/CCL/results/MC_results/activity_names.txt','w') as fh:\n",
    "    fh.write('\\n'.join(fu_list_names))"
   ]
  },
  {
   "cell_type": "code",
   "execution_count": 17,
   "id": "ee18d559-7f0a-4889-b7d0-0e649d0edfbd",
   "metadata": {
    "collapsed": true,
    "jupyter": {
     "outputs_hidden": true
    },
    "tags": []
   },
   "outputs": [
    {
     "data": {
      "text/plain": [
       "['Accommodation services' (CHF, CH, None),\n",
       " 'Air travels, tickets' (CHF, CH, None),\n",
       " 'Alcoholic and non-alcoholic beer' (litre, CH, None),\n",
       " 'Alcoholic and non-alcoholic liqueurs and liqueur-based aperitifs' (litre, CH, None),\n",
       " 'Apples' (kilogram, CH, None),\n",
       " 'Bakery products (sweet and salty)' (kilogram, CH, None),\n",
       " 'Banana' (kilogram, CH, None),\n",
       " 'Beans and peas' (kilogram, CH, None),\n",
       " 'Beef' (kilogram, CH, None),\n",
       " 'Beets and other root vegetables' (kilogram, CH, None),\n",
       " 'Berries' (kilogram, CH, None),\n",
       " 'Bicycles' (person kilometer, CH, None),\n",
       " 'Books and brochures' (CHF, CH, None),\n",
       " 'Brassicas' (kilogram, CH, None),\n",
       " 'Bread' (kilogram, CH, None),\n",
       " 'Bus, tickets and travelcards' (person kilometer, CH, None),\n",
       " 'Butter' (kilogram, CH, None),\n",
       " 'Canteens' (CHF, CH, None),\n",
       " 'Central heating or district heating of principal residence' (megajoule, CH, None),\n",
       " 'Chocolate' (kilogram, CH, None),\n",
       " 'Cinema' (CHF, CH, None),\n",
       " 'Cleaning articles' (CHF, CH, None),\n",
       " 'Cleaning, repair and hire of clothing' (CHF, CH, None),\n",
       " 'Clothing accessories' (CHF, CH, None),\n",
       " 'Clothing materials' (CHF, CH, None),\n",
       " 'Cocoa-based beverages' (kilogram, CH, None),\n",
       " 'Cookers, barbecue, space heaters and room care appliances' (CHF, CH, None),\n",
       " 'Cream' (litre, CH, None),\n",
       " 'Culinary herbs' (kilogram, CH, None),\n",
       " 'Curd' (kilogram, CH, None),\n",
       " 'Cutlery' (CHF, CH, None),\n",
       " 'Dental care products' (CHF, CH, None),\n",
       " 'Desktop computers' (unit, CH, None),\n",
       " 'Detergents and cleaning products' (CHF, CH, None),\n",
       " 'Diesel' (litre, CH, None),\n",
       " 'Domestic services and household services' (CHF, CH, None),\n",
       " 'Dues for recreational associations' (CHF, CH, None),\n",
       " 'Dues for sports clubs and associations' (CHF, CH, None),\n",
       " 'Dues to cultural associations' (CHF, CH, None),\n",
       " 'Dues to organisations and associations' (CHF, CH, None),\n",
       " 'Durable goods for recreation and sports' (CHF, CH, None),\n",
       " 'Education services' (CHF, CH, None),\n",
       " 'Egg, national average, at farm gate' (kilogram, FR, None),\n",
       " 'Electrical appliances for personal care' (CHF, CH, None),\n",
       " 'Electricity of principal residence' (kilowatt hour, CH, None),\n",
       " 'Entries in sports facilities' (CHF, CH, None),\n",
       " 'Equipment for sports and camping' (CHF, CH, None),\n",
       " 'Equipment for the reception, recording and reproduction of sound and pictures' (CHF, CH, None),\n",
       " 'Fees' (CHF, CH, None),\n",
       " 'Fees for radio and TV reception' (CHF, CH, None),\n",
       " 'Financial services' (CHF, CH, None),\n",
       " 'Fish' (kilogram, CH, None),\n",
       " 'Fixed line' (CHF, CH, None),\n",
       " 'Footwear for children and babies' (CHF, CH, None),\n",
       " 'Footwear for men' (CHF, CH, None),\n",
       " 'Footwear for women' (CHF, CH, None),\n",
       " 'Fresh eggs' (kilogram, CH, None),\n",
       " 'Fresh, soft and melted cheese' (kilogram, CH, None),\n",
       " 'Fruit juices' (litre, CH, None),\n",
       " 'Furniture and furnishings, carpets and other floor coverings incl. repairs' (CHF, CH, None),\n",
       " 'Games, toys and hobbies' (CHF, CH, None),\n",
       " 'Garlic' (kilogram, CH, None),\n",
       " 'Garments for children (between 0 and 13 years)' (CHF, CH, None),\n",
       " 'Garments for men' (CHF, CH, None),\n",
       " 'Garments for women' (CHF, CH, None),\n",
       " 'Gasoline' (litre, CH, None),\n",
       " 'Glasses and contact lenses' (CHF, CH, None),\n",
       " 'Glassware, tableware' (CHF, CH, None),\n",
       " 'Grapes' (kilogram, CH, None),\n",
       " 'Green salads and other leafy vegetables' (kilogram, CH, None),\n",
       " 'Hair care products' (CHF, CH, None),\n",
       " 'Ham, bacon and other cured or smoked pork' (kilogram, CH, None),\n",
       " 'Hard and semi-hard cheese' (kilogram, CH, None),\n",
       " 'Hare, game and rabbit meat' (kilogram, CH, None),\n",
       " 'Honey' (kilogram, CH, None),\n",
       " 'Horse meat' (kilogram, CH, None),\n",
       " 'Household textiles' (CHF, CH, None),\n",
       " 'Ice cream' (kilogram, CH, None),\n",
       " 'Instant coffee and coffee surrogates' (kilogram, CH, None),\n",
       " 'Jams, marmalades, compotes' (kilogram, CH, None),\n",
       " 'Jewellery, clocks and watches' (CHF, CH, None),\n",
       " 'Kitchen utensils' (CHF, CH, None),\n",
       " 'Large trout, 2-4kg, conventional, at farm gate' (kilogram, FR, None),\n",
       " 'Lemons' (kilogram, CH, None),\n",
       " 'Luggage, leather and baby goods' (CHF, CH, None),\n",
       " 'Machines with engines for house and garden' (CHF, CH, None),\n",
       " 'Maintenance and repair of the dwelling' (CHF, CH, None),\n",
       " 'Margarine' (kilogram, CH, None),\n",
       " 'Medical products, therapeutic devices and products' (CHF, CH, None),\n",
       " 'Medical services and hospital services' (CHF, CH, None),\n",
       " 'Medicines' (CHF, CH, None),\n",
       " 'Melons and watermelons' (kilogram, CH, None),\n",
       " 'Milk-based beverages and other similar milk-based products' (litre, CH, None),\n",
       " 'Mineral water' (litre, CH, None),\n",
       " 'Miscellaneous printed matter' (CHF, CH, None),\n",
       " 'Mobile telephony' (CHF, CH, None),\n",
       " 'Museums, exhibitions, libraries, zoological gardens' (CHF, CH, None),\n",
       " 'Mushrooms and vegetables, dried' (kilogram, CH, None),\n",
       " 'Music and dance classes' (CHF, CH, None),\n",
       " 'Natural gas and other fuels of principal residence' (megajoule, CH, None),\n",
       " 'Newspapers and periodicals' (kilogram, CH, None),\n",
       " 'Non-alcoholic soft drinks' (litre, CH, None),\n",
       " 'Non-durable products of cotton and paper for personal care' (CHF, CH, None),\n",
       " 'Non-electrical appliances for personal care' (CHF, CH, None),\n",
       " 'Nuts, other edible nuts and seeds oleaginous fruits' (kilogram, CH, None),\n",
       " 'Olive oil' (litre, CH, None),\n",
       " 'Onions' (kilogram, CH, None),\n",
       " 'Oranges and other citrus fruits' (kilogram, CH, None),\n",
       " 'Other boiled, dried, cured or smoked meat' (kilogram, CH, None),\n",
       " 'Other cereal products' (kilogram, CH, None),\n",
       " 'Other eatable meat products incl. offal, fresh and frozen' (kilogram, CH, None),\n",
       " 'Other flours and meals, starches, semolina, flakes and grains' (kilogram, CH, None),\n",
       " 'Other fried fruits' (kilogram, CH, None),\n",
       " 'Other fruiting vegetables' (kilogram, CH, None),\n",
       " 'Other household utensils' (CHF, CH, None),\n",
       " 'Other insurance premiums' (CHF, CH, None),\n",
       " 'Other leisure-time courses' (CHF, CH, None),\n",
       " 'Other non-durable household articles' (CHF, CH, None),\n",
       " 'Other personal effects' (CHF, CH, None),\n",
       " 'Other products for personal care' (CHF, CH, None),\n",
       " 'Other purchased transport services' (CHF, CH, None),\n",
       " 'Other services and losses relating to renting' (CHF, CH, None),\n",
       " 'Other services in entertainment and culture' (CHF, CH, None),\n",
       " 'Other sugary or cocoa-based foods' (kilogram, CH, None),\n",
       " 'Other tropical fruits' (kilogram, CH, None),\n",
       " 'Other vegetable fats' (kilogram, CH, None),\n",
       " 'Other vegetable oils and edible animal fats' (litre, CH, None),\n",
       " 'Package holidays' (CHF, CH, None),\n",
       " 'Passenger transport by sea and inland waterway' (CHF, CH, None),\n",
       " 'Pasta products' (kilogram, CH, None),\n",
       " 'Pears and quinces' (kilogram, CH, None),\n",
       " 'Pets and related products' (CHF, CH, None),\n",
       " 'Photographic and cinematographic equipment and optical instruments' (CHF, CH, None),\n",
       " 'Plants and other non-durable goods for gardening' (CHF, CH, None),\n",
       " 'Plastic or paper refuse bags without fees' (CHF, CH, None),\n",
       " 'Pork, fresh or frozen' (kilogram, CH, None),\n",
       " 'Portable computers' (unit, CH, None),\n",
       " 'Postal services' (CHF, CH, None),\n",
       " 'Potatoes' (kilogram, CH, None),\n",
       " 'Potatoes-based products and other tuber vegetables' (kilogram, CH, None),\n",
       " 'Poultry, fresh or frozen' (kilogram, CH, None),\n",
       " 'Poultry, grilled or smoked' (kilogram, CH, None),\n",
       " 'Premiums for life insurance' (CHF, CH, None),\n",
       " 'Preserved fruits' (kilogram, CH, None),\n",
       " 'Printers (incl. multifunctional printers)' (unit, CH, None),\n",
       " 'Processed eggs' (kilogram, CH, None),\n",
       " 'Purchases and rent of telephones and telefax machines' (CHF, CH, None),\n",
       " 'Pure and ground coffee' (kilogram, CH, None),\n",
       " 'Ready-made foods' (kilogram, CH, None),\n",
       " 'Refrigerators, dishwashers, washing machines and dryers' (CHF, CH, None),\n",
       " 'Refuse collection costs at principal residence' (number of waste bags, CH, None),\n",
       " 'Regular maintenance costs of principal residence' (CHF, CH, None),\n",
       " 'Rent for equipment and DVDs and CDs' (CHF, CH, None),\n",
       " 'Rent of sports and recreational goods' (CHF, CH, None),\n",
       " 'Repair and hire of footwear' (CHF, CH, None),\n",
       " 'Repair of household appliances' (CHF, CH, None),\n",
       " 'Restaurants, cafés and bars' (CHF, CH, None),\n",
       " 'Rice' (kilogram, CH, None),\n",
       " 'Sandwich' (kilogram, CH, None),\n",
       " 'Sauces, seasonings and condiments' (kilogram, CH, None),\n",
       " 'Sausages, cold meat and pies' (kilogram, CH, None),\n",
       " 'Sea bass or sea bream, 200-500g, conventional, in cage, at farm gate' (kilogram, FR, None),\n",
       " 'Self-service restaurants and take-aways' (CHF, CH, None),\n",
       " 'Services of hairdressers and beauty salons' (CHF, CH, None),\n",
       " 'Services of internet providers' (CHF, CH, None),\n",
       " 'Services of sports and recreational facilities, without ski lifts' (CHF, CH, None),\n",
       " 'Sewing and knitting products' (CHF, CH, None),\n",
       " 'Sheep and Goat meat' (kilogram, CH, None),\n",
       " 'Skimmed and low-fat milk' (litre, CH, None),\n",
       " 'Small electric household appliances' (CHF, CH, None),\n",
       " 'Small trout, 250-350g, conventional, at farm gate' (kilogram, FR, None),\n",
       " 'Soaps and foam baths' (kilogram, CH, None),\n",
       " 'Social protection services' (CHF, CH, None),\n",
       " 'Sound carriers, data carriers, videotapes and films' (CHF, CH, None),\n",
       " 'Soups and bouillons' (kilogram, CH, None),\n",
       " 'Spirits' (litre, CH, None),\n",
       " 'Sports and crafting classes' (CHF, CH, None),\n",
       " 'Stakes' (CHF, CH, None),\n",
       " 'Stem vegetables' (kilogram, CH, None),\n",
       " 'Stone fruit' (kilogram, CH, None),\n",
       " 'Subscriptions to cable television' (CHF, CH, None),\n",
       " 'Subscriptions to private television' (CHF, CH, None),\n",
       " 'Sugar' (kilogram, CH, None),\n",
       " 'Sweets and chewing gum' (kilogram, CH, None),\n",
       " 'Syrups' (litre, CH, None),\n",
       " 'Taxi' (CHF, CH, None),\n",
       " 'Tea, herbal tea and surrogates' (kilogram, CH, None),\n",
       " 'Theatre and concerts' (CHF, CH, None),\n",
       " 'Tickets and season tickets for cable cars, including ski lifts' (CHF, CH, None),\n",
       " 'Tinned meat and other meat-based preparations' (kilogram, CH, None),\n",
       " 'Tinned or processed vegetables and mushrooms' (kilogram, CH, None),\n",
       " 'Tobacco' (CHF, CH, None),\n",
       " 'Tomatoes' (kilogram, CH, None),\n",
       " 'Tools and equipment without engines for house and garden' (CHF, CH, None),\n",
       " 'Train, tickets and travelcards' (person kilometer, CH, None),\n",
       " 'Tram, tickets and travelcards' (person kilometer, CH, None),\n",
       " 'Veal' (kilogram, CH, None),\n",
       " 'Vegetable juices' (litre, CH, None),\n",
       " 'Vegetarian soy products' (kilogram, CH, None),\n",
       " 'Veterinary and other services for pets' (CHF, CH, None),\n",
       " 'Wastewater collection fees of principal residence' (cubic meter, CH, None),\n",
       " 'Water supply fees of principal residence' (cubic meter, CH, None),\n",
       " 'Wheat flour' (kilogram, CH, None),\n",
       " 'Whole milk' (litre, CH, None),\n",
       " 'Wine' (litre, CH, None),\n",
       " 'Writing and drawing materials' (CHF, CH, None),\n",
       " 'Yoghurt' (kilogram, CH, None),\n",
       " 'ch hh average consumption disaggregated, years 151617' (1 month of consumption, CH, None),\n",
       " 'household cluster 1 consumption, years 151617' (1 month of consumption, CH, None),\n",
       " 'household cluster 2 consumption, years 151617' (1 month of consumption, CH, None),\n",
       " 'household cluster 3 consumption, years 151617' (1 month of consumption, CH, None),\n",
       " 'household cluster 4 consumption, years 151617' (1 month of consumption, CH, None),\n",
       " 'household cluster 5 consumption, years 151617' (1 month of consumption, CH, None),\n",
       " 'household cluster 6 consumption, years 151617' (1 month of consumption, CH, None),\n",
       " 'household cluster A consumption, years 151617' (1 month of consumption, CH, None),\n",
       " 'household cluster A1 consumption, years 151617' (1 month of consumption, CH, None),\n",
       " 'household cluster A2 consumption, years 151617' (1 month of consumption, CH, None),\n",
       " 'household cluster A3 consumption, years 151617' (1 month of consumption, CH, None),\n",
       " 'household cluster A4 consumption, years 151617' (1 month of consumption, CH, None),\n",
       " 'household cluster A5 consumption, years 151617' (1 month of consumption, CH, None),\n",
       " 'household cluster Aa consumption, years 151617' (1 month of consumption, CH, None),\n",
       " 'household cluster Ab consumption, years 151617' (1 month of consumption, CH, None),\n",
       " 'household cluster Ac consumption, years 151617' (1 month of consumption, CH, None),\n",
       " 'household cluster Ad consumption, years 151617' (1 month of consumption, CH, None),\n",
       " 'household cluster Af consumption, years 151617' (1 month of consumption, CH, None),\n",
       " 'household cluster B consumption, years 151617' (1 month of consumption, CH, None),\n",
       " 'household cluster B1 consumption, years 151617' (1 month of consumption, CH, None),\n",
       " 'household cluster B2 consumption, years 151617' (1 month of consumption, CH, None),\n",
       " 'household cluster B3 consumption, years 151617' (1 month of consumption, CH, None),\n",
       " 'household cluster B4 consumption, years 151617' (1 month of consumption, CH, None),\n",
       " 'household cluster B5 consumption, years 151617' (1 month of consumption, CH, None),\n",
       " 'household cluster Ba consumption, years 151617' (1 month of consumption, CH, None),\n",
       " 'household cluster Bb consumption, years 151617' (1 month of consumption, CH, None),\n",
       " 'household cluster Bc consumption, years 151617' (1 month of consumption, CH, None),\n",
       " 'household cluster Bd consumption, years 151617' (1 month of consumption, CH, None),\n",
       " 'household cluster Bf consumption, years 151617' (1 month of consumption, CH, None),\n",
       " 'household cluster C consumption, years 151617' (1 month of consumption, CH, None),\n",
       " 'household cluster C1 consumption, years 151617' (1 month of consumption, CH, None),\n",
       " 'household cluster C2 consumption, years 151617' (1 month of consumption, CH, None),\n",
       " 'household cluster C3 consumption, years 151617' (1 month of consumption, CH, None),\n",
       " 'household cluster C4 consumption, years 151617' (1 month of consumption, CH, None),\n",
       " 'household cluster C5 consumption, years 151617' (1 month of consumption, CH, None),\n",
       " 'household cluster Ca consumption, years 151617' (1 month of consumption, CH, None),\n",
       " 'household cluster Cc consumption, years 151617' (1 month of consumption, CH, None),\n",
       " 'household cluster Cd consumption, years 151617' (1 month of consumption, CH, None),\n",
       " 'household cluster Cf consumption, years 151617' (1 month of consumption, CH, None),\n",
       " 'household cluster D consumption, years 151617' (1 month of consumption, CH, None),\n",
       " 'household cluster D1 consumption, years 151617' (1 month of consumption, CH, None),\n",
       " 'household cluster D2 consumption, years 151617' (1 month of consumption, CH, None),\n",
       " 'household cluster D3 consumption, years 151617' (1 month of consumption, CH, None),\n",
       " 'household cluster D4 consumption, years 151617' (1 month of consumption, CH, None),\n",
       " 'household cluster D5 consumption, years 151617' (1 month of consumption, CH, None),\n",
       " 'household cluster Da consumption, years 151617' (1 month of consumption, CH, None),\n",
       " 'household cluster Db consumption, years 151617' (1 month of consumption, CH, None),\n",
       " 'household cluster Dc consumption, years 151617' (1 month of consumption, CH, None),\n",
       " 'household cluster Dd consumption, years 151617' (1 month of consumption, CH, None),\n",
       " 'household cluster Df consumption, years 151617' (1 month of consumption, CH, None),\n",
       " 'household cluster E consumption, years 151617' (1 month of consumption, CH, None),\n",
       " 'household cluster E1 consumption, years 151617' (1 month of consumption, CH, None),\n",
       " 'household cluster E2 consumption, years 151617' (1 month of consumption, CH, None),\n",
       " 'household cluster E3 consumption, years 151617' (1 month of consumption, CH, None),\n",
       " 'household cluster E4 consumption, years 151617' (1 month of consumption, CH, None),\n",
       " 'household cluster E5 consumption, years 151617' (1 month of consumption, CH, None),\n",
       " 'household cluster Ea consumption, years 151617' (1 month of consumption, CH, None),\n",
       " 'household cluster Ec consumption, years 151617' (1 month of consumption, CH, None),\n",
       " 'household cluster Ed consumption, years 151617' (1 month of consumption, CH, None),\n",
       " 'household cluster Ef consumption, years 151617' (1 month of consumption, CH, None),\n",
       " 'household cluster F consumption, years 151617' (1 month of consumption, CH, None),\n",
       " 'household cluster F1 consumption, years 151617' (1 month of consumption, CH, None),\n",
       " 'household cluster F2 consumption, years 151617' (1 month of consumption, CH, None),\n",
       " 'household cluster F3 consumption, years 151617' (1 month of consumption, CH, None),\n",
       " 'household cluster F4 consumption, years 151617' (1 month of consumption, CH, None),\n",
       " 'household cluster F5 consumption, years 151617' (1 month of consumption, CH, None),\n",
       " 'household cluster Fa consumption, years 151617' (1 month of consumption, CH, None),\n",
       " 'household cluster Fc consumption, years 151617' (1 month of consumption, CH, None),\n",
       " 'household cluster Fd consumption, years 151617' (1 month of consumption, CH, None),\n",
       " 'household cluster Ff consumption, years 151617' (1 month of consumption, CH, None),\n",
       " 'household cluster G consumption, years 151617' (1 month of consumption, CH, None),\n",
       " 'household cluster G1 consumption, years 151617' (1 month of consumption, CH, None),\n",
       " 'household cluster G2 consumption, years 151617' (1 month of consumption, CH, None),\n",
       " 'household cluster G3 consumption, years 151617' (1 month of consumption, CH, None),\n",
       " 'household cluster G4 consumption, years 151617' (1 month of consumption, CH, None),\n",
       " 'household cluster Ga consumption, years 151617' (1 month of consumption, CH, None),\n",
       " 'household cluster Gc consumption, years 151617' (1 month of consumption, CH, None),\n",
       " 'household cluster Gd consumption, years 151617' (1 month of consumption, CH, None),\n",
       " 'household cluster Gf consumption, years 151617' (1 month of consumption, CH, None),\n",
       " 'household cluster Gro_Ein_rest consumption, years 151617' (1 month of consumption, CH, None),\n",
       " 'household cluster Gro_Hau_rest consumption, years 151617' (1 month of consumption, CH, None),\n",
       " 'household cluster Hau_Ein_rest consumption, years 151617' (1 month of consumption, CH, None),\n",
       " 'household cluster a consumption, years 151617' (1 month of consumption, CH, None),\n",
       " 'household cluster a1 consumption, years 151617' (1 month of consumption, CH, None),\n",
       " 'household cluster a2 consumption, years 151617' (1 month of consumption, CH, None),\n",
       " 'household cluster a3 consumption, years 151617' (1 month of consumption, CH, None),\n",
       " 'household cluster a4 consumption, years 151617' (1 month of consumption, CH, None),\n",
       " 'household cluster b consumption, years 151617' (1 month of consumption, CH, None),\n",
       " 'household cluster b1 consumption, years 151617' (1 month of consumption, CH, None),\n",
       " 'household cluster b2 consumption, years 151617' (1 month of consumption, CH, None),\n",
       " 'household cluster c consumption, years 151617' (1 month of consumption, CH, None),\n",
       " 'household cluster c2 consumption, years 151617' (1 month of consumption, CH, None),\n",
       " 'household cluster c3 consumption, years 151617' (1 month of consumption, CH, None),\n",
       " 'household cluster c4 consumption, years 151617' (1 month of consumption, CH, None),\n",
       " 'household cluster c5 consumption, years 151617' (1 month of consumption, CH, None),\n",
       " 'household cluster d consumption, years 151617' (1 month of consumption, CH, None),\n",
       " 'household cluster d1 consumption, years 151617' (1 month of consumption, CH, None),\n",
       " 'household cluster d2 consumption, years 151617' (1 month of consumption, CH, None),\n",
       " 'household cluster d3 consumption, years 151617' (1 month of consumption, CH, None),\n",
       " 'household cluster d4 consumption, years 151617' (1 month of consumption, CH, None),\n",
       " 'household cluster e consumption, years 151617' (1 month of consumption, CH, None),\n",
       " 'household cluster f consumption, years 151617' (1 month of consumption, CH, None),\n",
       " 'household cluster f2 consumption, years 151617' (1 month of consumption, CH, None),\n",
       " 'household cluster f3 consumption, years 151617' (1 month of consumption, CH, None),\n",
       " 'household cluster f4 consumption, years 151617' (1 month of consumption, CH, None),\n",
       " 'household cluster f5 consumption, years 151617' (1 month of consumption, CH, None),\n",
       " 'household cluster g consumption, years 151617' (1 month of consumption, CH, None)]"
      ]
     },
     "execution_count": 17,
     "metadata": {},
     "output_type": "execute_result"
    }
   ],
   "source": [
    "fu_list"
   ]
  },
  {
   "cell_type": "code",
   "execution_count": null,
   "id": "cbe2553b-3ca0-48e7-80b0-bfa3587888bd",
   "metadata": {},
   "outputs": [],
   "source": []
  }
 ],
 "metadata": {
  "kernelspec": {
   "display_name": "Python 3 (ipykernel)",
   "language": "python",
   "name": "python3"
  },
  "language_info": {
   "codemirror_mode": {
    "name": "ipython",
    "version": 3
   },
   "file_extension": ".py",
   "mimetype": "text/x-python",
   "name": "python",
   "nbconvert_exporter": "python",
   "pygments_lexer": "ipython3",
   "version": "3.10.6"
  }
 },
 "nbformat": 4,
 "nbformat_minor": 5
}
