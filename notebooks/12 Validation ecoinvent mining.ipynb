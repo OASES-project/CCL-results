{
 "cells": [
  {
   "cell_type": "code",
   "execution_count": 66,
   "id": "0664c911-1e0e-48ba-95dc-7c7ee92a41fa",
   "metadata": {},
   "outputs": [],
   "source": [
    "import bw2data as bd\n",
    "import bw2calc as bc\n",
    "import bw2io as bi\n",
    "import bw2analyzer as ba\n",
    "\n",
    "import numpy as np\n",
    "import json, os\n",
    "from pathlib import Path\n",
    "import sys"
   ]
  },
  {
   "cell_type": "code",
   "execution_count": 2,
   "id": "40021f0c-14f1-49ce-9582-a2531940f75f",
   "metadata": {},
   "outputs": [
    {
     "name": "stdout",
     "output_type": "stream",
     "text": [
      "Python 3.11.0\n"
     ]
    }
   ],
   "source": [
    "!python --version"
   ]
  },
  {
   "cell_type": "code",
   "execution_count": 3,
   "id": "4b746c5d-b2a2-4dd6-af3f-5c7ab7a40dfa",
   "metadata": {},
   "outputs": [
    {
     "data": {
      "text/plain": [
       "(0, 9, 'DEV14')"
      ]
     },
     "execution_count": 3,
     "metadata": {},
     "output_type": "execute_result"
    }
   ],
   "source": [
    "bi.__version__"
   ]
  },
  {
   "cell_type": "code",
   "execution_count": 4,
   "id": "0dfc0197-9986-44d3-80ad-051fab7a077d",
   "metadata": {},
   "outputs": [],
   "source": [
    "project_name = 'validation_ei39'\n",
    "bd.projects.set_current(project_name)"
   ]
  },
  {
   "cell_type": "code",
   "execution_count": 5,
   "id": "3accbed2-1cfb-48fc-8384-4955217c67ce",
   "metadata": {},
   "outputs": [
    {
     "data": {
      "text/plain": [
       "'validation_ei39'"
      ]
     },
     "execution_count": 5,
     "metadata": {},
     "output_type": "execute_result"
    }
   ],
   "source": [
    "bd.projects.current"
   ]
  },
  {
   "cell_type": "code",
   "execution_count": 6,
   "id": "6db8cfa2-96e5-4800-bc67-95e951e41398",
   "metadata": {},
   "outputs": [
    {
     "data": {
      "text/plain": [
       "Databases dictionary with 2 object(s):\n",
       "\tbiosphere3\n",
       "\tecoinvent 3.9"
      ]
     },
     "execution_count": 6,
     "metadata": {},
     "output_type": "execute_result"
    }
   ],
   "source": [
    "bd.databases"
   ]
  },
  {
   "cell_type": "code",
   "execution_count": 7,
   "id": "4f5d3a73-4b23-4fac-acc6-34b25a5e2925",
   "metadata": {},
   "outputs": [],
   "source": [
    "# ecoinvent path and name\n",
    "path_base = Path('/Users/ajakobs/Documents/data/')\n",
    "fp_ecoinvent_39 = path_base / 'ecoinvent/ecoinvent 3.9_cutoff_ecoSpold02/datasets/'\n",
    "ei39_name = \"ecoinvent 3.9\""
   ]
  },
  {
   "cell_type": "code",
   "execution_count": 8,
   "id": "605d8bd7-b373-470f-8d98-455f0b19bb07",
   "metadata": {},
   "outputs": [],
   "source": [
    "def import_ecoinvent(ei_path, ei_name):\n",
    "    if ei_name in bd.databases:\n",
    "        print(ei_name + \" database already present!!! No import is needed\")\n",
    "    else:\n",
    "        ei = bi.SingleOutputEcospold2Importer(ei_path, ei_name)\n",
    "        ei.apply_strategies()\n",
    "        ei.match_database(db_name='biosphere3', fields=('name', 'category', 'unit', 'location'))\n",
    "        ei.statistics()\n",
    "        ei.write_database()"
   ]
  },
  {
   "cell_type": "code",
   "execution_count": 9,
   "id": "49ccfaf3-3161-49bd-ada3-2493f5919b10",
   "metadata": {},
   "outputs": [],
   "source": [
    "# del bd.databases['biosphere3']\n",
    "# del bd.databases[ei38_name]"
   ]
  },
  {
   "cell_type": "code",
   "execution_count": 10,
   "id": "99ee0671-a5b0-4fe4-83a4-97403a13188c",
   "metadata": {},
   "outputs": [
    {
     "name": "stdout",
     "output_type": "stream",
     "text": [
      "Biosphere database already present!!! No setup is needed\n"
     ]
    }
   ],
   "source": [
    "bi.bw2setup()"
   ]
  },
  {
   "cell_type": "code",
   "execution_count": 11,
   "id": "548a1d7b-d963-4c46-ab2f-d02ce019b12c",
   "metadata": {},
   "outputs": [
    {
     "data": {
      "text/plain": [
       "Databases dictionary with 2 object(s):\n",
       "\tbiosphere3\n",
       "\tecoinvent 3.9"
      ]
     },
     "execution_count": 11,
     "metadata": {},
     "output_type": "execute_result"
    }
   ],
   "source": [
    "bd.databases"
   ]
  },
  {
   "cell_type": "code",
   "execution_count": 12,
   "id": "dd6a6a2e-6f2e-49b7-8261-6cc463452288",
   "metadata": {},
   "outputs": [
    {
     "name": "stdout",
     "output_type": "stream",
     "text": [
      "ecoinvent 3.9 database already present!!! No import is needed\n",
      "CPU times: user 371 µs, sys: 377 µs, total: 748 µs\n",
      "Wall time: 470 µs\n"
     ]
    }
   ],
   "source": [
    "%%time\n",
    "import_ecoinvent(fp_ecoinvent_39, ei39_name)"
   ]
  },
  {
   "cell_type": "code",
   "execution_count": 8,
   "id": "89bab10f-1c1e-48b6-a6f9-4e907f8e42ef",
   "metadata": {},
   "outputs": [],
   "source": [
    "ei = bd.Database(ei39_name)"
   ]
  },
  {
   "cell_type": "markdown",
   "id": "4b700786-3309-4603-9d0d-85c5b55663f1",
   "metadata": {},
   "source": [
    "# Checking Production volumes in ecoinvent"
   ]
  },
  {
   "cell_type": "markdown",
   "id": "fbbeaa4e-825d-467d-a4db-518cb963fcc9",
   "metadata": {},
   "source": [
    "## Iron/Iron ore"
   ]
  },
  {
   "cell_type": "code",
   "execution_count": null,
   "id": "8caa14ef-1be0-4368-a3a8-a3c8411f5cfe",
   "metadata": {},
   "outputs": [],
   "source": []
  },
  {
   "cell_type": "code",
   "execution_count": 115,
   "id": "79a5d503-ffd5-4737-b412-6199b6fccedf",
   "metadata": {},
   "outputs": [
    {
     "data": {
      "text/plain": [
       "[('market for iron ore, crude ore, 46% Fe' (kilogram, GLO, None),\n",
       "  'iron ore, crude ore, 46% Fe'),\n",
       " ('market for iron ore, crude ore, 63% Fe' (kilogram, GLO, None),\n",
       "  'iron ore, crude ore, 63% Fe')]"
      ]
     },
     "execution_count": 115,
     "metadata": {},
     "output_type": "execute_result"
    }
   ],
   "source": [
    "# crude iron ore markets\n",
    "crude_iron_markets = [(act, act['reference product']) for act in ei if 'iron ore, crude ore' in act['reference product'] and 'market' in act['name']]\n",
    "crude_iron_markets"
   ]
  },
  {
   "cell_type": "code",
   "execution_count": null,
   "id": "b80390d6-59f2-418d-b3dc-138f43731157",
   "metadata": {},
   "outputs": [],
   "source": []
  },
  {
   "cell_type": "code",
   "execution_count": 10,
   "id": "554db943-812f-48a7-99e0-7195fa845605",
   "metadata": {},
   "outputs": [
    {
     "data": {
      "text/plain": [
       "[('market for iron ore concentrate' (kilogram, GLO, None),\n",
       "  'iron ore concentrate')]"
      ]
     },
     "execution_count": 10,
     "metadata": {},
     "output_type": "execute_result"
    }
   ],
   "source": [
    "# iron ore concentrate markets\n",
    "iron_concentrate_market = [(act, act['reference product']) for act in ei if 'iron ore concentrate' in act['reference product'] and 'market' in act['name']]\n",
    "iron_concentrate_market"
   ]
  },
  {
   "cell_type": "code",
   "execution_count": 11,
   "id": "cc7d7358-275b-47d9-9b06-b4cb1d6ce8f6",
   "metadata": {},
   "outputs": [
    {
     "data": {
      "text/plain": [
       "{'flow': 'cb262c3c-a7c7-4781-82e6-e1e90dd92b65',\n",
       " 'type': 'production',\n",
       " 'name': 'iron ore concentrate',\n",
       " 'classifications': {'CPC': ['14100: Iron ores and concentrates, other than roasted iron pyrites']},\n",
       " 'production volume': 349547060065.289,\n",
       " 'properties': {'carbon allocation': {'amount': 0.0, 'unit': 'kg'},\n",
       "  'carbon content': {'amount': 0.0, 'unit': 'dimensionless'},\n",
       "  'carbon content, fossil': {'amount': 0.0, 'unit': 'dimensionless'},\n",
       "  'carbon content, non-fossil': {'amount': 0.0, 'unit': 'dimensionless'},\n",
       "  'dry mass': {'amount': 1.0, 'unit': 'kg'},\n",
       "  'price': {'amount': 0.0467, 'unit': 'EUR2005'},\n",
       "  'water content': {'amount': 0.0, 'unit': 'dimensionless'},\n",
       "  'water in wet mass': {'amount': 0.0, 'unit': 'kg'},\n",
       "  'wet mass': {'amount': 1.0, 'unit': 'kg'}},\n",
       " 'activity': '7bb8c2ac-d320-5d09-a311-8ce7f3e58fd7',\n",
       " 'unit': 'kilogram',\n",
       " 'amount': 1.0,\n",
       " 'uncertainty type': 0,\n",
       " 'loc': 1.0,\n",
       " 'input': ('ecoinvent 3.9', '4c9e3b53b936ec11e1d2398488041820'),\n",
       " 'output': ('ecoinvent 3.9', '4c9e3b53b936ec11e1d2398488041820')}"
      ]
     },
     "execution_count": 11,
     "metadata": {},
     "output_type": "execute_result"
    }
   ],
   "source": [
    "iron_concentrate_market[0][0].rp_exchange().as_dict()"
   ]
  },
  {
   "cell_type": "code",
   "execution_count": 86,
   "id": "a79c0f34-aef4-4ab1-a519-0602256074c8",
   "metadata": {
    "collapsed": true,
    "jupyter": {
     "outputs_hidden": true
    },
    "tags": []
   },
   "outputs": [
    {
     "data": {
      "text/plain": [
       "[{'flow': '686827fc-1f4c-44a4-a361-3ba77f0bc855',\n",
       "  'type': 'production',\n",
       "  'name': 'iron ore, crude ore, 46% Fe',\n",
       "  'classifications': {'CPC': ['14100: Iron ores and concentrates, other than roasted iron pyrites']},\n",
       "  'production volume': 631364276922.146,\n",
       "  'properties': {'carbon allocation': {'amount': 0.0, 'unit': 'kg'},\n",
       "   'carbon content': {'amount': 0.0, 'unit': 'dimensionless'},\n",
       "   'carbon content, fossil': {'amount': 0.0, 'unit': 'dimensionless'},\n",
       "   'carbon content, non-fossil': {'amount': 0.0, 'unit': 'dimensionless'},\n",
       "   'dry mass': {'amount': 1.0, 'unit': 'kg'},\n",
       "   'price': {'amount': 0.04, 'unit': 'EUR2005'},\n",
       "   'water content': {'amount': 0.0, 'unit': 'dimensionless'},\n",
       "   'water in wet mass': {'amount': 0.0, 'unit': 'kg'},\n",
       "   'wet mass': {'amount': 1.0, 'unit': 'kg'}},\n",
       "  'activity': '064a4f96-cd08-512b-99d7-70164cbe3a6f',\n",
       "  'unit': 'kilogram',\n",
       "  'amount': 1.0,\n",
       "  'uncertainty type': 0,\n",
       "  'loc': 1.0,\n",
       "  'input': ('ecoinvent 3.9', 'c0f5b0e592eddf617e9e7e2601fba256'),\n",
       "  'output': ('ecoinvent 3.9', 'c0f5b0e592eddf617e9e7e2601fba256')},\n",
       " {'flow': 'e9d62932-4f38-41b4-95ea-4bf77569fcc8',\n",
       "  'type': 'production',\n",
       "  'name': 'iron ore, crude ore, 63% Fe',\n",
       "  'classifications': {'CPC': ['14100: Iron ores and concentrates, other than roasted iron pyrites']},\n",
       "  'production volume': 234920634920.635,\n",
       "  'properties': {'carbon allocation': {'amount': 0.0, 'unit': 'kg'},\n",
       "   'carbon content': {'amount': 0.0, 'unit': 'dimensionless'},\n",
       "   'carbon content, fossil': {'amount': 0.0, 'unit': 'dimensionless'},\n",
       "   'carbon content, non-fossil': {'amount': 0.0, 'unit': 'dimensionless'},\n",
       "   'dry mass': {'amount': 1.0, 'unit': 'kg'},\n",
       "   'iron content': {'amount': 0.63, 'unit': 'dimensionless'},\n",
       "   'price': {'amount': 0.0452630769230769, 'unit': 'EUR2005'},\n",
       "   'water content': {'amount': 0.0, 'unit': 'dimensionless'},\n",
       "   'water in wet mass': {'amount': 0.0, 'unit': 'kg'},\n",
       "   'wet mass': {'amount': 1.0, 'unit': 'kg'}},\n",
       "  'activity': 'd2f658c1-0c77-5a3c-aa38-ef955c69e706',\n",
       "  'unit': 'kilogram',\n",
       "  'amount': 1.0,\n",
       "  'uncertainty type': 0,\n",
       "  'loc': 1.0,\n",
       "  'input': ('ecoinvent 3.9', 'f1a31f90118085d4e95faf2e518fc850'),\n",
       "  'output': ('ecoinvent 3.9', 'f1a31f90118085d4e95faf2e518fc850')}]"
      ]
     },
     "execution_count": 86,
     "metadata": {},
     "output_type": "execute_result"
    }
   ],
   "source": [
    "[act[0].rp_exchange().as_dict() for act in crude_iron_markets]\n"
   ]
  },
  {
   "cell_type": "code",
   "execution_count": 16,
   "id": "70333718-1dc5-40ea-8748-41b7bfcbdf63",
   "metadata": {},
   "outputs": [
    {
     "data": {
      "text/plain": [
       "[631364276922.146, 234920634920.635]"
      ]
     },
     "execution_count": 16,
     "metadata": {},
     "output_type": "execute_result"
    }
   ],
   "source": [
    "prod_vols_iron_ore = [act[0].rp_exchange().as_dict()['production volume'] for act in crude_iron_markets]\n",
    "prod_vols_iron_ore"
   ]
  },
  {
   "cell_type": "code",
   "execution_count": 87,
   "id": "2daf9a2d-ab1d-4ef1-8077-3a61aebf4fea",
   "metadata": {},
   "outputs": [
    {
     "data": {
      "text/plain": [
       "[('market for iron ore, crude ore, 46% Fe' (kilogram, GLO, None),\n",
       "  'iron ore, crude ore, 46% Fe'),\n",
       " ('market for iron ore, crude ore, 63% Fe' (kilogram, GLO, None),\n",
       "  'iron ore, crude ore, 63% Fe')]"
      ]
     },
     "execution_count": 87,
     "metadata": {},
     "output_type": "execute_result"
    }
   ],
   "source": [
    "crude_iron_markets"
   ]
  },
  {
   "cell_type": "code",
   "execution_count": 96,
   "id": "52c15260-3862-46a9-8e32-caf4709f45cc",
   "metadata": {},
   "outputs": [
    {
     "data": {
      "text/plain": [
       "[290427567384.1872, 148000000000.00006]"
      ]
     },
     "execution_count": 96,
     "metadata": {},
     "output_type": "execute_result"
    }
   ],
   "source": [
    "# now calculate the iron content\n",
    "prod_vols_iron = [act[0].rp_exchange().as_dict()['production volume']*c for act,c in zip(crude_iron_markets,[0.46,0.63])]\n",
    "prod_vols_iron"
   ]
  },
  {
   "cell_type": "code",
   "execution_count": 99,
   "id": "376e6603-b84c-4dbc-abc9-6f95956ebf91",
   "metadata": {},
   "outputs": [
    {
     "data": {
      "text/plain": [
       "[290427567384.1872, 148000000000.00006, 227205589042.43787]"
      ]
     },
     "execution_count": 99,
     "metadata": {},
     "output_type": "execute_result"
    }
   ],
   "source": [
    "# iron content of iron ore concentrate is 0.65 (see above), so add this to the iron prodction volume\n",
    "prod_vols_iron.append(iron_concentrate_market[0][0].rp_exchange()['production volume']*0.65)\n",
    "prod_vols_iron"
   ]
  },
  {
   "cell_type": "code",
   "execution_count": 100,
   "id": "c3e2588c-0b98-463f-8541-9ca2e6b734d6",
   "metadata": {},
   "outputs": [
    {
     "name": "stdout",
     "output_type": "stream",
     "text": [
      "665633.1564266251 kt\n"
     ]
    }
   ],
   "source": [
    "# Total iron production volume (including iron from iron ore concentrates)\n",
    "print(f'{sum(prod_vols_iron)/1e6} kt')"
   ]
  },
  {
   "cell_type": "code",
   "execution_count": null,
   "id": "77573707-a5aa-4220-97db-a992d8657ff5",
   "metadata": {},
   "outputs": [],
   "source": []
  },
  {
   "cell_type": "code",
   "execution_count": 26,
   "id": "d67d54c8-ce41-49f2-aca9-51adaa1b9990",
   "metadata": {},
   "outputs": [
    {
     "name": "stdout",
     "output_type": "stream",
     "text": [
      "1215.83197190807 Mt\n"
     ]
    }
   ],
   "source": [
    "# Total iron ore content (including iron ore concentrates)\n",
    "print(f'{sum(prod_vols_iron_ore)/1e9} Mt')"
   ]
  },
  {
   "cell_type": "code",
   "execution_count": null,
   "id": "0e5d1697-bc9f-4255-8bd0-875e7fac93ea",
   "metadata": {},
   "outputs": [],
   "source": []
  },
  {
   "cell_type": "code",
   "execution_count": null,
   "id": "bb5e0f08-bcb8-4c55-99c5-4a10f6f74395",
   "metadata": {},
   "outputs": [],
   "source": []
  },
  {
   "cell_type": "code",
   "execution_count": null,
   "id": "c5eec040-c862-48e4-b197-18b7b85cae5f",
   "metadata": {},
   "outputs": [],
   "source": []
  },
  {
   "cell_type": "markdown",
   "id": "f54dd483-7b2a-4899-b74d-25de44c10e3c",
   "metadata": {},
   "source": [
    "## Copper:"
   ]
  },
  {
   "cell_type": "code",
   "execution_count": 37,
   "id": "2e4028cc-01f4-4378-a5eb-895984603103",
   "metadata": {
    "collapsed": true,
    "jupyter": {
     "outputs_hidden": true
    },
    "tags": []
   },
   "outputs": [
    {
     "data": {
      "text/plain": [
       "[('copper mine operation and beneficiation, sulfide ore' (kilogram, ZM, None),\n",
       "  'copper concentrate, sulfide ore'),\n",
       " ('copper mine operation and beneficiation, sulfide ore' (kilogram, RU, None),\n",
       "  'copper concentrate, sulfide ore'),\n",
       " ('copper mine operation and beneficiation, sulfide ore' (kilogram, ID, None),\n",
       "  'copper concentrate, sulfide ore'),\n",
       " ('copper mine operation and beneficiation, sulfide ore' (kilogram, RoW, None),\n",
       "  'copper concentrate, sulfide ore'),\n",
       " ('molybdenite mine operation' (kilogram, GLO, None),\n",
       "  'copper concentrate, sulfide ore'),\n",
       " ('copper mine operation and beneficiation, sulfide ore' (kilogram, KZ, None),\n",
       "  'copper concentrate, sulfide ore'),\n",
       " ('gold-silver mine operation and beneficiation' (kilogram, CA-QC, None),\n",
       "  'copper concentrate, sulfide ore'),\n",
       " ('copper mine operation and beneficiation, sulfide ore' (kilogram, AU, None),\n",
       "  'copper concentrate, sulfide ore'),\n",
       " ('market for copper concentrate, sulfide ore' (kilogram, GLO, None),\n",
       "  'copper concentrate, sulfide ore'),\n",
       " ('copper mine operation and beneficiation, sulfide ore' (kilogram, CN, None),\n",
       "  'copper concentrate, sulfide ore'),\n",
       " ('primary zinc production from concentrate' (kilogram, RoW, None),\n",
       "  'copper concentrate, sulfide ore'),\n",
       " ('copper mine operation and beneficiation, sulfide ore' (kilogram, US, None),\n",
       "  'copper concentrate, sulfide ore'),\n",
       " ('copper mine operation and beneficiation, sulfide ore' (kilogram, CA, None),\n",
       "  'copper concentrate, sulfide ore'),\n",
       " ('copper mine operation and beneficiation, sulfide ore' (kilogram, CL, None),\n",
       "  'copper concentrate, sulfide ore'),\n",
       " ('cobalt production' (kilogram, GLO, None),\n",
       "  'copper concentrate, sulfide ore'),\n",
       " ('zinc mine operation' (kilogram, GLO, None),\n",
       "  'copper concentrate, sulfide ore'),\n",
       " ('smelting and refining of nickel concentrate, 16% Ni' (kilogram, GLO, None),\n",
       "  'copper concentrate, sulfide ore')]"
      ]
     },
     "execution_count": 37,
     "metadata": {},
     "output_type": "execute_result"
    }
   ],
   "source": [
    "copper_acts = [(act, act['reference product']) for act in ei if 'copper concentrate' in act['reference product']]\n",
    "copper_acts\n"
   ]
  },
  {
   "cell_type": "code",
   "execution_count": 44,
   "id": "32add7f6-09a3-427f-9847-5b77e8ab2824",
   "metadata": {
    "collapsed": true,
    "jupyter": {
     "outputs_hidden": true
    },
    "tags": []
   },
   "outputs": [
    {
     "data": {
      "text/plain": [
       "{'comment': 'The multi-output \"zinc mine operation\" process includes all steps required to produce zinc concentrate (59% Zn by mass), namely mining, comminution, and flotation. The dataset describes the production of zinc concentrate and additional co-products, primarily lead concentrate. Data is based on a study undertaken by the International Zinc Association (IZA) in conjunction with thinkstep (the LCA practitioner) for reference year 2012. Participating companies provided annual primary data on inputs and outputs for each process step, which was aggregated into a single production-weighted dataset. Zinc concentrate is most often used as an input to zinc smelting, either electrometallurgical smelting or the less common pyrometallurgical smelting. \\nThe below image presents the system boundary in relation to the primary product, zinc concentrate.\\nImage: https://db3.ecoinvent.org/images/2b83c8d3-c779-4e64-98f4-60d91c5dd741\\nGeography:  This dataset is intended to be representative of global zinc concentrate production. Primary data was collected from 24 mines, representing mining operations in Africa, Australia, Europe, and North America. \\nThe below table presents the regional composition of global concentrate\\ncompared to the regional composition of all sites that provided data. The\\ndeviation is the absolute value of the difference in percentage points between the dataset and global compositions. The deviations for the mine regional composition is 23%, resulting in global representativeness of 77%. The study’s global representativeness is therefore deemed to be moderate.\\nImage: https://db3.ecoinvent.org/images/bb8b1291-6ffa-4007-927a-459b886ecfe9\\nTechnology:  The technological representativeness of this dataset is considered to be high as mining and concentration methods for zinc are consistent in all regions.\\nMining\\nThe mining of zinc ore includes underground and open cast mining processes. Within the global zinc industry, about 80% of zinc ore comes from underground mines and 20% from open pit or combination mines.\\n- Underground Mining: Access is via vertical shafts or inclined roadways. There are usually two access routes (one for mining personnel and materials, and one for the ore) for safety and for ease of ventilation (fresh air comes in one and is then exhausted out of the other). These are permanent structures and therefore require strong roof supports (often including \"bolts\" into the rock to tie the layers together for strength). Once at the correct depth has been reached, horizontal tunnels are driven to reach the ore deposit. These are often temporary, so the support requirements are less substantial. Transport for personnel and materials can be by train, truck or conveyor belts. The largest share of the consumed fuels is diesel followed by electricity. Other major inputs include explosives and water.\\n- Open Pit Mining: Hard-rock surface mining usually includes drilling, blasting, or a combination of both processes, and then lifting of the broken ore either into trucks or onto conveyors for transportation to the processing plant. This lifting is usually by excavator (electric or hydraulic; with shovel or backhoe configuration) or front-end loader.\\nBenefication (Comminution and Flotation)\\nZinc ore is milled and mixed with water to recover a fine concentrate by gravity and elutriation techniques, creating a slurry. The separation process of the metal from the slurry is realized through the addition of various floatation chemicals.\\nTime period:  All primary data collected for this study is considered to be representative of the year 2012. Primary data used from the previous 2009 study is representative of production in the years 2005 & 2006, however it is valid to assume the technology has not significantly changed since then.',\n",
       " 'classifications': [('ISIC rev.4 ecoinvent',\n",
       "   '0729:Mining of other non-ferrous metal ores'),\n",
       "  ('CPC',\n",
       "   '14290: Other non-ferrous metal ores and concentrates (other than uranium or thorium ores and concentrates)')],\n",
       " 'activity type': 'ordinary transforming activity',\n",
       " 'activity': '916b33c1-a2cc-568a-833f-2e0dc98793bb',\n",
       " 'database': 'ecoinvent 3.9',\n",
       " 'filename': '916b33c1-a2cc-568a-833f-2e0dc98793bb_0b4d69f9-6b39-4232-948b-62b7b4f0d3d8.spold',\n",
       " 'location': 'GLO',\n",
       " 'name': 'zinc mine operation',\n",
       " 'synonyms': ['Lead concentrate', 'Zinc concentrate'],\n",
       " 'parameters': [],\n",
       " 'authors': {'data entry': {'name': 'Maggie Wildnauer',\n",
       "   'email': 'maggie.wildnauer@thinkstep.com'},\n",
       "  'data generator': {'name': 'Eric Van Genderen',\n",
       "   'email': 'evangenderen@zinc.org'}},\n",
       " 'type': 'process',\n",
       " 'reference product': 'copper concentrate, sulfide ore',\n",
       " 'flow': '0b4d69f9-6b39-4232-948b-62b7b4f0d3d8',\n",
       " 'unit': 'kilogram',\n",
       " 'production amount': 1.0,\n",
       " 'code': '05ce2db5a39dea1ac94515f1c00787cb',\n",
       " 'id': 8551}"
      ]
     },
     "execution_count": 44,
     "metadata": {},
     "output_type": "execute_result"
    }
   ],
   "source": [
    "copper_acts[-2][0].as_dict()"
   ]
  },
  {
   "cell_type": "code",
   "execution_count": 47,
   "id": "d4f42518-bc26-4ee3-aa2a-07e3e3f07ce3",
   "metadata": {},
   "outputs": [
    {
     "data": {
      "text/plain": [
       "('zinc mine operation' (kilogram, GLO, None),\n",
       " 'copper concentrate, sulfide ore')"
      ]
     },
     "execution_count": 47,
     "metadata": {},
     "output_type": "execute_result"
    }
   ],
   "source": [
    "copper_acts[-2]"
   ]
  },
  {
   "cell_type": "code",
   "execution_count": 49,
   "id": "ecaa2e4e-d0cf-4f1b-8a97-c2e9ea9100d1",
   "metadata": {
    "collapsed": true,
    "jupyter": {
     "outputs_hidden": true
    },
    "tags": []
   },
   "outputs": [
    {
     "data": {
      "text/plain": [
       "{'flow': '0b4d69f9-6b39-4232-948b-62b7b4f0d3d8',\n",
       " 'type': 'production',\n",
       " 'name': 'copper concentrate, sulfide ore',\n",
       " 'classifications': {'CPC': ['14290: Other non-ferrous metal ores and concentrates (other than uranium or thorium ores and concentrates)']},\n",
       " 'production volume': 1769812941.63126,\n",
       " 'properties': {'allocation factor': {'amount': 0.12493282773555899,\n",
       "   'unit': 'dimensionless'},\n",
       "  'aluminium content': {'amount': 0.00168, 'unit': 'dimensionless'},\n",
       "  'barium content': {'amount': 8.92e-06, 'unit': 'dimensionless'},\n",
       "  'carbon allocation': {'amount': 0.0, 'unit': 'kg'},\n",
       "  'carbon content': {'amount': 0.0, 'unit': 'dimensionless'},\n",
       "  'carbon content, fossil': {'amount': 0.0, 'unit': 'dimensionless'},\n",
       "  'carbon content, non-fossil': {'amount': 0.0, 'unit': 'dimensionless'},\n",
       "  'concentration, cadmium': {'amount': 5.3e-05, 'unit': 'kg/kg'},\n",
       "  'concentration, calcium': {'amount': 0.0572, 'unit': 'kg/kg'},\n",
       "  'concentration, copper': {'amount': 0.35, 'unit': 'kg/kg'},\n",
       "  'concentration, iron': {'amount': 0.00201, 'unit': 'kg/kg'},\n",
       "  'concentration, lead': {'amount': 0.0176, 'unit': 'kg/kg'},\n",
       "  'concentration, magnesium': {'amount': 0.0333, 'unit': 'kg/kg'},\n",
       "  'concentration, nickel': {'amount': 5.54e-07, 'unit': 'kg/kg'},\n",
       "  'concentration, silver': {'amount': 0.000171, 'unit': 'kg/kg'},\n",
       "  'dry mass': {'amount': 1.0, 'unit': 'kg'},\n",
       "  'gold content': {'amount': 0.00108, 'unit': 'dimensionless'},\n",
       "  'manganese content': {'amount': 0.000105, 'unit': 'dimensionless'},\n",
       "  'price': {'amount': 0.840200323444765, 'unit': 'EUR2005'},\n",
       "  'titanium content': {'amount': 7.93e-05, 'unit': 'dimensionless'},\n",
       "  'true value': {'amount': 0.0685091731521931, 'unit': 'dimensionless'},\n",
       "  'vanadium content': {'amount': 2.15e-06, 'unit': 'dimensionless'},\n",
       "  'water content': {'amount': 0.0, 'unit': 'dimensionless'},\n",
       "  'water in wet mass': {'amount': 0.0, 'unit': 'kg'},\n",
       "  'wet mass': {'amount': 1.0, 'unit': 'kg'}},\n",
       " 'activity': '916b33c1-a2cc-568a-833f-2e0dc98793bb',\n",
       " 'unit': 'kilogram',\n",
       " 'amount': 1.0,\n",
       " 'pedigree': {'reliability': 1,\n",
       "  'completeness': 3,\n",
       "  'temporal correlation': 2,\n",
       "  'geographical correlation': 1,\n",
       "  'further technological correlation': 1},\n",
       " 'uncertainty type': 2,\n",
       " 'loc': 0.0,\n",
       " 'scale': 0.03741657386773942,\n",
       " 'scale without pedigree': 0.03741657386773942,\n",
       " 'input': ('ecoinvent 3.9', '05ce2db5a39dea1ac94515f1c00787cb'),\n",
       " 'output': ('ecoinvent 3.9', '05ce2db5a39dea1ac94515f1c00787cb')}"
      ]
     },
     "execution_count": 49,
     "metadata": {},
     "output_type": "execute_result"
    }
   ],
   "source": [
    "copper_acts[-2][0].rp_exchange().as_dict()\n"
   ]
  },
  {
   "cell_type": "code",
   "execution_count": 59,
   "id": "d1df8acc-aceb-4305-8a31-b928e5e6d2e8",
   "metadata": {},
   "outputs": [],
   "source": [
    "copper_pVs = [(act[0]['name'],act[0].rp_exchange().as_dict()['production volume']*act[0].rp_exchange().as_dict()['properties']['copper content']['amount'],act[0].rp_exchange().as_dict()['properties']['copper content']['amount']) for act in copper_acts \n",
    "             if 'copper content' in act[0].rp_exchange().as_dict()['properties'].keys()]\n",
    "\n"
   ]
  },
  {
   "cell_type": "code",
   "execution_count": 60,
   "id": "0305d5d5-a333-46c2-8b60-698036c37cb1",
   "metadata": {
    "collapsed": true,
    "jupyter": {
     "outputs_hidden": true
    },
    "tags": []
   },
   "outputs": [
    {
     "data": {
      "text/plain": [
       "[('copper mine operation and beneficiation, sulfide ore',\n",
       "  611374204.645576,\n",
       "  0.296333333300647),\n",
       " ('copper mine operation and beneficiation, sulfide ore',\n",
       "  811460242.4454681,\n",
       "  0.296333333300648),\n",
       " ('copper mine operation and beneficiation, sulfide ore',\n",
       "  637274275.4793061,\n",
       "  0.296333333300647),\n",
       " ('copper mine operation and beneficiation, sulfide ore',\n",
       "  5287710574.071248,\n",
       "  0.296333333333333),\n",
       " ('molybdenite mine operation', 0.0, 0.0),\n",
       " ('copper mine operation and beneficiation, sulfide ore',\n",
       "  517778274.26284724,\n",
       "  0.296333333300648),\n",
       " ('gold-silver mine operation and beneficiation', 4504644.3816, 0.1188),\n",
       " ('copper mine operation and beneficiation, sulfide ore',\n",
       "  1036001329.9257524,\n",
       "  0.296333333300648),\n",
       " ('copper mine operation and beneficiation, sulfide ore',\n",
       "  1856354281.0507677,\n",
       "  0.296333333300648),\n",
       " ('primary zinc production from concentrate', 2253166.803325932, 0.65),\n",
       " ('copper mine operation and beneficiation, sulfide ore',\n",
       "  883713547.0992817,\n",
       "  0.296333333300647),\n",
       " ('copper mine operation and beneficiation, sulfide ore',\n",
       "  774777872.566781,\n",
       "  0.296333333300648),\n",
       " ('copper mine operation and beneficiation, sulfide ore',\n",
       "  4430350795.709562,\n",
       "  0.296333335610364),\n",
       " ('cobalt production', 0.0, 0.0),\n",
       " ('smelting and refining of nickel concentrate, 16% Ni', 0.0, 0.0)]"
      ]
     },
     "execution_count": 60,
     "metadata": {},
     "output_type": "execute_result"
    }
   ],
   "source": [
    "copper_pVs"
   ]
  },
  {
   "cell_type": "code",
   "execution_count": null,
   "id": "07931bf0-89df-4ef1-9327-aab8e4eb3b83",
   "metadata": {},
   "outputs": [],
   "source": []
  },
  {
   "cell_type": "code",
   "execution_count": 39,
   "id": "c1f741d6-e85d-47b7-af8d-ded83ce6d4ad",
   "metadata": {},
   "outputs": [
    {
     "data": {
      "text/plain": [
       "16.853553208441514"
      ]
     },
     "execution_count": 39,
     "metadata": {},
     "output_type": "execute_result"
    }
   ],
   "source": [
    "sum(copper_pVs)/1e9"
   ]
  },
  {
   "cell_type": "code",
   "execution_count": 55,
   "id": "5610502e-396c-43e6-b557-c4e180c692f2",
   "metadata": {},
   "outputs": [
    {
     "data": {
      "text/plain": [
       "'market for copper concentrate, sulfide ore' (kilogram, GLO, None)"
      ]
     },
     "execution_count": 55,
     "metadata": {},
     "output_type": "execute_result"
    }
   ],
   "source": [
    "copper_market = [act for act in ei if act['name']=='market for copper concentrate, sulfide ore'][0]\n",
    "copper_market"
   ]
  },
  {
   "cell_type": "code",
   "execution_count": 58,
   "id": "b14ef078-c91e-4c9f-822b-885df77f4199",
   "metadata": {},
   "outputs": [
    {
     "data": {
      "text/plain": [
       "{'flow': '0b4d69f9-6b39-4232-948b-62b7b4f0d3d8',\n",
       " 'type': 'production',\n",
       " 'name': 'copper concentrate, sulfide ore',\n",
       " 'classifications': {'CPC': ['14290: Other non-ferrous metal ores and concentrates (other than uranium or thorium ores and concentrates)']},\n",
       " 'production volume': 67835027189.5556,\n",
       " 'properties': {'carbon allocation': {'amount': 0.0, 'unit': 'kg'},\n",
       "  'carbon content': {'amount': 0.0, 'unit': 'dimensionless'},\n",
       "  'carbon content, fossil': {'amount': 0.0, 'unit': 'dimensionless'},\n",
       "  'carbon content, non-fossil': {'amount': 0.0, 'unit': 'dimensionless'},\n",
       "  'dry mass': {'amount': 1.0, 'unit': 'kg'},\n",
       "  'price': {'amount': 0.8402003234447648, 'unit': 'EUR2005'},\n",
       "  'water content': {'amount': 0.0, 'unit': 'dimensionless'},\n",
       "  'water in wet mass': {'amount': 0.0, 'unit': 'kg'},\n",
       "  'wet mass': {'amount': 1.0, 'unit': 'kg'}},\n",
       " 'activity': 'a61f8c5b-9db2-53db-b695-c398fc1ec468',\n",
       " 'unit': 'kilogram',\n",
       " 'amount': 1.0,\n",
       " 'uncertainty type': 0,\n",
       " 'loc': 1.0,\n",
       " 'input': ('ecoinvent 3.9', '1b76b3a7347fbbad2d397c17f38b9198'),\n",
       " 'output': ('ecoinvent 3.9', '1b76b3a7347fbbad2d397c17f38b9198')}"
      ]
     },
     "execution_count": 58,
     "metadata": {},
     "output_type": "execute_result"
    }
   ],
   "source": [
    "copper_market.rp_exchange().as_dict()"
   ]
  },
  {
   "cell_type": "code",
   "execution_count": 57,
   "id": "d81728b4-0fd1-4317-960a-8580b8331f72",
   "metadata": {},
   "outputs": [
    {
     "ename": "KeyError",
     "evalue": "'copper content'",
     "output_type": "error",
     "traceback": [
      "\u001b[0;31m---------------------------------------------------------------------------\u001b[0m",
      "\u001b[0;31mKeyError\u001b[0m                                  Traceback (most recent call last)",
      "Cell \u001b[0;32mIn [57], line 1\u001b[0m\n\u001b[0;32m----> 1\u001b[0m copper_market\u001b[38;5;241m.\u001b[39mrp_exchange()[\u001b[38;5;124m'\u001b[39m\u001b[38;5;124mproduction volume\u001b[39m\u001b[38;5;124m'\u001b[39m]\u001b[38;5;241m*\u001b[39m\u001b[43mcopper_market\u001b[49m\u001b[38;5;241;43m.\u001b[39;49m\u001b[43mrp_exchange\u001b[49m\u001b[43m(\u001b[49m\u001b[43m)\u001b[49m\u001b[43m[\u001b[49m\u001b[38;5;124;43m'\u001b[39;49m\u001b[38;5;124;43mproperties\u001b[39;49m\u001b[38;5;124;43m'\u001b[39;49m\u001b[43m]\u001b[49m\u001b[43m[\u001b[49m\u001b[38;5;124;43m'\u001b[39;49m\u001b[38;5;124;43mcopper content\u001b[39;49m\u001b[38;5;124;43m'\u001b[39;49m\u001b[43m]\u001b[49m[\u001b[38;5;124m'\u001b[39m\u001b[38;5;124mamount\u001b[39m\u001b[38;5;124m'\u001b[39m]\n",
      "\u001b[0;31mKeyError\u001b[0m: 'copper content'"
     ]
    }
   ],
   "source": [
    "copper_market.rp_exchange()['production volume']*copper_market.rp_exchange()['properties']['copper content']['amount']"
   ]
  },
  {
   "cell_type": "code",
   "execution_count": null,
   "id": "3e0ef4b9-2ad6-4b6d-95dd-341b08a5d38f",
   "metadata": {},
   "outputs": [],
   "source": []
  },
  {
   "cell_type": "code",
   "execution_count": 67,
   "id": "172a15f3-d3f8-458a-99cb-8b293d045dbe",
   "metadata": {},
   "outputs": [
    {
     "data": {
      "text/plain": [
       "[('smelting of copper concentrate, sulfide ore' (kilogram, CN, None),\n",
       "  'copper, anode'),\n",
       " ('smelting of copper concentrate, sulfide ore' (kilogram, RoW, None),\n",
       "  'copper, anode'),\n",
       " ('smelting of copper concentrate, sulfide ore' (kilogram, RU, None),\n",
       "  'copper, anode'),\n",
       " ('smelting of copper concentrate, sulfide ore' (kilogram, IN, None),\n",
       "  'copper, anode'),\n",
       " ('smelting of copper concentrate, sulfide ore' (kilogram, JP, None),\n",
       "  'copper, anode'),\n",
       " ('smelting of copper concentrate, sulfide ore' (kilogram, CL, None),\n",
       "  'copper, anode')]"
      ]
     },
     "execution_count": 67,
     "metadata": {},
     "output_type": "execute_result"
    }
   ],
   "source": [
    "copper_smelting = [(act, act['reference product']) for act in ei if 'copper, anode' in act['reference product'] and 'smelting' in act['name']]\n",
    "copper_smelting"
   ]
  },
  {
   "cell_type": "code",
   "execution_count": 69,
   "id": "c95c037d-6a41-4f50-852a-759e84484130",
   "metadata": {},
   "outputs": [
    {
     "name": "stdout",
     "output_type": "stream",
     "text": [
      "16.25580688573639 kt copper\n"
     ]
    }
   ],
   "source": [
    "print(sum([act[0].rp_exchange().as_dict()['production volume']*act[0].rp_exchange().as_dict()['properties']['copper content']['amount'] for act in copper_smelting \n",
    "             if 'copper content' in act[0].rp_exchange().as_dict()['properties'].keys()])/1e9, 'kt copper')"
   ]
  },
  {
   "cell_type": "code",
   "execution_count": 70,
   "id": "ded35cfc-4ed6-4048-858d-c5bde408d1c6",
   "metadata": {},
   "outputs": [
    {
     "name": "stdout",
     "output_type": "stream",
     "text": [
      "'smelting of copper concentrate, sulfide ore' (kilogram, CN, None) 6.38422752154631 kt copper\n",
      "'smelting of copper concentrate, sulfide ore' (kilogram, RoW, None) 6.256496034 kt copper\n",
      "'smelting of copper concentrate, sulfide ore' (kilogram, RU, None) 0.7520371 kt copper\n",
      "'smelting of copper concentrate, sulfide ore' (kilogram, IN, None) 0.4800555 kt copper\n",
      "'smelting of copper concentrate, sulfide ore' (kilogram, JP, None) 1.1399616810340079 kt copper\n",
      "'smelting of copper concentrate, sulfide ore' (kilogram, CL, None) 1.2430290491560714 kt copper\n"
     ]
    },
    {
     "data": {
      "text/plain": [
       "[None, None, None, None, None, None]"
      ]
     },
     "execution_count": 70,
     "metadata": {},
     "output_type": "execute_result"
    }
   ],
   "source": [
    "[print(act[0], act[0].rp_exchange().as_dict()['production volume']*act[0].rp_exchange().as_dict()['properties']['copper content']['amount']/1e9, 'kt copper') for act in copper_smelting \n",
    "             if 'copper content' in act[0].rp_exchange().as_dict()['properties'].keys()]"
   ]
  },
  {
   "cell_type": "markdown",
   "id": "835237b2-41a4-43a5-bb86-ce5049a737c3",
   "metadata": {},
   "source": [
    "## Global copper production\n",
    "\n",
    "24.823 kt of copper in 2021 according to: https://www.statista.com/statistics/254917/total-global-copper-production-since-2006/\n",
    "\n"
   ]
  },
  {
   "cell_type": "code",
   "execution_count": null,
   "id": "ce063d36-77ad-43e6-aec5-14d87e4022e2",
   "metadata": {},
   "outputs": [],
   "source": []
  },
  {
   "cell_type": "code",
   "execution_count": null,
   "id": "ce6d93ea-ee7b-4590-bc6d-d220fb67ea4e",
   "metadata": {},
   "outputs": [],
   "source": []
  },
  {
   "cell_type": "code",
   "execution_count": null,
   "id": "e50af4db-f996-4965-8eb4-67d16e2dc482",
   "metadata": {},
   "outputs": [],
   "source": []
  },
  {
   "cell_type": "code",
   "execution_count": null,
   "id": "b25affaa-71d6-4ab6-b7a9-47700e871c26",
   "metadata": {},
   "outputs": [],
   "source": []
  },
  {
   "cell_type": "markdown",
   "id": "d67278ac-683c-4eb5-b2b9-66f8b5939a69",
   "metadata": {},
   "source": [
    "## Aluminium"
   ]
  },
  {
   "cell_type": "markdown",
   "id": "062dfe3c-3528-4dc5-9e21-a6848f75bd89",
   "metadata": {},
   "source": [
    "Aluminium is produced fron Bauxie, let's get the bauxite mining opertations"
   ]
  },
  {
   "cell_type": "code",
   "execution_count": 101,
   "id": "a4ca41a3-df04-4f01-9d4d-5d161389ee57",
   "metadata": {},
   "outputs": [
    {
     "data": {
      "text/plain": [
       "[('bauxite mine operation' (kilogram, GLO, None), 'bauxite')]"
      ]
     },
     "execution_count": 101,
     "metadata": {},
     "output_type": "execute_result"
    }
   ],
   "source": [
    "bauxite_mining = [(act, act['reference product']) for act in ei if 'bauxite' in act['reference product'] and 'mine operation' in act['name']]\n",
    "bauxite_mining\n"
   ]
  },
  {
   "cell_type": "code",
   "execution_count": 102,
   "id": "e2344380-fff2-4e26-9d4c-a962568161ac",
   "metadata": {},
   "outputs": [],
   "source": [
    "bauxite_mining = bauxite_mining[0]"
   ]
  },
  {
   "cell_type": "markdown",
   "id": "3546b284-eaa9-4471-8185-8d05f7498277",
   "metadata": {},
   "source": [
    "Let's have alook inside"
   ]
  },
  {
   "cell_type": "code",
   "execution_count": 64,
   "id": "21b48870-568b-4bcc-b9ce-875b23ba35a9",
   "metadata": {},
   "outputs": [
    {
     "data": {
      "text/plain": [
       "{'comment': 'Average moisture content of bauxite is approximately 12% (wet mass basis).  The reference flow in this dataset is therefore expressed as 0.88 kg bauxite, without water.\\n The aluminium content is based on the reported yield of aluminium oxide production (0.39 kg Al2O3/kg wet bauxite).  The aluminium hydroxide is also calculated from the subsequent aluminium oxide production yield and makes the simplifying assumption that all aluminium is bound in alumina trihydrates (Al(OH)3) since the split between alumina trihydrates and monohydrates is unknown.  The maximum error from this assumption is 23%.\\nThe bauxite represents 50% (w/w) of the extracted ore, wet mass basis.\\nGeography:  Data collected from 14 world-wide bauxite mines producing 143.1million metric tons of bauxite, representing about 50% of world-wide aluminium bauxite mining operations.\\nTechnology:  Average bauxite mining technology world-wide (open mining)',\n",
       " 'classifications': [('EcoSpold01Categories', 'metals/extraction'),\n",
       "  ('ISIC rev.4 ecoinvent', '0729:Mining of other non-ferrous metal ores'),\n",
       "  ('CPC',\n",
       "   '14290: Other non-ferrous metal ores and concentrates (other than uranium or thorium ores and concentrates)')],\n",
       " 'activity type': 'ordinary transforming activity',\n",
       " 'activity': '99c8a94b-1f40-5add-ac40-88fbb874bfbf',\n",
       " 'database': 'ecoinvent 3.9',\n",
       " 'filename': '99c8a94b-1f40-5add-ac40-88fbb874bfbf_6e6b1247-4f6e-44a8-b22f-7ff81a0e461a.spold',\n",
       " 'location': 'GLO',\n",
       " 'name': 'bauxite mine operation',\n",
       " 'synonyms': ['Aluminiumerz', 'aluminium ore'],\n",
       " 'parameters': [{'description': 'Bauxite in bauxite ore',\n",
       "   'id': 'da6e97a0-db8f-46fe-98ad-89fe8cc4e59b',\n",
       "   'unit': '% (obsolete)',\n",
       "   'comment': 'Bauxite content of bauxite in bauxite ore, expressed as bauxite (wet mass)/kg ore',\n",
       "   'amount': 40.0,\n",
       "   'pedigree': {'reliability': 3,\n",
       "    'completeness': 2,\n",
       "    'temporal correlation': 1,\n",
       "    'geographical correlation': 1,\n",
       "    'further technological correlation': 1},\n",
       "   'uncertainty type': 2,\n",
       "   'loc': 3.69,\n",
       "   'scale': 0.05196152422706632,\n",
       "   'scale without pedigree': 0.05196152422706632,\n",
       "   'name': 'bauxiteInOre'}],\n",
       " 'authors': {'data entry': {'name': 'Linlin Wu',\n",
       "   'email': 'wu@world-aluminium.org'},\n",
       "  'data generator': {'name': 'Linlin Wu', 'email': 'wu@world-aluminium.org'}},\n",
       " 'type': 'process',\n",
       " 'reference product': 'bauxite',\n",
       " 'flow': '6e6b1247-4f6e-44a8-b22f-7ff81a0e461a',\n",
       " 'unit': 'kilogram',\n",
       " 'production amount': 1.0,\n",
       " 'code': 'dd72d28bf78077e1a67d43995ae3d47e',\n",
       " 'id': 10677}"
      ]
     },
     "execution_count": 64,
     "metadata": {},
     "output_type": "execute_result"
    }
   ],
   "source": [
    "bauxite_mining[0].as_dict()"
   ]
  },
  {
   "cell_type": "code",
   "execution_count": 103,
   "id": "f2885a0e-f5df-4f65-b8b4-f5a79b2496e6",
   "metadata": {},
   "outputs": [
    {
     "data": {
      "text/plain": [
       "285.4831"
      ]
     },
     "execution_count": 103,
     "metadata": {},
     "output_type": "execute_result"
    }
   ],
   "source": [
    "# get the bauxite production volume\n",
    "bauxite_mining[0].rp_exchange().as_dict()['production volume']/1e6"
   ]
  },
  {
   "cell_type": "markdown",
   "id": "141545f4-1c56-4ef5-998c-dba65732ffa2",
   "metadata": {},
   "source": [
    "And now the Aluminium PV in kt"
   ]
  },
  {
   "cell_type": "code",
   "execution_count": 168,
   "id": "c1adb50a-afd1-4822-b5dd-6baba67004b1",
   "metadata": {},
   "outputs": [
    {
     "data": {
      "text/plain": [
       "68.97504187874488"
      ]
     },
     "execution_count": 168,
     "metadata": {},
     "output_type": "execute_result"
    }
   ],
   "source": [
    "bauxite_mining[0].rp_exchange().as_dict()['production volume']*bauxite_mining[0].rp_exchange().as_dict()['properties']['aluminium content']['amount']/1e6"
   ]
  },
  {
   "cell_type": "markdown",
   "id": "05c912a6-089f-458f-8b72-4d03409294d7",
   "metadata": {},
   "source": [
    "This is a lot less then the 50% of the world wide production mentioned in the comments...\n",
    "\n",
    "Now check the bauxite market to see if there's a higher production volume there.."
   ]
  },
  {
   "cell_type": "code",
   "execution_count": 79,
   "id": "a48aff57-d1a6-4a49-8375-30b6752dff3d",
   "metadata": {},
   "outputs": [],
   "source": [
    "bauxite_market = [act for act in ei if 'bauxite' in act['reference product'] and 'market for bauxite' in act['name']][0]\n"
   ]
  },
  {
   "cell_type": "code",
   "execution_count": 83,
   "id": "d779608d-36d9-4ea5-93f7-ecd835cef7a8",
   "metadata": {},
   "outputs": [
    {
     "data": {
      "text/plain": [
       "285.4831"
      ]
     },
     "execution_count": 83,
     "metadata": {},
     "output_type": "execute_result"
    }
   ],
   "source": [
    "bauxite_market.rp_exchange().as_dict()['production volume']/1e6"
   ]
  },
  {
   "cell_type": "markdown",
   "id": "ce43e9b7-89a7-4249-af49-1de3178a8a50",
   "metadata": {},
   "source": [
    "Nope... and by the looks of things below no al. content"
   ]
  },
  {
   "cell_type": "code",
   "execution_count": 84,
   "id": "d89257b1-0639-4e9a-9366-07cccd59ca10",
   "metadata": {},
   "outputs": [
    {
     "data": {
      "text/plain": [
       "{'flow': '6e6b1247-4f6e-44a8-b22f-7ff81a0e461a',\n",
       " 'type': 'production',\n",
       " 'name': 'bauxite',\n",
       " 'classifications': {'CPC': ['14290: Other non-ferrous metal ores and concentrates (other than uranium or thorium ores and concentrates)']},\n",
       " 'production volume': 285483100.0,\n",
       " 'properties': {'carbon allocation': {'amount': 0.0, 'unit': 'kg'},\n",
       "  'carbon content': {'amount': 0.0, 'unit': 'dimensionless'},\n",
       "  'carbon content, fossil': {'amount': 0.0, 'unit': 'dimensionless'},\n",
       "  'carbon content, non-fossil': {'amount': 0.0, 'unit': 'dimensionless'},\n",
       "  'dry mass': {'amount': 1.0, 'unit': 'kg'},\n",
       "  'price': {'amount': 0.033, 'unit': 'EUR2005'},\n",
       "  'water content': {'amount': 0.0, 'unit': 'dimensionless'},\n",
       "  'water in wet mass': {'amount': 0.0, 'unit': 'kg'},\n",
       "  'wet mass': {'amount': 1.0, 'unit': 'kg'}},\n",
       " 'activity': 'd061f63a-9447-5dbe-9cea-f4c36abc54f2',\n",
       " 'unit': 'kilogram',\n",
       " 'amount': 1.0,\n",
       " 'uncertainty type': 0,\n",
       " 'loc': 1.0,\n",
       " 'input': ('ecoinvent 3.9', '9bb04916c547d1f289aac9b8faf49dc3'),\n",
       " 'output': ('ecoinvent 3.9', '9bb04916c547d1f289aac9b8faf49dc3')}"
      ]
     },
     "execution_count": 84,
     "metadata": {},
     "output_type": "execute_result"
    }
   ],
   "source": [
    "bauxite_market.rp_exchange().as_dict()"
   ]
  },
  {
   "cell_type": "code",
   "execution_count": 112,
   "id": "8898bf78-3faf-410c-b0f9-0485f45e0586",
   "metadata": {},
   "outputs": [],
   "source": [
    "car = [act for act in ei if 'transport, passenger car, medium size, petrol, EURO 4' in act['name']][0]"
   ]
  },
  {
   "cell_type": "code",
   "execution_count": 113,
   "id": "c19f22ec-2895-42bb-a5d0-3d83c750819c",
   "metadata": {},
   "outputs": [
    {
     "data": {
      "text/plain": [
       "'transport, passenger car, medium size, petrol, EURO 4' (kilometer, RoW, None)"
      ]
     },
     "execution_count": 113,
     "metadata": {},
     "output_type": "execute_result"
    }
   ],
   "source": [
    "car"
   ]
  },
  {
   "cell_type": "code",
   "execution_count": 114,
   "id": "4df7fa25-8cda-440c-8cdb-fa033202c487",
   "metadata": {},
   "outputs": [
    {
     "data": {
      "text/plain": [
       "[Exchange: -7.55254e-06 kilogram 'market for brake wear emissions, passenger car' (kilogram, GLO, None) to 'transport, passenger car, medium size, petrol, EURO 4' (kilometer, RoW, None)>,\n",
       " Exchange: 8.6021505376344e-06 unit 'market for passenger car maintenance' (unit, GLO, None) to 'transport, passenger car, medium size, petrol, EURO 4' (kilometer, RoW, None)>,\n",
       " Exchange: 0.0106666666666667 kilogram 'market for passenger car, petrol/natural gas' (kilogram, GLO, None) to 'transport, passenger car, medium size, petrol, EURO 4' (kilometer, RoW, None)>,\n",
       " Exchange: 0.0653567936 kilogram 'market for petrol, low-sulfur' (kilogram, RoW, None) to 'transport, passenger car, medium size, petrol, EURO 4' (kilometer, RoW, None)>,\n",
       " Exchange: 0.0009113964 meter-year 'market for road' (meter-year, GLO, None) to 'transport, passenger car, medium size, petrol, EURO 4' (kilometer, RoW, None)>,\n",
       " Exchange: 0.000265427119835466 meter-year 'market for road maintenance' (meter-year, RoW, None) to 'transport, passenger car, medium size, petrol, EURO 4' (kilometer, RoW, None)>,\n",
       " Exchange: -1.6615588e-05 kilogram 'market for road wear emissions, passenger car' (kilogram, GLO, None) to 'transport, passenger car, medium size, petrol, EURO 4' (kilometer, RoW, None)>,\n",
       " Exchange: -9.71647e-05 kilogram 'market for tyre wear emissions, passenger car' (kilogram, GLO, None) to 'transport, passenger car, medium size, petrol, EURO 4' (kilometer, RoW, None)>]"
      ]
     },
     "execution_count": 114,
     "metadata": {},
     "output_type": "execute_result"
    }
   ],
   "source": [
    "[exc for exc in car.technosphere()]"
   ]
  },
  {
   "cell_type": "code",
   "execution_count": null,
   "id": "4e92bf9a-dfa0-4c2d-95e1-a03f48c0ee9f",
   "metadata": {},
   "outputs": [],
   "source": []
  }
 ],
 "metadata": {
  "kernelspec": {
   "display_name": "Python [conda env:bw25]",
   "language": "python",
   "name": "conda-env-bw25-py"
  },
  "language_info": {
   "codemirror_mode": {
    "name": "ipython",
    "version": 3
   },
   "file_extension": ".py",
   "mimetype": "text/x-python",
   "name": "python",
   "nbconvert_exporter": "python",
   "pygments_lexer": "ipython3",
   "version": "3.11.0"
  }
 },
 "nbformat": 4,
 "nbformat_minor": 5
}
